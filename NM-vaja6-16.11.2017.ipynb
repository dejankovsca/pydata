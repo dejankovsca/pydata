{
 "cells": [
  {
   "cell_type": "code",
   "execution_count": 1,
   "metadata": {},
   "outputs": [
    {
     "name": "stderr",
     "output_type": "stream",
     "text": [
      "/opt/anaconda/lib/python3.6/site-packages/matplotlib/font_manager.py:280: UserWarning: Matplotlib is building the font cache using fc-list. This may take a moment.\n",
      "  'Matplotlib is building the font cache using fc-list. '\n"
     ]
    }
   ],
   "source": [
    "import numpy as np\n",
    "np.set_printoptions(precision=5)\n",
    "import matplotlib.pyplot as plt\n",
    "%matplotlib inline"
   ]
  },
  {
   "cell_type": "markdown",
   "metadata": {},
   "source": [
    "# za seminar: \n",
    "* primer: \n",
    "    * npr. graf pomirjenih točk povesa nosilca - interpoliramo, integriramo\n",
    "    * dif enačba - hitrost avta, zapelje na most - reakcije v podporah (navežemo naloge eno na drugo če ni vse v eni nalogi)\n",
    "* zakaj smo izbrali to metodo - primerjamo z ostalimi, razlika v rezultatu -> na koncu naloge \n",
    "* dodatne vsebine:\n",
    "    * izviren primer - dodatne točke (nosilci ne!)\n",
    "    * naše funkcije shranjene v modulu in importane\n",
    "    * animacije, uporabniški umesnik\n",
    "    \n",
    "    \n",
    "* **NE** za vsako nalogo svoj primer!!!\n",
    "\n",
    "* v pypinm - mapa orodja - profesorjeva koda moduli -> če uporabiš - komentar kaj se zgodi, prednosti, slabosti..."
   ]
  },
  {
   "cell_type": "markdown",
   "metadata": {},
   "source": [
    "# LU razcep"
   ]
  },
  {
   "cell_type": "markdown",
   "metadata": {},
   "source": [
    "* primer nosilca: sistem enačb, če spreminjamo kote sil -> spremenijo se desne strani enačb, leva ostane enaka\n",
    "* pri velikih sistemih - gaussova eliminacija traja nekaj časa - hitrejše z LU razcepom (se malo spreminja sistem - samo desna stran)\n",
    "\n",
    "\n",
    "* A = LU , L spodnje trikotna, U zgornje trikotna\n",
    "* **naprej na listu vaj zadaj...**"
   ]
  },
  {
   "cell_type": "markdown",
   "metadata": {},
   "source": [
    "# Naloge\n",
    "spomnimo se Gaussove eliminacije od zadnič..."
   ]
  },
  {
   "cell_type": "code",
   "execution_count": 14,
   "metadata": {
    "collapsed": true
   },
   "outputs": [],
   "source": [
    "def gauss_eliminacija(A, b):\n",
    "    \n",
    "    Ab = np.column_stack((A, b))\n",
    "    n = len(b)\n",
    "    \n",
    "    for i in range(0, n-1):\n",
    "        for j in range(i+1, n):\n",
    "            lam = Ab[j, i]/Ab[i, i]\n",
    "            Ab[j] -= Ab[i]*lam\n",
    "    return Ab   "
   ]
  },
  {
   "cell_type": "markdown",
   "metadata": {},
   "source": [
    "v prof. predavanjih -> enumerate - vrača indeks in vrstice (namesto samo vrstic)"
   ]
  },
  {
   "cell_type": "code",
   "execution_count": 16,
   "metadata": {
    "collapsed": true
   },
   "outputs": [],
   "source": [
    "def gauss_resitev(Ab):\n",
    "    A = Ab.copy()[:, :-1]\n",
    "    b = Ab.copy()[:, -1]\n",
    "    n = Ab.shape[0]\n",
    "    x = np.zeros(n)\n",
    "    \n",
    "    for i in range(n-1, -1, -1):\n",
    "        x[i] = (b[i] - np.dot(A[i, i+1:], x[i+1:])) / A[i, i]\n",
    "        \n",
    "    return x"
   ]
  },
  {
   "cell_type": "code",
   "execution_count": 12,
   "metadata": {},
   "outputs": [],
   "source": [
    "def LU_razcep(A):\n",
    "    \n",
    "    LU = A.copy()\n",
    "    \n",
    "    for p, pivot_vrstica in enumerate(LU[:-1]):\n",
    "        for vrsta in LU[p+1:]:\n",
    "            if vrsta[p]:\n",
    "                m= vrsta[p]/pivot_vrsta[p]\n",
    "                vrsta[p:] = vrsta[p:] - pivot_vrsta[p:] * m\n",
    "                vrsta[p] = m\n",
    "    return LU"
   ]
  },
  {
   "cell_type": "code",
   "execution_count": 13,
   "metadata": {
    "collapsed": true
   },
   "outputs": [],
   "source": [
    "def LU_resitev(LU, b):\n",
    "    n = LU.shape[0]\n",
    "    x = np.zeros(n)\n",
    "    y = np.zeros(n)\n",
    "    \n",
    "    #direktno vstavljanje, rešujemo: Ly = b\n",
    "    for i in range(n):\n",
    "        y[i] = (b[i] - np.dot(y[:i], LU[i, :i])) #vsi y pred tistim, ki ga računamo -> pred diagonalo Lja = do i-ja -> diagonale so enke - z ničemer ne delimo! \n",
    "    \n",
    "    #obratno vstavljanje\n",
    "    for i in range(n-1, -1, -1):\n",
    "        x[i] = (y[i] - np.dot(LU[i, i+1:], x[i+1:])) / LU[i, i]\n",
    "        \n",
    "    return x"
   ]
  },
  {
   "cell_type": "code",
   "execution_count": 24,
   "metadata": {
    "collapsed": true
   },
   "outputs": [],
   "source": [
    "l = 1.5 #m\n",
    "a = 0.55 #m\n",
    "F = 85 #N\n",
    "seznam_phi = [0, np.pi/4]"
   ]
  },
  {
   "cell_type": "code",
   "execution_count": 25,
   "metadata": {},
   "outputs": [
    {
     "name": "stdout",
     "output_type": "stream",
     "text": [
      "[ 85.   0.   0.]\n",
      "[ 60.10408  38.06592  22.03816]\n"
     ]
    }
   ],
   "source": [
    "A = np.array([[1, 0, 0], [0, 1, 1], [0, 0, l]])\n",
    "\n",
    "LU = LU_razcep(A)\n",
    "\n",
    "for i in  seznam_phi:\n",
    "    b = np.array([F*np.cos(i), F*np.sin(i), F*a*np.sin(i)])\n",
    "    x = LU_resitev(LU, b)\n",
    "    print(x)"
   ]
  },
  {
   "cell_type": "markdown",
   "metadata": {},
   "source": [
    "# Pivotiranje\n",
    "* zamenjava vrstic med sabo\n",
    "* na diagonali ne želimo 0 -> nedefinirano, ali blizu nič -> slabo pogojen sistem\n",
    "* abs(Aii) > sum(abs(Aij)) - idealno"
   ]
  },
  {
   "cell_type": "markdown",
   "metadata": {},
   "source": [
    "napredno rezanje:\n",
    "Ab[[p], :], Ab[[p_,max], :] = Ab[[p_max], :], Ab[[p], :] -> oglati oklepaji kopirajo vrstice in zamenjajo!"
   ]
  },
  {
   "cell_type": "code",
   "execution_count": 40,
   "metadata": {
    "collapsed": true
   },
   "outputs": [],
   "source": [
    "def gauss_eliminacija_pivotiranje(A, b):\n",
    "    Ab = np.column_stack((A, b))\n",
    "        \n",
    "    for p, pivot_vrstica in enumerate(Ab[:-1]):\n",
    "        p_max = np.argmax(np.abs(Ab[p:, p])) + p #brez +p najde največji element v opazovanem seznamu -> glej na listu spodaj zraven grafa! \n",
    "        if p != p_max:\n",
    "            Ab[[p], :], Ab[[p_max], :] = Ab[[p_max], :], Ab[[p], :]\n",
    "            pivot_vrsta = Ab[p]\n",
    "        \n",
    "        for vrsta in Ab[p+1:]:\n",
    "            if vrsta[p]: #če element v stolpcu p v trenutni vrstici - če je že nič = false\n",
    "                m= vrsta[p]/pivot_vrsta[p]\n",
    "                vrsta[p:] = vrsta[p:] - pivot_vrsta[p:] * m\n",
    "    return Ab   "
   ]
  },
  {
   "cell_type": "code",
   "execution_count": 27,
   "metadata": {
    "collapsed": true
   },
   "outputs": [],
   "source": [
    "l = 1 #m\n",
    "M_A = 9.5 # Nm\n",
    "A_y = 12 #N\n",
    "alpha = np.pi/4 #rad"
   ]
  },
  {
   "cell_type": "code",
   "execution_count": 30,
   "metadata": {},
   "outputs": [
    {
     "data": {
      "text/plain": [
       "array([[ 0.     ,  0.70711,  1.     ],\n",
       "       [ 0.     ,  0.70711,  0.     ],\n",
       "       [ 1.     ,  0.70711,  0.     ]])"
      ]
     },
     "execution_count": 30,
     "metadata": {},
     "output_type": "execute_result"
    }
   ],
   "source": [
    "A = np.array([[0, np.cos(alpha), 1],\n",
    "             [0, np.sin(alpha), 0],\n",
    "             [1, np.sin(alpha)*l, 0]])\n",
    "A #težava matrike = nule v prvi vrstici -rabimo pivotiranje"
   ]
  },
  {
   "cell_type": "code",
   "execution_count": 31,
   "metadata": {},
   "outputs": [
    {
     "data": {
      "text/plain": [
       "array([  0. ,  12. ,   9.5])"
      ]
     },
     "execution_count": 31,
     "metadata": {},
     "output_type": "execute_result"
    }
   ],
   "source": [
    "b = np.array([0, A_y, M_A])\n",
    "b"
   ]
  },
  {
   "cell_type": "code",
   "execution_count": 32,
   "metadata": {},
   "outputs": [
    {
     "name": "stderr",
     "output_type": "stream",
     "text": [
      "/opt/anaconda/lib/python3.6/site-packages/ipykernel_launcher.py:8: RuntimeWarning: invalid value encountered in double_scalars\n",
      "  \n",
      "/opt/anaconda/lib/python3.6/site-packages/ipykernel_launcher.py:8: RuntimeWarning: divide by zero encountered in double_scalars\n",
      "  \n",
      "/opt/anaconda/lib/python3.6/site-packages/ipykernel_launcher.py:9: RuntimeWarning: invalid value encountered in multiply\n",
      "  if __name__ == '__main__':\n"
     ]
    },
    {
     "data": {
      "text/plain": [
       "array([[ 0.     ,  0.70711,  1.     ,  0.     ],\n",
       "       [     nan,      nan,      nan,      nan],\n",
       "       [     nan,      nan,      nan,      nan]])"
      ]
     },
     "execution_count": 32,
     "metadata": {},
     "output_type": "execute_result"
    }
   ],
   "source": [
    "gauss_eliminacija(A, b) #negre ker so ničle!"
   ]
  },
  {
   "cell_type": "code",
   "execution_count": 36,
   "metadata": {},
   "outputs": [
    {
     "data": {
      "text/plain": [
       "array([[  1.     ,   0.70711,   0.     ,   9.5    ],\n",
       "       [  0.     ,   0.70711,   1.     ,   0.     ],\n",
       "       [  0.     ,   0.     ,  -1.     ,  12.     ]])"
      ]
     },
     "execution_count": 36,
     "metadata": {},
     "output_type": "execute_result"
    }
   ],
   "source": [
    "Ab = gauss_eliminacija_pivotiranje(A, b) #je pivotirana\n",
    "Ab"
   ]
  },
  {
   "cell_type": "code",
   "execution_count": 37,
   "metadata": {},
   "outputs": [
    {
     "data": {
      "text/plain": [
       "array([ -2.5    ,  16.97056, -12.     ])"
      ]
     },
     "execution_count": 37,
     "metadata": {},
     "output_type": "execute_result"
    }
   ],
   "source": [
    "gauss_resitev(Ab)"
   ]
  },
  {
   "cell_type": "code",
   "execution_count": 39,
   "metadata": {},
   "outputs": [
    {
     "data": {
      "text/plain": [
       "array([ -2.5    ,  16.97056, -12.     ])"
      ]
     },
     "execution_count": 39,
     "metadata": {},
     "output_type": "execute_result"
    }
   ],
   "source": [
    "np.linalg.solve(A, b) #smo vredu sprogramirali!"
   ]
  },
  {
   "cell_type": "markdown",
   "metadata": {},
   "source": [
    "# LU razcep z pivotiranjem\n",
    "* končna koda v prof. predavanjih\n",
    "* LU razcep = pivotiranje samo A - moramo shraniti še spremembo vrstic -> da spremenimo tudi b v gauss_resitev"
   ]
  },
  {
   "cell_type": "markdown",
   "metadata": {},
   "source": [
    "# LU razcep, Gaussova eliminacija v scipy\n",
    "* LU_razcep(A) == scipy.linalg.lu_factor(A)\n",
    "* LU_resitev(A) == scipy.linalg.lu_solve(A)"
   ]
  },
  {
   "cell_type": "code",
   "execution_count": 41,
   "metadata": {},
   "outputs": [
    {
     "data": {
      "text/plain": [
       "array([[ 0.     ,  0.70711,  1.     ],\n",
       "       [ 0.     ,  0.70711,  0.     ],\n",
       "       [ 1.     ,  0.70711,  0.     ]])"
      ]
     },
     "execution_count": 41,
     "metadata": {},
     "output_type": "execute_result"
    }
   ],
   "source": [
    "A"
   ]
  },
  {
   "cell_type": "code",
   "execution_count": 42,
   "metadata": {},
   "outputs": [
    {
     "data": {
      "text/plain": [
       "array([  0. ,  12. ,   9.5])"
      ]
     },
     "execution_count": 42,
     "metadata": {},
     "output_type": "execute_result"
    }
   ],
   "source": [
    "b"
   ]
  },
  {
   "cell_type": "code",
   "execution_count": 45,
   "metadata": {
    "collapsed": true
   },
   "outputs": [],
   "source": [
    "from scipy.linalg import lu, lu_factor, lu_solve"
   ]
  },
  {
   "cell_type": "code",
   "execution_count": 44,
   "metadata": {},
   "outputs": [
    {
     "data": {
      "text/plain": [
       "array([ -2.5    ,  16.97056, -12.     ])"
      ]
     },
     "execution_count": 44,
     "metadata": {},
     "output_type": "execute_result"
    }
   ],
   "source": [
    "LU, pivot = lu_factor(A)\n",
    "x = lu_solve((LU, pivot), b)\n",
    "x"
   ]
  },
  {
   "cell_type": "code",
   "execution_count": 46,
   "metadata": {},
   "outputs": [
    {
     "data": {
      "text/plain": [
       "array([[  1.     ,   0.70711,   0.     ,   9.5    ],\n",
       "       [  0.     ,   0.70711,   1.     ,   0.     ],\n",
       "       [  0.     ,   0.     ,  -1.     ,  12.     ]])"
      ]
     },
     "execution_count": 46,
     "metadata": {},
     "output_type": "execute_result"
    }
   ],
   "source": [
    "gauss_eliminacija_pivotiranje(A, b)"
   ]
  },
  {
   "cell_type": "code",
   "execution_count": 50,
   "metadata": {},
   "outputs": [
    {
     "name": "stdout",
     "output_type": "stream",
     "text": [
      "[[ 1.  0.  0.]\n",
      " [ 0.  1.  0.]\n",
      " [ 0.  1.  1.]]\n",
      "[[ 1.       0.70711  0.     ]\n",
      " [ 0.       0.70711  1.     ]\n",
      " [ 0.       0.      -1.     ]]\n"
     ]
    },
    {
     "data": {
      "text/plain": [
       "array([[ 0.,  1.,  0.],\n",
       "       [ 0.,  0.,  1.],\n",
       "       [ 1.,  0.,  0.]])"
      ]
     },
     "execution_count": 50,
     "metadata": {},
     "output_type": "execute_result"
    }
   ],
   "source": [
    "perm, L, U = lu(A)\n",
    "print(L)\n",
    "print(U) #gaussova eliminacija\n",
    "perm #vrstni red vrstic po pivotiranju"
   ]
  },
  {
   "cell_type": "markdown",
   "metadata": {},
   "source": [
    "# Računaje inverza matrike"
   ]
  },
  {
   "cell_type": "code",
   "execution_count": 52,
   "metadata": {},
   "outputs": [
    {
     "data": {
      "text/plain": [
       "array([[ 0.     , -1.     ,  1.     ],\n",
       "       [ 0.     ,  1.41421,  0.     ],\n",
       "       [ 1.     , -1.     ,  0.     ]])"
      ]
     },
     "execution_count": 52,
     "metadata": {},
     "output_type": "execute_result"
    }
   ],
   "source": [
    "np.linalg.inv(A) #mi rabimo samo to znat - na teoriji klv - tudi izpeljavo"
   ]
  },
  {
   "cell_type": "markdown",
   "metadata": {},
   "source": [
    "# Reševanje predoločenih sistemov - PSEVDO INVERZ\n",
    "* A⁺ = (A.T \\* A)^(-1) \\* A.T"
   ]
  },
  {
   "cell_type": "code",
   "execution_count": 57,
   "metadata": {},
   "outputs": [
    {
     "data": {
      "text/plain": [
       "[<matplotlib.lines.Line2D at 0x7f78e29b60b8>]"
      ]
     },
     "execution_count": 57,
     "metadata": {},
     "output_type": "execute_result"
    },
    {
     "data": {
      "image/png": "[encoded data removed]",
      "text/plain": [
       "<matplotlib.figure.Figure at 0x7f78e2acc7b8>"
      ]
     },
     "metadata": {},
     "output_type": "display_data"
    }
   ],
   "source": [
    "X = np.linspace(1, 10, 100)\n",
    "Y = 0.7*X - 15.5 + np.random.randn(len(X))\n",
    "plt.plot(X, Y , 'b.')"
   ]
  },
  {
   "cell_type": "code",
   "execution_count": 58,
   "metadata": {},
   "outputs": [
    {
     "name": "stdout",
     "output_type": "stream",
     "text": [
      "0.659240278648 -15.2415113738\n"
     ]
    }
   ],
   "source": [
    "A = np.column_stack((X, np.ones_like(X)))\n",
    "b = Y\n",
    "A_p = np.linalg.pinv(A) #psevdo inverz\n",
    "k, n = A_p @ b\n",
    "print(k, n)"
   ]
  },
  {
   "cell_type": "code",
   "execution_count": 59,
   "metadata": {},
   "outputs": [
    {
     "data": {
      "text/plain": [
       "[<matplotlib.lines.Line2D at 0x7f78e29c5a58>]"
      ]
     },
     "execution_count": 59,
     "metadata": {},
     "output_type": "execute_result"
    },
    {
     "data": {
      "image/png": "[encoded data removed]",
      "text/plain": [
       "<matplotlib.figure.Figure at 0x7f78e29c5eb8>"
      ]
     },
     "metadata": {},
     "output_type": "display_data"
    }
   ],
   "source": [
    "plt.plot(X, Y , 'b.')\n",
    "plt.plot(X, k*X+n, 'r-')"
   ]
  },
  {
   "cell_type": "markdown",
   "metadata": {},
   "source": [
    "# Iterativne metode - na teoriji lahko pride!!"
   ]
  }
 ],
 "metadata": {
  "kernelspec": {
   "display_name": "Python 3",
   "language": "python",
   "name": "python3"
  },
  "language_info": {
   "codemirror_mode": {
    "name": "ipython",
    "version": 3
   },
   "file_extension": ".py",
   "mimetype": "text/x-python",
   "name": "python",
   "nbconvert_exporter": "python",
   "pygments_lexer": "ipython3",
   "version": "3.6.2"
  }
 },
 "nbformat": 4,
 "nbformat_minor": 2
}
