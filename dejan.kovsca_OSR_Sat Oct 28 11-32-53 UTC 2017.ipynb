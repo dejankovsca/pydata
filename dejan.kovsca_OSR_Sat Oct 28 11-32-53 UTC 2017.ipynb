{
 "cells": [
  {
   "cell_type": "code",
   "execution_count": 1,
   "metadata": {},
   "outputs": [
    {
     "name": "stdout",
     "output_type": "stream",
     "text": [
      "Downloading file: mojladisksi.py\n"
     ]
    }
   ],
   "source": [
    "from sync import sync\n",
    "sync('/moj.ladisk.si/mojladisksi.py')\n",
    "from mojladisksi import poslji\n",
    "import numpy as np\n"
   ]
  },
  {
   "cell_type": "markdown",
   "metadata": {},
   "source": [
    "# OSR\n",
    "\n",
    "Kovšca Dejan, 23160187, dejan.kovsca@gmail.com\n",
    "\n",
    "Pričetek reševanja: Sat Oct 28 11:32:53 UTC 2017"
   ]
  },
  {
   "cell_type": "markdown",
   "metadata": {},
   "source": [
    "Ponovitev bistvenih korakov predavanja Objektno programiranje, simbolno računanje, https://github.com/jankoslavic/pypinm."
   ]
  },
  {
   "cell_type": "markdown",
   "metadata": {},
   "source": [
    "<img width=500 src='dejan.kovsca_OSR_Sat Oct 28 11-32-53 UTC 2017.jpg'>"
   ]
  },
  {
   "cell_type": "code",
   "execution_count": 2,
   "metadata": {
    "collapsed": true
   },
   "outputs": [],
   "source": [
    "h = 15 # mm\n",
    "L = 17.5 # mm\n",
    "n = 7 # \n",
    "p_0 = 0.75 # rad\n",
    "R = 5 # mm\n",
    "V = 1104.75 # mm$^3$"
   ]
  },
  {
   "cell_type": "markdown",
   "metadata": {},
   "source": [
    "### 1. vprašanje\n",
    "\n",
    " Objektno programiranje temelji na razredih, ki jih definiramo z ukazom ``class``. Objekt, ki ga ustvarimo, je instanca razreda! (1: Da, 2: Ne)\n",
    "\n",
    "Število poskusov: 1."
   ]
  },
  {
   "cell_type": "code",
   "execution_count": 3,
   "metadata": {
    "collapsed": true
   },
   "outputs": [],
   "source": [
    "odgovor1 = 1#?"
   ]
  },
  {
   "cell_type": "code",
   "execution_count": 4,
   "metadata": {},
   "outputs": [
    {
     "name": "stdout",
     "output_type": "stream",
     "text": [
      "Pravilna rešitev. Uspeh: 5%. Preostali čas: 2dni,17ur, 27min\n"
     ]
    }
   ],
   "source": [
    "poslji(odgovor1, id=515173755953283072, st=0)"
   ]
  },
  {
   "cell_type": "markdown",
   "metadata": {},
   "source": [
    "### 2. vprašanje\n",
    "\n",
    " Ko ustvarimo nov objekt, se najprej izvede ``__init__`` metoda (konstruktor) klicanega razreda! (1: Da, 2: Ne)\n",
    "\n",
    "Število poskusov: 1."
   ]
  },
  {
   "cell_type": "code",
   "execution_count": 4,
   "metadata": {
    "collapsed": true
   },
   "outputs": [],
   "source": [
    "odgovor2 = 1#?"
   ]
  },
  {
   "cell_type": "code",
   "execution_count": 6,
   "metadata": {},
   "outputs": [
    {
     "name": "stdout",
     "output_type": "stream",
     "text": [
      "Pravilna rešitev. Uspeh: 11%. Preostali čas: 2dni,17ur, 27min\n"
     ]
    }
   ],
   "source": [
    "poslji(odgovor2, id=815173755953283072, st=1)"
   ]
  },
  {
   "cell_type": "markdown",
   "metadata": {},
   "source": [
    "### 3. vprašanje\n",
    "\n",
    " Spremenljivka ``self``, ki se kot prvi argument posreduje vsaki metodi razreda, je referenca na ustvarjen objekt - instanco razreda! (1: Da, 2: Ne)\n",
    "\n",
    "Število poskusov: 1."
   ]
  },
  {
   "cell_type": "code",
   "execution_count": 5,
   "metadata": {
    "collapsed": true
   },
   "outputs": [],
   "source": [
    "odgovor3 = 1#?"
   ]
  },
  {
   "cell_type": "code",
   "execution_count": 8,
   "metadata": {},
   "outputs": [
    {
     "name": "stdout",
     "output_type": "stream",
     "text": [
      "Pravilna rešitev. Uspeh: 16%. Preostali čas: 2dni,17ur, 27min\n"
     ]
    }
   ],
   "source": [
    "poslji(odgovor3, id=615173755953283072, st=2)"
   ]
  },
  {
   "cell_type": "markdown",
   "metadata": {},
   "source": [
    "### 4. vprašanje\n",
    "\n",
    " Ustvarite razred ``CetrtinaKroga``, ki pri kreiranju instance zahteva dva argumenta, polmer $R$ in debelino $h$. V konstruktorju naj ta dva argumenta shrani v spremenljivki objekta, ``self.polmer`` in ``self.debelina``. Ustvarite objekt ``CetrtinaKroga`` s podatki naloge in vnesite urejen seznam ključev slovarja atributov ustvarjenega objekta (Namig: uporabite``sorted(ime_objekta.__dict__.keys())``.)\n",
    "\n",
    "Število poskusov: 3."
   ]
  },
  {
   "cell_type": "code",
   "execution_count": 3,
   "metadata": {
    "collapsed": true
   },
   "outputs": [],
   "source": [
    "class CetrtinaKroga:\n",
    "    '''Razred CetrtinaKroga v.1'''\n",
    "    \n",
    "    def __init__(self, R=1, h=1):\n",
    "        self.polmer = R\n",
    "        self.debelina = h"
   ]
  },
  {
   "cell_type": "code",
   "execution_count": 4,
   "metadata": {},
   "outputs": [
    {
     "data": {
      "text/plain": [
       "['debelina', 'polmer']"
      ]
     },
     "execution_count": 4,
     "metadata": {},
     "output_type": "execute_result"
    }
   ],
   "source": [
    "cetrtinakroga = CetrtinaKroga(R=R, h=h)\n",
    "odgovor4 = sorted(cetrtinakroga.__dict__.keys())#?\n",
    "odgovor4"
   ]
  },
  {
   "cell_type": "code",
   "execution_count": 11,
   "metadata": {},
   "outputs": [
    {
     "name": "stdout",
     "output_type": "stream",
     "text": [
      "Pravilna rešitev. Uspeh: 22%. Preostali čas: 2dni,17ur, 26min\n"
     ]
    }
   ],
   "source": [
    "poslji(odgovor4, id=215173755953283072, st=3)"
   ]
  },
  {
   "cell_type": "markdown",
   "metadata": {},
   "source": [
    "### 5. vprašanje\n",
    "\n",
    " Razred ``CetrtinaKroga`` razširite z metodo ``izracunaj_volumen`` ki uporabi vrednosti ``self.polmer`` in ``self.debelina`` pri izračunu volumna telesa na sliki s podano debelino  ($V = h~\\pi r^2 / 4$). Izračunano vrednost naj shrani v spremenljivko objekta ``self.volumen``. Pokličite metodo ``izracunaj_volumen`` objekta, ustvarjenega z uporabo podatkov naloge. Vnesite urejen seznam ključev slovarja atributov objekta.\n",
    "\n",
    "Število poskusov: 3."
   ]
  },
  {
   "cell_type": "code",
   "execution_count": 5,
   "metadata": {
    "collapsed": true
   },
   "outputs": [],
   "source": [
    "class CetrtinaKroga:\n",
    "    '''Razred CetrtinaKroga v.2'''\n",
    "    \n",
    "    def __init__(self, R=1, h=1):\n",
    "        self.polmer = R\n",
    "        self.debelina = h\n",
    "        \n",
    "    def izracunaj_volumen(self):\n",
    "        import numpy as np\n",
    "        self.volumen = (self.debelina*np.pi*(self.polmer**2))/4\n",
    "        return self.volumen"
   ]
  },
  {
   "cell_type": "code",
   "execution_count": 6,
   "metadata": {},
   "outputs": [
    {
     "data": {
      "text/plain": [
       "294.5243112740431"
      ]
     },
     "execution_count": 6,
     "metadata": {},
     "output_type": "execute_result"
    }
   ],
   "source": [
    "cetrtinakroga = CetrtinaKroga(R=R, h=h)\n",
    "cetrtinakroga.izracunaj_volumen()\n",
    "cetrtinakroga.volumen"
   ]
  },
  {
   "cell_type": "code",
   "execution_count": 7,
   "metadata": {},
   "outputs": [
    {
     "data": {
      "text/plain": [
       "['debelina', 'polmer', 'volumen']"
      ]
     },
     "execution_count": 7,
     "metadata": {},
     "output_type": "execute_result"
    }
   ],
   "source": [
    "odgovor5 = sorted(cetrtinakroga.__dict__.keys())#?\n",
    "odgovor5"
   ]
  },
  {
   "cell_type": "code",
   "execution_count": 15,
   "metadata": {},
   "outputs": [
    {
     "name": "stdout",
     "output_type": "stream",
     "text": [
      "Pravilna rešitev. Uspeh: 27%. Preostali čas: 2dni,17ur, 20min\n"
     ]
    }
   ],
   "source": [
    "poslji(odgovor5, id=415173755953283072, st=4)"
   ]
  },
  {
   "cell_type": "markdown",
   "metadata": {},
   "source": [
    "### 6. vprašanje\n",
    "\n",
    " ``SymPy`` je knjižnjica za numerično računanje! (1: Da, 2: Ne)\n",
    "\n",
    "Število poskusov: 1."
   ]
  },
  {
   "cell_type": "code",
   "execution_count": 10,
   "metadata": {
    "collapsed": true
   },
   "outputs": [],
   "source": [
    "odgovor6 = 2#?"
   ]
  },
  {
   "cell_type": "code",
   "execution_count": 17,
   "metadata": {},
   "outputs": [
    {
     "name": "stdout",
     "output_type": "stream",
     "text": [
      "Pravilna rešitev. Uspeh: 33%. Preostali čas: 2dni,17ur, 20min\n"
     ]
    }
   ],
   "source": [
    "poslji(odgovor6, id=415173755953283072, st=5)"
   ]
  },
  {
   "cell_type": "markdown",
   "metadata": {},
   "source": [
    "### 7. vprašanje\n",
    "\n",
    " Simbolne izraze, dobljene s pomočjo knjižnjice ``SymPy``, je mogoče numerično vrednotiti in pretvoriti v numerične ``NumPy`` funkcije! (1: Da, 2: Ne)\n",
    "\n",
    "Število poskusov: 1."
   ]
  },
  {
   "cell_type": "code",
   "execution_count": 11,
   "metadata": {
    "collapsed": true
   },
   "outputs": [],
   "source": [
    "odgovor7 = 1#?"
   ]
  },
  {
   "cell_type": "code",
   "execution_count": 19,
   "metadata": {},
   "outputs": [
    {
     "name": "stdout",
     "output_type": "stream",
     "text": [
      "Pravilna rešitev. Uspeh: 38%. Preostali čas: 2dni,17ur, 20min\n"
     ]
    }
   ],
   "source": [
    "poslji(odgovor7, id=815173755953283072, st=6)"
   ]
  },
  {
   "cell_type": "markdown",
   "metadata": {},
   "source": [
    "### 8. vprašanje\n",
    "\n",
    " Uvozite ves imenski prostor knjižnjice ``SymPy`` in nastavite lepši izpis s funkcijo ``sympy.init_printing``. Določite vrednost konstante osnove naravnega logaritma $e$, že definirane v knjižnjici ``SymPy``, na $n$ decimalnih mest natančno. (Namig: konstanta $e$ je v knjižnjici ``SciPy`` shranjena pod imenom ``E``. Za numerično vrednotenje uporabite funkcijo ``evalf``.)\n",
    "\n",
    "Število poskusov: 3."
   ]
  },
  {
   "cell_type": "code",
   "execution_count": 8,
   "metadata": {
    "collapsed": true
   },
   "outputs": [],
   "source": [
    "import sympy as sym\n",
    "sym.init_printing()"
   ]
  },
  {
   "cell_type": "code",
   "execution_count": 9,
   "metadata": {},
   "outputs": [
    {
     "data": {
      "image/png": "[encoded data removed]",
      "text/latex": [
       "$$2.7182818$$"
      ],
      "text/plain": [
       "2.7182818"
      ]
     },
     "execution_count": 9,
     "metadata": {},
     "output_type": "execute_result"
    }
   ],
   "source": [
    "E = sym.E.evalf(n=n+1)\n",
    "E"
   ]
  },
  {
   "cell_type": "code",
   "execution_count": 10,
   "metadata": {},
   "outputs": [
    {
     "data": {
      "image/png": "[encoded data removed]",
      "text/latex": [
       "$$2.7182818$$"
      ],
      "text/plain": [
       "2.7182818"
      ]
     },
     "execution_count": 10,
     "metadata": {},
     "output_type": "execute_result"
    }
   ],
   "source": [
    "odgovor8 = E#?\n",
    "odgovor8"
   ]
  },
  {
   "cell_type": "code",
   "execution_count": 33,
   "metadata": {},
   "outputs": [
    {
     "name": "stdout",
     "output_type": "stream",
     "text": [
      "Pravilna rešitev. Uspeh: 44%. Preostali čas: 2dni,16ur, 33min\n"
     ]
    }
   ],
   "source": [
    "poslji(odgovor8, id=215173755953283072, st=7)"
   ]
  },
  {
   "cell_type": "markdown",
   "metadata": {},
   "source": [
    "### 9. vprašanje\n",
    "\n",
    " Definirajte ``SymPy`` izraz za izračun volumna telesa na sliki s polmerom $r$ in debelino $h$ (glejte definicijo naloge). Za podatke iz definicije naloge izračunajte numerično vrednost volumna na $n$ decimalnih mest natančno. (Namig: pomagajte si s funkcijo ``subs``.) (Pozor! Pri definiciji simbolov ne uporabite črk, ki označujejo podatke iz definicije naloge! Na ta način bi le-te namreč prepisali.)\n",
    "\n",
    "Število poskusov: 3, enote:  mm^3"
   ]
  },
  {
   "cell_type": "code",
   "execution_count": 11,
   "metadata": {},
   "outputs": [
    {
     "data": {
      "image/png": "[encoded data removed]",
      "text/latex": [
       "$$\\frac{\\pi h}{4} r^{2}$$"
      ],
      "text/plain": [
       "     2\n",
       "π⋅h⋅r \n",
       "──────\n",
       "  4   "
      ]
     },
     "execution_count": 11,
     "metadata": {},
     "output_type": "execute_result"
    }
   ],
   "source": [
    "r1, h1 = sym.symbols('r, h')\n",
    "parametri = {r1: R, h1: h}\n",
    "V1 = h1 * sym.pi * r1**2 / 4\n",
    "V1"
   ]
  },
  {
   "cell_type": "code",
   "execution_count": 12,
   "metadata": {},
   "outputs": [
    {
     "data": {
      "image/png": "[encoded data removed]",
      "text/latex": [
       "$$294.52431$$"
      ],
      "text/plain": [
       "294.52431"
      ]
     },
     "execution_count": 12,
     "metadata": {},
     "output_type": "execute_result"
    }
   ],
   "source": [
    "odgovor9 = V1.evalf(subs=parametri, n=n+1)#?\n",
    "odgovor9"
   ]
  },
  {
   "cell_type": "code",
   "execution_count": 37,
   "metadata": {},
   "outputs": [
    {
     "name": "stdout",
     "output_type": "stream",
     "text": [
      "Pravilna rešitev. Uspeh: 50%. Preostali čas: 2dni,16ur, 25min\n"
     ]
    }
   ],
   "source": [
    "poslji(odgovor9, id=415173755953283072, st=8)"
   ]
  },
  {
   "cell_type": "markdown",
   "metadata": {},
   "source": [
    "### 10. vprašanje\n",
    "\n",
    " Določite polmer ``r`` telesa na sliki, če sta podana vrednost volumna $V$ in višina $h$ (iz podatkov naloge). Rešitev podajte v obliki števila s plavajočo vejico, na $n$ mest natančno. (Namig: enačbo rešite z uporabo funkcije ``solve``. Vrednost $r$ je vedno pozitivna!)\n",
    "\n",
    "Število poskusov: 3, enote:  mm"
   ]
  },
  {
   "cell_type": "code",
   "execution_count": 13,
   "metadata": {
    "collapsed": true
   },
   "outputs": [],
   "source": [
    "def pozitivna_vrednost(seznam):\n",
    "    '''Vrne pozitivno vrednost seznama'''\n",
    "    for i in seznam:\n",
    "        if i >= 0:\n",
    "            return i"
   ]
  },
  {
   "cell_type": "code",
   "execution_count": 14,
   "metadata": {},
   "outputs": [
    {
     "data": {
      "image/png": "[encoded data removed]",
      "text/latex": [
       "$$9.6837024$$"
      ],
      "text/plain": [
       "9.6837024"
      ]
     },
     "execution_count": 14,
     "metadata": {},
     "output_type": "execute_result"
    }
   ],
   "source": [
    "V2, h2, r2 = sym.symbols('V, h, r')\n",
    "parametri1 = {V2: V, h2: h}\n",
    "enacba = sym.Eq(V2, h2 * sym.pi * r2**2 / 4).subs(parametri1)\n",
    "r2 = sym.solve(enacba, r2)\n",
    "r2_R = pozitivna_vrednost(r2)\n",
    "r2_R = r2_R.evalf(n=n+1)\n",
    "r2_R"
   ]
  },
  {
   "cell_type": "code",
   "execution_count": 15,
   "metadata": {},
   "outputs": [
    {
     "data": {
      "image/png": "[encoded data removed]",
      "text/latex": [
       "$$1104.75 = \\frac{15 \\pi}{4} r^{2}$$"
      ],
      "text/plain": [
       "                2\n",
       "          15⋅π⋅r \n",
       "1104.75 = ───────\n",
       "             4   "
      ]
     },
     "execution_count": 15,
     "metadata": {},
     "output_type": "execute_result"
    }
   ],
   "source": [
    "enacba"
   ]
  },
  {
   "cell_type": "code",
   "execution_count": 16,
   "metadata": {},
   "outputs": [
    {
     "data": {
      "image/png": "[encoded data removed]",
      "text/latex": [
       "$$9.6837024$$"
      ],
      "text/plain": [
       "9.6837024"
      ]
     },
     "execution_count": 16,
     "metadata": {},
     "output_type": "execute_result"
    }
   ],
   "source": [
    "odgovor10 = r2_R#?\n",
    "odgovor10"
   ]
  },
  {
   "cell_type": "code",
   "execution_count": 30,
   "metadata": {},
   "outputs": [
    {
     "name": "stdout",
     "output_type": "stream",
     "text": [
      "Pravilna rešitev. Uspeh: 55%. Preostali čas: 2dni,14ur, 47min\n"
     ]
    }
   ],
   "source": [
    "poslji(odgovor10, id=115173755953283072, st=9)"
   ]
  },
  {
   "cell_type": "markdown",
   "metadata": {},
   "source": [
    "### 11. vprašanje\n",
    "\n",
    " Z uporabo funkcije ``lambdify`` rešitev enačbe iz zgornje naloge pretvorite v ``NumPy`` funkcijo, ki za poljubno vrednost volumna telesa ``vol`` izračuna ustrezno vrednost polmera ``r``. Debelina $h$ naj ima vrednost iz podatkov naloge. Funkcijo uporabite na numeričnem polju ``vol = np.arange(500, 1000, 50)``, in vnesite rezultat. (Namig: enačbo rešite v odvisnosti od spremenljivke ``vol``, ne od konkretne vrednosti $V$! Pazite na poimenovanje spremenljivk.\n",
    "\n",
    "Število poskusov: 3, enote:  mm"
   ]
  },
  {
   "cell_type": "code",
   "execution_count": 45,
   "metadata": {},
   "outputs": [
    {
     "data": {
      "image/png": "[encoded data removed]",
      "text/latex": [
       "$$\\left [ - \\frac{2 \\sqrt{\\frac{V}{h}}}{\\sqrt{\\pi}}, \\quad \\frac{2 \\sqrt{\\frac{V}{h}}}{\\sqrt{\\pi}}\\right ]$$"
      ],
      "text/plain": [
       "⎡       ___         ___⎤\n",
       "⎢      ╱ V         ╱ V ⎥\n",
       "⎢-2⋅  ╱  ─    2⋅  ╱  ─ ⎥\n",
       "⎢   ╲╱   h      ╲╱   h ⎥\n",
       "⎢───────────, ─────────⎥\n",
       "⎣     √π          √π   ⎦"
      ]
     },
     "execution_count": 45,
     "metadata": {},
     "output_type": "execute_result"
    }
   ],
   "source": [
    "V2, h2, r2 = sym.symbols('V, h, r') #tudi tako se da..\n",
    "enacba = sym.Eq(V2, h2 * sym.pi * r2**2 / 4)\n",
    "r2 = sym.solve(enacba, r2)\n",
    "r2"
   ]
  },
  {
   "cell_type": "code",
   "execution_count": 17,
   "metadata": {
    "collapsed": true
   },
   "outputs": [],
   "source": [
    "V3, h3, r3 = sym.symbols('V, h, r')\n",
    "vol = np.arange(500, 1000, 50)\n",
    "parametri3 = {h3: h}\n",
    "izraz_r = (sym.sqrt((4*V3)/(15*sym.pi))).evalf(subs=parametri3)\n",
    "flam = sym.lambdify(V3, izraz_r)\n",
    "rezultati = flam(vol)"
   ]
  },
  {
   "cell_type": "code",
   "execution_count": 18,
   "metadata": {},
   "outputs": [
    {
     "data": {
      "text/plain": [
       "array([ 6.51470016,  6.83267517,  7.13649646,  7.42790102,  7.70829718,\n",
       "        7.97884561,  8.24051631,  8.49412979,  8.74038744,  8.97989446])"
      ]
     },
     "execution_count": 18,
     "metadata": {},
     "output_type": "execute_result"
    }
   ],
   "source": [
    "odgovor11 = rezultati#?\n",
    "odgovor11[:10]"
   ]
  },
  {
   "cell_type": "code",
   "execution_count": 44,
   "metadata": {},
   "outputs": [
    {
     "name": "stdout",
     "output_type": "stream",
     "text": [
      "Pravilna rešitev. Uspeh: 61%. Preostali čas: 2dni,14ur, 7min\n"
     ]
    }
   ],
   "source": [
    "poslji(odgovor11, id=215173755953283072, st=10)"
   ]
  },
  {
   "cell_type": "markdown",
   "metadata": {},
   "source": [
    "### 12. vprašanje\n",
    "\n",
    " Izraz $\\sin(x)+x$ integrirajte določeno po $x$, v mejah od $0$ do $L$, kjer je $L$ podatek iz definicije naloge. Numerično vrednost rezultata določite s funkcijo ``evalf`` na $n$ mest natančno.\n",
    "\n",
    "Število poskusov: 3."
   ]
  },
  {
   "cell_type": "code",
   "execution_count": 19,
   "metadata": {
    "collapsed": true
   },
   "outputs": [],
   "source": [
    "x = sym.symbols('x')\n",
    "izraz = sym.sin(x) + x\n",
    "rešitev = sym.integrate(izraz, (x, 0, L)).evalf(n=n)"
   ]
  },
  {
   "cell_type": "code",
   "execution_count": 20,
   "metadata": {},
   "outputs": [
    {
     "data": {
      "image/png": "[encoded data removed]",
      "text/latex": [
       "$$153.9056$$"
      ],
      "text/plain": [
       "153.9056"
      ]
     },
     "execution_count": 20,
     "metadata": {},
     "output_type": "execute_result"
    }
   ],
   "source": [
    "odgovor12 = rešitev#?\n",
    "odgovor12"
   ]
  },
  {
   "cell_type": "code",
   "execution_count": 52,
   "metadata": {},
   "outputs": [
    {
     "name": "stdout",
     "output_type": "stream",
     "text": [
      "Pravilna rešitev. Uspeh: 66%. Preostali čas: 2dni,14ur, 2min\n"
     ]
    }
   ],
   "source": [
    "poslji(odgovor12, id=215173755953283072, st=11)"
   ]
  },
  {
   "cell_type": "markdown",
   "metadata": {},
   "source": [
    "### 13. vprašanje\n",
    "\n",
    " Z uporabo knjižnjice ``SymPy`` izračunajte nedoločeni integral $\\int\\sin(x)+x ~ dx$ in dobljen izraz vnesite v obliki niza. Pravilnost rešitve lahko preverite s simbolnim odvajanjem dobljenega po $x$. (Namig: simbolni izraz v niz pretvorite z ukazom ``str``.)\n",
    "\n",
    "Število poskusov: 3."
   ]
  },
  {
   "cell_type": "code",
   "execution_count": 21,
   "metadata": {},
   "outputs": [
    {
     "data": {
      "image/png": "[encoded data removed]",
      "text/latex": [
       "$$\\frac{x^{2}}{2} - \\cos{\\left (x \\right )}$$"
      ],
      "text/plain": [
       " 2         \n",
       "x          \n",
       "── - cos(x)\n",
       "2          "
      ]
     },
     "execution_count": 21,
     "metadata": {},
     "output_type": "execute_result"
    }
   ],
   "source": [
    "x1 = sym.symbols('x')\n",
    "izraz1 = sym.sin(x1) + x1\n",
    "rešitev1 = sym.integrate(izraz1, x1)\n",
    "rešitev1"
   ]
  },
  {
   "cell_type": "code",
   "execution_count": 22,
   "metadata": {},
   "outputs": [
    {
     "data": {
      "image/png": "[encoded data removed]",
      "text/latex": [
       "$$x + \\sin{\\left (x \\right )}$$"
      ],
      "text/plain": [
       "x + sin(x)"
      ]
     },
     "execution_count": 22,
     "metadata": {},
     "output_type": "execute_result"
    }
   ],
   "source": [
    "sym.diff(rešitev1, x1)"
   ]
  },
  {
   "cell_type": "code",
   "execution_count": 23,
   "metadata": {},
   "outputs": [
    {
     "data": {
      "text/plain": [
       "'x**2/2 - cos(x)'"
      ]
     },
     "execution_count": 23,
     "metadata": {},
     "output_type": "execute_result"
    }
   ],
   "source": [
    "odgovor13 = str(rešitev1)#?\n",
    "odgovor13"
   ]
  },
  {
   "cell_type": "code",
   "execution_count": 60,
   "metadata": {},
   "outputs": [
    {
     "name": "stdout",
     "output_type": "stream",
     "text": [
      "Pravilna rešitev. Uspeh: 72%. Preostali čas: 2dni,13ur, 58min\n"
     ]
    }
   ],
   "source": [
    "poslji(odgovor13, id=715173755953283072, st=12)"
   ]
  },
  {
   "cell_type": "markdown",
   "metadata": {},
   "source": [
    "### 14. vprašanje\n",
    "\n",
    " S simbolno integracijo določite odvisnost statičnega momenta ploskve na sliki iz definicije naloge od $r$. $S_{xx} = \\int_{A}y~dA=\\int_0^r \\int_0^{\\pi/2}y(\\varphi)~r~d\\varphi~dr$, kjer je $y(\\varphi)=r\\sin(\\varphi)$. Pri računanju dvojnega integrala definirate integracijke meje tako za $r$ kot za $\\varphi$ (glejte http://docs.sympy.org/latest/tutorial/calculus.html#integrals). Pazite, zgornja meja prve integracije je spremenljivka $r$ in ne vrednost $R$! Dobljen izraz vnesite v obliki niza.\n",
    "\n",
    "Število poskusov: 3, enote:  mm^3"
   ]
  },
  {
   "cell_type": "code",
   "execution_count": 24,
   "metadata": {},
   "outputs": [
    {
     "data": {
      "image/png": "[encoded data removed]",
      "text/latex": [
       "$$\\frac{r^{3}}{3}$$"
      ],
      "text/plain": [
       " 3\n",
       "r \n",
       "──\n",
       "3 "
      ]
     },
     "execution_count": 24,
     "metadata": {},
     "output_type": "execute_result"
    }
   ],
   "source": [
    "r5, phi= sym.symbols('r, phi')\n",
    "y_phi = r5 * sym.sin(phi)\n",
    "Sxx = sym.integrate(y_phi*r5, (phi, 0 ,sym.pi/2), (r5, 0, r5))\n",
    "Sxx"
   ]
  },
  {
   "cell_type": "code",
   "execution_count": 25,
   "metadata": {},
   "outputs": [
    {
     "data": {
      "text/plain": [
       "'r**3/3'"
      ]
     },
     "execution_count": 25,
     "metadata": {},
     "output_type": "execute_result"
    }
   ],
   "source": [
    "odgovor14 = str(Sxx)#?\n",
    "odgovor14"
   ]
  },
  {
   "cell_type": "code",
   "execution_count": 68,
   "metadata": {},
   "outputs": [
    {
     "name": "stdout",
     "output_type": "stream",
     "text": [
      "Pravilna rešitev. Uspeh: 77%. Preostali čas: 2dni,13ur, 50min\n"
     ]
    }
   ],
   "source": [
    "poslji(odgovor14, id=215173755953283072, st=13)"
   ]
  },
  {
   "cell_type": "markdown",
   "metadata": {},
   "source": [
    "### 15. vprašanje\n",
    "\n",
    " Z uporabo modula za grafični prikaz iz knjižnjice ``SymPy`` na istem grafu prikažite v prejšnji nalogi določeno odvisnost $S_{xx}$ od polmera $r$, ter potek že izračunanega rezultata nedoločenega integrala $\\int\\sin(x)+x ~ dx$, kjer spremenljivko ``x`` najprej zamenjajte z ``r`` z uporabo funkcije ``subs``. Ali je naslednja trditev pravilna? Prikazani funkciji se sekata na območju $r \\in [0,2]$! (1: Da, 2: Ne)\n",
    "\n",
    "Število poskusov: 1."
   ]
  },
  {
   "cell_type": "code",
   "execution_count": 26,
   "metadata": {
    "collapsed": true
   },
   "outputs": [],
   "source": [
    "from sympy.plotting import plot"
   ]
  },
  {
   "cell_type": "code",
   "execution_count": 27,
   "metadata": {},
   "outputs": [
    {
     "data": {
      "image/png": "[encoded data removed]",
      "text/plain": [
       "<matplotlib.figure.Figure at 0x19321b73e10>"
      ]
     },
     "metadata": {},
     "output_type": "display_data"
    }
   ],
   "source": [
    "izris1 = plot(Sxx, (r5, 0, 2), show=False)\n",
    "rešitev2 = rešitev1.subs(x1, r5)\n",
    "izris2 = plot(rešitev2, (r5, 0, 2), show=False, line_color='red')\n",
    "izris1.extend(izris2)\n",
    "izris1.show()"
   ]
  },
  {
   "cell_type": "code",
   "execution_count": 28,
   "metadata": {
    "collapsed": true
   },
   "outputs": [],
   "source": [
    "odgovor15 = 2#?"
   ]
  },
  {
   "cell_type": "code",
   "execution_count": 83,
   "metadata": {},
   "outputs": [
    {
     "name": "stdout",
     "output_type": "stream",
     "text": [
      "Pravilna rešitev. Uspeh: 83%. Preostali čas: 2dni,13ur, 35min\n"
     ]
    }
   ],
   "source": [
    "poslji(odgovor15, id=415173755953283072, st=14)"
   ]
  },
  {
   "cell_type": "markdown",
   "metadata": {},
   "source": [
    "### 16. vprašanje\n",
    "\n",
    " Z uporabo orodij knjižnjice ``SymPy`` nastavite gibalno enačbo matematičnega nihala: $\\frac{d^2}{dt^2}~p(t) + \\frac{g}{l}~\\sin(p(t)) = 0$, kjer je $t$ čas, $p$ kot zasuka vrvice, $g$ težnostni pospešek, $l$ pa dolžina vrvice. Vse spremenljivke definirajte s predpostavko, da gre za pozitivna realna števila (Namig: poglejte kaj so argumenti funkcije ``sympy.symbols``). Dobljeno enačbo vnesite v obliki niza.\n",
    "\n",
    "Število poskusov: 3."
   ]
  },
  {
   "cell_type": "code",
   "execution_count": 34,
   "metadata": {},
   "outputs": [
    {
     "data": {
      "image/png": "[encoded data removed]",
      "text/latex": [
       "$$\\frac{g}{l} \\sin{\\left (p{\\left (t \\right )} \\right )} + \\frac{d^{2}}{d t^{2}}  p{\\left (t \\right )} = 0$$"
      ],
      "text/plain": [
       "                2          \n",
       "g⋅sin(p(t))    d           \n",
       "─────────── + ───(p(t)) = 0\n",
       "     l          2          \n",
       "              dt           "
      ]
     },
     "execution_count": 34,
     "metadata": {},
     "output_type": "execute_result"
    }
   ],
   "source": [
    "t, p, g, l = sym.symbols('t, p, g, l', positive=True)\n",
    "izraz_L = sym.diff(p(t), t, t)+ g/l * sym.sin(p(t))\n",
    "enacba_nihala = sym.Eq(izraz_L, 0)\n",
    "enacba_nihala"
   ]
  },
  {
   "cell_type": "code",
   "execution_count": 35,
   "metadata": {},
   "outputs": [
    {
     "data": {
      "text/plain": [
       "'Eq(g*sin(p(t))/l + Derivative(p(t), t, t), 0)'"
      ]
     },
     "execution_count": 35,
     "metadata": {},
     "output_type": "execute_result"
    }
   ],
   "source": [
    "odgovor16 = str(enacba_nihala)#?\n",
    "odgovor16"
   ]
  },
  {
   "cell_type": "code",
   "execution_count": 31,
   "metadata": {},
   "outputs": [
    {
     "name": "stdout",
     "output_type": "stream",
     "text": [
      "Pravilna rešitev. Uspeh: 88%. Preostali čas: 14ur, 29min, 49s\n"
     ]
    }
   ],
   "source": [
    "poslji(odgovor16, id=415173755953283072, st=15)"
   ]
  },
  {
   "cell_type": "markdown",
   "metadata": {},
   "source": [
    "### 17. vprašanje\n",
    "\n",
    " V diferencialni enačbi iz prejšnje naloge z uporabo funkcije ``subs`` $\\sin(p(t))$ zamenjajte z $p(t)$. Definirajte novo realno, pozitivno spremenljivko $w$ in $\\frac{g}{l}$ v diferencialni enačbi zamenjajte z $w^2$. Vnesite dobljeno enačbo v obliki niza.\n",
    "\n",
    "Število poskusov: 3."
   ]
  },
  {
   "cell_type": "code",
   "execution_count": 37,
   "metadata": {},
   "outputs": [
    {
     "data": {
      "image/png": "[encoded data removed]",
      "text/latex": [
       "$$w^{2} p{\\left (t \\right )} + \\frac{d^{2}}{d t^{2}}  p{\\left (t \\right )} = 0$$"
      ],
      "text/plain": [
       "            2          \n",
       " 2         d           \n",
       "w ⋅p(t) + ───(p(t)) = 0\n",
       "            2          \n",
       "          dt           "
      ]
     },
     "execution_count": 37,
     "metadata": {},
     "output_type": "execute_result"
    }
   ],
   "source": [
    "izraz_L2 = izraz_L.subs(sym.sin(p(t)), p(t))\n",
    "w = sym.symbols('w', positive=True)\n",
    "izraz_L2 = izraz_L2.subs(g/l, w**2)\n",
    "enacba_nihala2 = sym.Eq(izraz_L2, 0)\n",
    "enacba_nihala2 "
   ]
  },
  {
   "cell_type": "code",
   "execution_count": 38,
   "metadata": {},
   "outputs": [
    {
     "data": {
      "text/plain": [
       "'Eq(w**2*p(t) + Derivative(p(t), t, t), 0)'"
      ]
     },
     "execution_count": 38,
     "metadata": {},
     "output_type": "execute_result"
    }
   ],
   "source": [
    "odgovor17 = str(enacba_nihala2)#?\n",
    "odgovor17"
   ]
  },
  {
   "cell_type": "code",
   "execution_count": 39,
   "metadata": {},
   "outputs": [
    {
     "name": "stdout",
     "output_type": "stream",
     "text": [
      "Pravilna rešitev. Uspeh: 94%. Preostali čas: 14ur, 6min, 23s\n"
     ]
    }
   ],
   "source": [
    "poslji(odgovor17, id=815173755953283072, st=16)"
   ]
  },
  {
   "cell_type": "markdown",
   "metadata": {},
   "source": [
    "### 18. vprašanje\n",
    "\n",
    " Zgornjo diferencialno enačbo rešite za $p(t)$ in v spremenljivko ``rezultat`` shranite desno stran dobljenega izraza. Vnesite ``rezultat``, zapisan v obliki niza. (Namig: desno stran izraza dobite z ukazom ``izraz.args[1]``)\n",
    "\n",
    "Število poskusov: 3."
   ]
  },
  {
   "cell_type": "code",
   "execution_count": 40,
   "metadata": {},
   "outputs": [
    {
     "data": {
      "image/png": "[encoded data removed]",
      "text/latex": [
       "$$p{\\left (t \\right )} = C_{1} \\sin{\\left (t w \\right )} + C_{2} \\cos{\\left (t w \\right )}$$"
      ],
      "text/plain": [
       "p(t) = C₁⋅sin(t⋅w) + C₂⋅cos(t⋅w)"
      ]
     },
     "execution_count": 40,
     "metadata": {},
     "output_type": "execute_result"
    }
   ],
   "source": [
    "rešitev = sym.dsolve(enacba_nihala2, p(t))\n",
    "rešitev"
   ]
  },
  {
   "cell_type": "code",
   "execution_count": 41,
   "metadata": {},
   "outputs": [
    {
     "data": {
      "image/png": "[encoded data removed]",
      "text/latex": [
       "$$C_{1} \\sin{\\left (t w \\right )} + C_{2} \\cos{\\left (t w \\right )}$$"
      ],
      "text/plain": [
       "C₁⋅sin(t⋅w) + C₂⋅cos(t⋅w)"
      ]
     },
     "execution_count": 41,
     "metadata": {},
     "output_type": "execute_result"
    }
   ],
   "source": [
    "rezultat = rešitev.args[1]\n",
    "rezultat"
   ]
  },
  {
   "cell_type": "code",
   "execution_count": 42,
   "metadata": {},
   "outputs": [
    {
     "data": {
      "text/plain": [
       "'C1*sin(t*w) + C2*cos(t*w)'"
      ]
     },
     "execution_count": 42,
     "metadata": {},
     "output_type": "execute_result"
    }
   ],
   "source": [
    "odgovor18 = str(rezultat)#?\n",
    "odgovor18"
   ]
  },
  {
   "cell_type": "code",
   "execution_count": 43,
   "metadata": {},
   "outputs": [
    {
     "name": "stdout",
     "output_type": "stream",
     "text": [
      "Pravilna rešitev. Uspeh: 100%. Preostali čas: 14ur, 2min, 27s\n"
     ]
    }
   ],
   "source": [
    "poslji(odgovor18, id=115173755953283072, st=17)"
   ]
  },
  {
   "cell_type": "code",
   "execution_count": null,
   "metadata": {
    "collapsed": true
   },
   "outputs": [],
   "source": []
  }
 ],
 "metadata": {
  "kernelspec": {
   "display_name": "Python 3",
   "language": "python",
   "name": "python3"
  },
  "language_info": {
   "codemirror_mode": {
    "name": "ipython",
    "version": 3
   },
   "file_extension": ".py",
   "mimetype": "text/x-python",
   "name": "python",
   "nbconvert_exporter": "python",
   "pygments_lexer": "ipython3",
   "version": "3.6.2"
  }
 },
 "nbformat": 4,
 "nbformat_minor": 1
}
