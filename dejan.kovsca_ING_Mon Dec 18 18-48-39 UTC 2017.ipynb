{
 "cells": [
  {
   "cell_type": "code",
   "execution_count": 1,
   "metadata": {},
   "outputs": [
    {
     "name": "stdout",
     "output_type": "stream",
     "text": [
      "Downloading file: mojladisksi.py\n"
     ]
    }
   ],
   "source": [
    "from sync import sync\n",
    "sync('/moj.ladisk.si/mojladisksi.py')\n",
    "from mojladisksi import poslji\n",
    "import numpy as np\n"
   ]
  },
  {
   "cell_type": "markdown",
   "metadata": {},
   "source": [
    "# ING\n",
    "\n",
    "Kovšca Dejan, 23160187, dejan.kovsca@gmail.com\n",
    "\n",
    "Pričetek reševanja: Mon Dec 18 18:48:39 UTC 2017"
   ]
  },
  {
   "cell_type": "markdown",
   "metadata": {},
   "source": [
    "Na sliki je prikazana pot vozila po ravnini. Pospešek v $x$ koordinati je podan z izrazom $p(t) = a\\,t^3+b\\,t+c$."
   ]
  },
  {
   "cell_type": "markdown",
   "metadata": {},
   "source": [
    "<img width=500 src='dejan.kovsca_ING_Mon Dec 18 18-48-39 UTC 2017.jpg'>"
   ]
  },
  {
   "cell_type": "code",
   "execution_count": 47,
   "metadata": {
    "collapsed": true
   },
   "outputs": [],
   "source": [
    "a = 0.03 # m/s$^5$\n",
    "b = 0.2 # m/s$^3$\n",
    "c = 1.25 # m/s$^2$\n",
    "i = 210 # \n",
    "n = 163 # \n",
    "t_2 = 25.6 # s"
   ]
  },
  {
   "cell_type": "markdown",
   "metadata": {},
   "source": [
    "### 1. vprašanje\n",
    "\n",
    " Gaussova kvadratura lahko izračuna integral funkcij s singularnostmi. (1: Da, 2: Ne)\n",
    "\n",
    "Število poskusov: 1."
   ]
  },
  {
   "cell_type": "code",
   "execution_count": 3,
   "metadata": {
    "collapsed": true
   },
   "outputs": [],
   "source": [
    "odgovor1 = 1#?"
   ]
  },
  {
   "cell_type": "code",
   "execution_count": 4,
   "metadata": {},
   "outputs": [
    {
     "name": "stdout",
     "output_type": "stream",
     "text": [
      "Pravilna rešitev. Uspeh: 16%. Preostali čas: 2dni,12ur, 0min\n"
     ]
    }
   ],
   "source": [
    "poslji(odgovor1, id=835393771229347840, st=0)"
   ]
  },
  {
   "cell_type": "markdown",
   "metadata": {},
   "source": [
    "### 2. vprašanje\n",
    "\n",
    " Določite numerični integral $\\int_{0}^{t_2} p(x)\\,dx$ s `scipy.integrate.trapz` pri koraku $t_2/8$.\n",
    "\n",
    "Število poskusov: 3, enote:  m/s"
   ]
  },
  {
   "cell_type": "code",
   "execution_count": 24,
   "metadata": {},
   "outputs": [],
   "source": [
    "t = np.arange(0, t_2+t_2/8, t_2/8)\n",
    "p = np.poly1d([a, 0, b, c])\n",
    "p_t = p(t)"
   ]
  },
  {
   "cell_type": "code",
   "execution_count": 25,
   "metadata": {},
   "outputs": [
    {
     "data": {
      "text/plain": [
       "3369.0931200000009"
      ]
     },
     "execution_count": 25,
     "metadata": {},
     "output_type": "execute_result"
    }
   ],
   "source": [
    "I1 = np.trapz(p_t, dx=t_2/8)\n",
    "I1"
   ]
  },
  {
   "cell_type": "code",
   "execution_count": 26,
   "metadata": {
    "collapsed": true
   },
   "outputs": [],
   "source": [
    "odgovor2 = I1#?"
   ]
  },
  {
   "cell_type": "code",
   "execution_count": 27,
   "metadata": {},
   "outputs": [
    {
     "name": "stdout",
     "output_type": "stream",
     "text": [
      "Pravilna rešitev. Uspeh: 33%. Preostali čas: 2dni,11ur, 43min\n"
     ]
    }
   ],
   "source": [
    "poslji(odgovor2, id=735393771229347840, st=1)"
   ]
  },
  {
   "cell_type": "markdown",
   "metadata": {},
   "source": [
    "### 3. vprašanje\n",
    "\n",
    " Določite polje šuma, ki naj bo dolžine $n+1$, z definiranim semenom `i` (uporabite funkciji `numpy.random.seed(i)` in `numpy.random.rand`).Kot rešitev vpišite numerično polje!\n",
    "\n",
    "Število poskusov: 3."
   ]
  },
  {
   "cell_type": "code",
   "execution_count": 32,
   "metadata": {},
   "outputs": [
    {
     "data": {
      "text/plain": [
       "array([ 0.09992421,  0.3028481 ,  0.78305981,  0.50438093,  0.11269059,\n",
       "        0.10244724,  0.86487058,  0.8620894 ,  0.39841309,  0.74786699,\n",
       "        0.17488995,  0.94362146,  0.05239074,  0.8619607 ,  0.56097136,\n",
       "        0.87692642,  0.89113946,  0.13905215,  0.25368297,  0.20005128,\n",
       "        0.79802209,  0.04351079,  0.79494529,  0.85482496,  0.27955901,\n",
       "        0.12799076,  0.63072751,  0.87332605,  0.35092847,  0.74252247,\n",
       "        0.39550001,  0.52016361,  0.89645826,  0.1904936 ,  0.7492675 ,\n",
       "        0.09500778,  0.59788104,  0.99959711,  0.54006444,  0.43153222,\n",
       "        0.05679058,  0.82165019,  0.28799345,  0.71259992,  0.48733147,\n",
       "        0.35929439,  0.24059005,  0.00227433,  0.14024303,  0.70832684,\n",
       "        0.16467687,  0.45023011,  0.35972366,  0.45860706,  0.41145839,\n",
       "        0.86143667,  0.03718539,  0.52994697,  0.03054952,  0.73891871,\n",
       "        0.35301889,  0.47751301,  0.47533039,  0.89745649,  0.96557467,\n",
       "        0.00491663,  0.23205019,  0.5535666 ,  0.57865337,  0.1303305 ,\n",
       "        0.70054568,  0.1158096 ,  0.58530075,  0.21437207,  0.81779843,\n",
       "        0.09854564,  0.34529167,  0.86134276,  0.41112911,  0.35064467,\n",
       "        0.93341506,  0.04291085,  0.50875781,  0.28763319,  0.03599988,\n",
       "        0.17797749,  0.10348395,  0.88355733,  0.31996621,  0.78104431,\n",
       "        0.81732508,  0.18065381,  0.5143548 ,  0.13701196,  0.17831388,\n",
       "        0.46529771,  0.30721443,  0.70361625,  0.38095021,  0.56520153,\n",
       "        0.62615873,  0.17441018,  0.04612091,  0.54747424,  0.02901559,\n",
       "        0.17096395,  0.09780741,  0.17976955,  0.61135407,  0.08828317,\n",
       "        0.4027208 ,  0.24317103,  0.46998269,  0.66553707,  0.39857008,\n",
       "        0.4754287 ,  0.39416763,  0.30410607,  0.64887621,  0.79118121,\n",
       "        0.56210759,  0.32476136,  0.33814959,  0.75654024,  0.62698234,\n",
       "        0.4600374 ,  0.86350642,  0.88588211,  0.06732217,  0.78272411,\n",
       "        0.32413098,  0.05782517,  0.07849468,  0.72544994,  0.34931934,\n",
       "        0.50367032,  0.2872809 ,  0.80816779,  0.61989854,  0.7624675 ,\n",
       "        0.06028054,  0.17205997,  0.70533233,  0.55338749,  0.009834  ,\n",
       "        0.11721189,  0.58930915,  0.48774271,  0.10737572,  0.99711952,\n",
       "        0.96946772,  0.2262425 ,  0.19722939,  0.54066487,  0.18871232,\n",
       "        0.5424204 ,  0.50954824,  0.69842736,  0.76290446,  0.21479758,\n",
       "        0.52630817,  0.60702039,  0.62105921,  0.01374846])"
      ]
     },
     "execution_count": 32,
     "metadata": {},
     "output_type": "execute_result"
    }
   ],
   "source": [
    "np.random.seed(i)\n",
    "polje_suma = np.random.rand(n+1)\n",
    "polje_suma"
   ]
  },
  {
   "cell_type": "code",
   "execution_count": 33,
   "metadata": {
    "collapsed": true
   },
   "outputs": [],
   "source": [
    "odgovor3 = polje_suma#?"
   ]
  },
  {
   "cell_type": "code",
   "execution_count": 34,
   "metadata": {},
   "outputs": [
    {
     "name": "stdout",
     "output_type": "stream",
     "text": [
      "Pravilna rešitev. Uspeh: 50%. Preostali čas: 2dni,11ur, 40min\n"
     ]
    }
   ],
   "source": [
    "poslji(odgovor3, id=635393771229347840, st=2)"
   ]
  },
  {
   "cell_type": "markdown",
   "metadata": {},
   "source": [
    "### 4. vprašanje\n",
    "\n",
    " Opazovani časovni interval $[0,t_2]$ razdelite na $n$ ekvidistantnih odsekov s korakom $h$. Določite korak $h$.\n",
    "\n",
    "Število poskusov: 3, enote:  s"
   ]
  },
  {
   "cell_type": "code",
   "execution_count": 53,
   "metadata": {},
   "outputs": [],
   "source": [
    "t1, h = np.linspace(0, t_2, n+1, retstep=True)"
   ]
  },
  {
   "cell_type": "code",
   "execution_count": 54,
   "metadata": {},
   "outputs": [
    {
     "data": {
      "text/plain": [
       "0.15705521472392639"
      ]
     },
     "execution_count": 54,
     "metadata": {},
     "output_type": "execute_result"
    }
   ],
   "source": [
    "h"
   ]
  },
  {
   "cell_type": "code",
   "execution_count": 55,
   "metadata": {
    "collapsed": true
   },
   "outputs": [],
   "source": [
    "odgovor4 = h#?"
   ]
  },
  {
   "cell_type": "code",
   "execution_count": 56,
   "metadata": {},
   "outputs": [
    {
     "name": "stdout",
     "output_type": "stream",
     "text": [
      "Pravilna rešitev. Uspeh: 66%. Preostali čas: 2dni,11ur, 35min\n"
     ]
    }
   ],
   "source": [
    "poslji(odgovor4, id=635393771229347840, st=3)"
   ]
  },
  {
   "cell_type": "markdown",
   "metadata": {},
   "source": [
    "### 5. vprašanje\n",
    "\n",
    " S kumulativno trapezno metodo (`scipy.integrate.cumtrapz`) izračunajte vrednost integrala pri vseh diskretnih točkah ob uporabi koraka $h$. (Torej: $\\int_{0}^{t_i} p(x)\\,dx$), kjer je $t_i$ diskretna točka.\n",
    "\n",
    "Število poskusov: 3, enote:  m/s"
   ]
  },
  {
   "cell_type": "code",
   "execution_count": 57,
   "metadata": {
    "collapsed": true
   },
   "outputs": [],
   "source": [
    "from scipy import integrate"
   ]
  },
  {
   "cell_type": "code",
   "execution_count": 58,
   "metadata": {},
   "outputs": [
    {
     "data": {
      "text/plain": [
       "array([  0.00000000e+00,   1.98794779e-01,   4.02595837e-01,\n",
       "         6.11567451e-01,   8.25983412e-01,   1.04622703e+00,\n",
       "         1.27279114e+00,   1.50627807e+00,   1.74739969e+00,\n",
       "         1.99697738e+00,   2.25594204e+00,   2.52533407e+00,\n",
       "         2.80630340e+00,   3.10010949e+00,   3.40812130e+00,\n",
       "         3.73181730e+00,   4.07278550e+00,   4.43272340e+00,\n",
       "         4.81343805e+00,   5.21684600e+00,   5.64497329e+00,\n",
       "         6.09995554e+00,   6.58403782e+00,   7.09957476e+00,\n",
       "         7.64903050e+00,   8.23497869e+00,   8.86010249e+00,\n",
       "         9.52719459e+00,   1.02391572e+01,   1.09990020e+01,\n",
       "         1.18098503e+01,   1.26749328e+01,   1.35975898e+01,\n",
       "         1.45812711e+01,   1.56295360e+01,   1.67460533e+01,\n",
       "         1.79346013e+01,   1.91990679e+01,   2.05434505e+01,\n",
       "         2.19718560e+01,   2.34885007e+01,   2.50977107e+01,\n",
       "         2.68039213e+01,   2.86116775e+01,   3.05256338e+01,\n",
       "         3.25505541e+01,   3.46913121e+01,   3.69528906e+01,\n",
       "         3.93403824e+01,   4.18589893e+01,   4.45140231e+01,\n",
       "         4.73109047e+01,   5.02551649e+01,   5.33524437e+01,\n",
       "         5.66084908e+01,   6.00291654e+01,   6.36204361e+01,\n",
       "         6.73883812e+01,   7.13391883e+01,   7.54791547e+01,\n",
       "         7.98146871e+01,   8.43523018e+01,   8.90986246e+01,\n",
       "         9.40603909e+01,   9.92444453e+01,   1.04657742e+02,\n",
       "         1.10307346e+02,   1.16200429e+02,   1.22344275e+02,\n",
       "         1.28746276e+02,   1.35413933e+02,   1.42354860e+02,\n",
       "         1.49576775e+02,   1.57087511e+02,   1.64895006e+02,\n",
       "         1.73007311e+02,   1.81432584e+02,   1.90179094e+02,\n",
       "         1.99255219e+02,   2.08669447e+02,   2.18430374e+02,\n",
       "         2.28546707e+02,   2.39027263e+02,   2.49880967e+02,\n",
       "         2.61116854e+02,   2.72744069e+02,   2.84771866e+02,\n",
       "         2.97209608e+02,   3.10066770e+02,   3.23352933e+02,\n",
       "         3.37077791e+02,   3.51251144e+02,   3.65882904e+02,\n",
       "         3.80983093e+02,   3.96561839e+02,   4.12629384e+02,\n",
       "         4.29196076e+02,   4.46272374e+02,   4.63868847e+02,\n",
       "         4.81996173e+02,   5.00665139e+02,   5.19886641e+02,\n",
       "         5.39671688e+02,   5.60031394e+02,   5.80976985e+02,\n",
       "         6.02519795e+02,   6.24671271e+02,   6.47442965e+02,\n",
       "         6.70846541e+02,   6.94893772e+02,   7.19596542e+02,\n",
       "         7.44966841e+02,   7.71016772e+02,   7.97758546e+02,\n",
       "         8.25204483e+02,   8.53367014e+02,   8.82258678e+02,\n",
       "         9.11892125e+02,   9.42280113e+02,   9.73435511e+02,\n",
       "         1.00537130e+03,   1.03810056e+03,   1.07163649e+03,\n",
       "         1.10599240e+03,   1.14118170e+03,   1.17721792e+03,\n",
       "         1.21411470e+03,   1.25188577e+03,   1.29054500e+03,\n",
       "         1.33010634e+03,   1.37058387e+03,   1.41199177e+03,\n",
       "         1.45434433e+03,   1.49765596e+03,   1.54194117e+03,\n",
       "         1.58721457e+03,   1.63349090e+03,   1.68078499e+03,\n",
       "         1.72911179e+03,   1.77848638e+03,   1.82892390e+03,\n",
       "         1.88043964e+03,   1.93304899e+03,   1.98676744e+03,\n",
       "         2.04161060e+03,   2.09759418e+03,   2.15473401e+03,\n",
       "         2.21304603e+03,   2.27254628e+03,   2.33325091e+03,\n",
       "         2.39517619e+03,   2.45833849e+03,   2.52275428e+03,\n",
       "         2.58844018e+03,   2.65541286e+03,   2.72368915e+03,\n",
       "         2.79328597e+03,   2.86422034e+03,   2.93650941e+03,\n",
       "         3.01017042e+03,   3.08522073e+03,   3.16167781e+03,\n",
       "         3.23955925e+03,   3.31888271e+03])"
      ]
     },
     "execution_count": 58,
     "metadata": {},
     "output_type": "execute_result"
    }
   ],
   "source": [
    "I2 = integrate.cumtrapz(y=p(t1), dx=h, initial=0)\n",
    "I2"
   ]
  },
  {
   "cell_type": "code",
   "execution_count": 59,
   "metadata": {
    "collapsed": true
   },
   "outputs": [],
   "source": [
    "odgovor5 = I2#?"
   ]
  },
  {
   "cell_type": "code",
   "execution_count": 60,
   "metadata": {},
   "outputs": [
    {
     "name": "stdout",
     "output_type": "stream",
     "text": [
      "Pravilna rešitev. Uspeh: 83%. Preostali čas: 2dni,11ur, 31min\n"
     ]
    }
   ],
   "source": [
    "poslji(odgovor5, id=835393771229347840, st=4)"
   ]
  },
  {
   "cell_type": "markdown",
   "metadata": {},
   "source": [
    "### 6. vprašanje\n",
    "\n",
    " Ponovno določite numerični integral s kumulativno trapezno metodo (`scipy.integrate.cumtrapz`), vendar še z dodanim šumom $p(t)=a\\,t^3+b\\,t+c+\\textrm{sum}$. Kot rešitev podajte numerično polje vrednosti integrala v teh točkah.\n",
    "\n",
    "Število poskusov: 3, enote:  m/s"
   ]
  },
  {
   "cell_type": "code",
   "execution_count": 65,
   "metadata": {
    "collapsed": true
   },
   "outputs": [],
   "source": [
    "def p2(x, pojle_suma):\n",
    "    p = 0.03*x**3 + 0.2*x + 1.25\n",
    "    return p + polje_suma"
   ]
  },
  {
   "cell_type": "code",
   "execution_count": 66,
   "metadata": {},
   "outputs": [
    {
     "data": {
      "text/plain": [
       "array([  0.00000000e+00,   2.30423525e-01,   5.19498333e-01,\n",
       "         8.29569587e-01,   1.09244270e+00,   1.32958058e+00,\n",
       "         1.63210583e+00,   2.00120680e+00,   2.34131267e+00,\n",
       "         2.68090499e+00,   3.01233154e+00,   3.36955760e+00,\n",
       "         3.72874139e+00,   4.09434931e+00,   4.51410056e+00,\n",
       "         4.95071124e+00,   5.43052142e+00,   5.87135781e+00,\n",
       "         6.28291300e+00,   6.72195161e+00,   7.22845522e+00,\n",
       "         7.74952103e+00,   8.29944526e+00,   8.94453472e+00,\n",
       "         9.58307091e+00,   1.02010230e+01,   1.08857271e+01,\n",
       "         1.16709290e+01,   1.24790294e+01,   1.33247403e+01,\n",
       "         1.42249548e+01,   1.51619421e+01,   1.61958431e+01,\n",
       "         1.72648801e+01,   1.83869421e+01,   1.95697583e+01,\n",
       "         2.08127172e+01,   2.22026300e+01,   2.36679185e+01,\n",
       "         2.51726212e+01,   2.67276127e+01,   2.84058045e+01,\n",
       "         3.01991528e+01,   3.20854832e+01,   3.40936672e+01,\n",
       "         3.61850711e+01,   3.83729365e+01,   4.06535867e+01,\n",
       "         4.30522699e+01,   4.56375131e+01,   4.83611017e+01,\n",
       "         5.12062705e+01,   5.42141344e+01,   5.73756748e+01,\n",
       "         6.07000461e+01,   6.42206781e+01,   6.78825154e+01,\n",
       "         7.16949960e+01,   7.56898175e+01,   7.98902084e+01,\n",
       "         8.43114881e+01,   8.89143225e+01,   9.37354699e+01,\n",
       "         9.88050378e+01,   1.04135392e+02,   1.09624899e+02,\n",
       "         1.15293111e+02,   1.21247887e+02,   1.27480643e+02,\n",
       "         1.33938319e+02,   1.40671223e+02,   1.47676256e+02,\n",
       "         1.54953228e+02,   1.62526760e+02,   1.70415309e+02,\n",
       "         1.78599572e+02,   1.87059699e+02,   1.95900963e+02,\n",
       "         2.05077012e+02,   2.14551060e+02,   2.24412821e+02,\n",
       "         2.34605823e+02,   2.45129700e+02,   2.56045943e+02,\n",
       "         2.67307244e+02,   2.78951262e+02,   2.91001161e+02,\n",
       "         3.03516414e+02,   3.16468085e+02,   3.29840709e+02,\n",
       "         3.43691082e+02,   3.57942804e+02,   3.72629142e+02,\n",
       "         3.87780481e+02,   4.03383989e+02,   4.19502075e+02,\n",
       "         4.36129430e+02,   4.53285107e+02,   4.70966748e+02,\n",
       "         4.89168373e+02,   5.07930893e+02,   5.27215263e+02,\n",
       "         5.47017627e+02,   5.67423946e+02,   5.88414808e+02,\n",
       "         6.09973322e+02,   6.32145904e+02,   6.54939395e+02,\n",
       "         6.78405097e+02,   7.02507269e+02,   7.27248596e+02,\n",
       "         7.52669615e+02,   7.78775548e+02,   8.05606492e+02,\n",
       "         8.33135991e+02,   8.61367155e+02,   8.90327106e+02,\n",
       "         9.20015387e+02,   9.50478211e+02,   9.81746693e+02,\n",
       "         1.01378875e+03,   1.04658765e+03,   1.08017564e+03,\n",
       "         1.11461751e+03,   1.14991546e+03,   1.18603704e+03,\n",
       "         1.22303775e+03,   1.26094620e+03,   1.29968028e+03,\n",
       "         1.33930838e+03,   1.37987282e+03,   1.42131072e+03,\n",
       "         1.46367399e+03,   1.50704875e+03,   1.55141835e+03,\n",
       "         1.59675874e+03,   1.64309718e+03,   1.69047729e+03,\n",
       "         1.73891624e+03,   1.78839937e+03,   1.83890151e+03,\n",
       "         1.89043549e+03,   1.94311374e+03,   1.99693103e+03,\n",
       "         2.05181842e+03,   2.10781198e+03,   2.16500730e+03,\n",
       "         2.22340390e+03,   2.28295088e+03,   2.34374224e+03,\n",
       "         2.40582195e+03,   2.46907814e+03,   2.53352720e+03,\n",
       "         2.59927103e+03,   2.66630099e+03,   2.73463470e+03,\n",
       "         2.80431412e+03,   2.87534335e+03,   2.94774717e+03,\n",
       "         3.02148496e+03,   3.09659347e+03,   3.17313955e+03,\n",
       "         3.25111742e+03,   3.33049074e+03])"
      ]
     },
     "execution_count": 66,
     "metadata": {},
     "output_type": "execute_result"
    }
   ],
   "source": [
    "I3 = integrate.cumtrapz(y=p2(t1, polje_suma), dx=h, initial=0)\n",
    "I3"
   ]
  },
  {
   "cell_type": "code",
   "execution_count": 67,
   "metadata": {
    "collapsed": true
   },
   "outputs": [],
   "source": [
    "odgovor6 = I3#?"
   ]
  },
  {
   "cell_type": "code",
   "execution_count": 68,
   "metadata": {},
   "outputs": [
    {
     "name": "stdout",
     "output_type": "stream",
     "text": [
      "Pravilna rešitev. Uspeh: 100%. Preostali čas: 2dni,11ur, 26min\n"
     ]
    }
   ],
   "source": [
    "poslji(odgovor6, id=735393771229347840, st=5)"
   ]
  },
  {
   "cell_type": "code",
   "execution_count": null,
   "metadata": {
    "collapsed": true
   },
   "outputs": [],
   "source": []
  }
 ],
 "metadata": {
  "kernelspec": {
   "display_name": "Python 3",
   "language": "python",
   "name": "python3"
  },
  "language_info": {
   "codemirror_mode": {
    "name": "ipython",
    "version": 3
   },
   "file_extension": ".py",
   "mimetype": "text/x-python",
   "name": "python",
   "nbconvert_exporter": "python",
   "pygments_lexer": "ipython3",
   "version": "3.6.2"
  }
 },
 "nbformat": 4,
 "nbformat_minor": 1
}
