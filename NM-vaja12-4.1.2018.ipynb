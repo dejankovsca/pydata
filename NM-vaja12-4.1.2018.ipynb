{
 "cells": [
  {
   "cell_type": "code",
   "execution_count": 1,
   "metadata": {
    "collapsed": true
   },
   "outputs": [],
   "source": [
    "import numpy as np\n",
    "import matplotlib.pyplot as plt\n",
    "%matplotlib inline"
   ]
  },
  {
   "cell_type": "code",
   "execution_count": 2,
   "metadata": {
    "collapsed": true
   },
   "outputs": [],
   "source": [
    "import sympy as sym\n",
    "sym.init_printing()"
   ]
  },
  {
   "cell_type": "markdown",
   "metadata": {},
   "source": [
    "# Numerično reševanje diferencialnih enačb - začetni problem"
   ]
  },
  {
   "cell_type": "markdown",
   "metadata": {},
   "source": [
    "### vprašanje 1 (on) - simbolno\n",
    "y' - y = sin(x)"
   ]
  },
  {
   "cell_type": "code",
   "execution_count": 3,
   "metadata": {},
   "outputs": [
    {
     "data": {
      "image/png": "[encoded data removed]",
      "text/plain": [
       "<matplotlib.figure.Figure at 0x1e96f831f98>"
      ]
     },
     "metadata": {},
     "output_type": "display_data"
    },
    {
     "data": {
      "text/plain": [
       "<sympy.plotting.plot.Plot at 0x1e96e34f780>"
      ]
     },
     "execution_count": 3,
     "metadata": {},
     "output_type": "execute_result"
    }
   ],
   "source": [
    "sym.init_printing()\n",
    "x, y = sym.symbols('x y', positive=True, real=True)\n",
    "y = y(x)\n",
    "de = sym.Eq(sym.diff(y, x) - y, sym.sin(x))\n",
    "rešitev = sym.dsolve(de)\n",
    "y_res = rešitev.args[1]\n",
    "C1 = sym.solve(sym.Eq(y_res.subs(x, 0), 0), 'C1')[0]\n",
    "y_x = y_res.subs('C1', C1)\n",
    "sym.plot(y_x, (x, 0, 5))"
   ]
  },
  {
   "cell_type": "code",
   "execution_count": 4,
   "metadata": {
    "collapsed": true
   },
   "outputs": [],
   "source": [
    "fun_y = sym.lambdify(x, y_x, 'numpy')"
   ]
  },
  {
   "cell_type": "code",
   "execution_count": 5,
   "metadata": {
    "collapsed": true
   },
   "outputs": [],
   "source": [
    "def euler(fun, y0, x, *args, **kwargs):\n",
    "    y = np.zeros((len(x), len(y0)))\n",
    "    y[0] = np.array(y0).copy()\n",
    "    h = x[1] - x[0]\n",
    "    for i, xi in enumerate(x[:-1]): #zadnega x-a nebomo nikoli rabili\n",
    "        y[i+1] = y[i] + h * fun(xi, y[i], *args, **kwargs) #s trenutnimi vrednostmi računamo naslednjo vrednost\n",
    "    return y\n",
    "#args in kwargs če podamo npr. maso v fun"
   ]
  },
  {
   "cell_type": "markdown",
   "metadata": {},
   "source": [
    "### Vprašanje 2 - numerično z eulerjevo"
   ]
  },
  {
   "cell_type": "code",
   "execution_count": 6,
   "metadata": {
    "collapsed": true
   },
   "outputs": [],
   "source": [
    "x_polje = np.linspace(0, 5, 30) #če damo 300 točk napaka dosti manjša - manjši trikotniki\n",
    "x_polje1 = np.linspace(0, 5, 300)\n",
    "y0 = [0] #more bit seznam ker euler prebere dolžino tega\n",
    "def funkcija(x, y):\n",
    "    return np.sin(x) + y"
   ]
  },
  {
   "cell_type": "code",
   "execution_count": 7,
   "metadata": {},
   "outputs": [
    {
     "data": {
      "image/png": "[encoded data removed]",
      "text/plain": [
       "<matplotlib.figure.Figure at 0x1e96f8714a8>"
      ]
     },
     "metadata": {},
     "output_type": "display_data"
    }
   ],
   "source": [
    "y = euler(fun=funkcija, y0=y0, x=x_polje)\n",
    "y1 = euler(fun=funkcija, y0=y0, x=x_polje1)\n",
    "plt.plot(x_polje, y, 'k', label='euler 30') #numerično - približek kvadrati\n",
    "plt.plot(x_polje1, y1, 'r', label='euler 300')\n",
    "plt.plot(x_polje, fun_y(x_polje), label='sympy') #sympy je bolj natančna ker upošteva trapeze\n",
    "plt.legend(fontsize=14);"
   ]
  },
  {
   "cell_type": "markdown",
   "metadata": {},
   "source": [
    "# Reševanje navadne diferencialne enačbe reda n"
   ]
  },
  {
   "cell_type": "markdown",
   "metadata": {},
   "source": [
    "### Vprašanje 4 (on) scipy.integrate.odeint(fun(y,x), y0, x)\n",
    "padalc: y'' = g - (C_D/m)*y'^2"
   ]
  },
  {
   "cell_type": "code",
   "execution_count": 8,
   "metadata": {
    "collapsed": true
   },
   "outputs": [],
   "source": [
    "def fun(y, x, g, m, C_D): #vstavimo pomike in hitrosti\n",
    "    return np.array([y[1], g - C_D/m*y[1]**2]) #prvi odvod (hitrost=iz začetne vrednosti), drugi odvod (pospešek) - nove neznanke "
   ]
  },
  {
   "cell_type": "markdown",
   "metadata": {},
   "source": [
    "### Vprašanje 5 "
   ]
  },
  {
   "cell_type": "code",
   "execution_count": 9,
   "metadata": {
    "collapsed": true
   },
   "outputs": [],
   "source": [
    "t = np.linspace(0, 30, 100)\n",
    "g = 9.81\n",
    "C_D = 0.203\n",
    "m = 80\n",
    "y0 = np.array([0, 0]) #dif. en. 2. reda - 2 začetna pogoja"
   ]
  },
  {
   "cell_type": "code",
   "execution_count": 10,
   "metadata": {
    "collapsed": true
   },
   "outputs": [],
   "source": [
    "from scipy.integrate import odeint"
   ]
  },
  {
   "cell_type": "code",
   "execution_count": 11,
   "metadata": {},
   "outputs": [
    {
     "data": {
      "text/plain": [
       "array([[  0.        ,   0.        ],\n",
       "       [  0.45024174,   2.97046429],\n",
       "       [  1.79891405,   5.92740005],\n",
       "       [  4.03989554,   8.85752413],\n",
       "       [  7.16310678,  11.74803463]])"
      ]
     },
     "execution_count": 11,
     "metadata": {},
     "output_type": "execute_result"
    }
   ],
   "source": [
    "rešitev = odeint(fun, y0, t, args=(g, m, C_D))\n",
    "rešitev[:5] #prvi stolpec pomik, drugi stolpec hitrost #100 rešitev za vsak čas"
   ]
  },
  {
   "cell_type": "code",
   "execution_count": 12,
   "metadata": {
    "collapsed": true
   },
   "outputs": [],
   "source": [
    "pomiki = rešitev[:, 0] #prvi stolpec\n",
    "hitrost = rešitev[:, 1]"
   ]
  },
  {
   "cell_type": "code",
   "execution_count": 13,
   "metadata": {
    "collapsed": true
   },
   "outputs": [],
   "source": [
    "pomiki, hitrost = rešitev.T #druga možnost da pretvorimo v vrstice iz stolpcev"
   ]
  },
  {
   "cell_type": "code",
   "execution_count": 14,
   "metadata": {
    "collapsed": true
   },
   "outputs": [],
   "source": [
    "hitrost, pospešek = fun(rešitev.T, t, g, m ,C_D) #iz naše funkcije"
   ]
  },
  {
   "cell_type": "code",
   "execution_count": 15,
   "metadata": {},
   "outputs": [
    {
     "data": {
      "text/plain": [
       "[<matplotlib.lines.Line2D at 0x1e9700416a0>]"
      ]
     },
     "execution_count": 15,
     "metadata": {},
     "output_type": "execute_result"
    },
    {
     "data": {
      "image/png": "[encoded data removed]",
      "text/plain": [
       "<matplotlib.figure.Figure at 0x1e97050cf28>"
      ]
     },
     "metadata": {},
     "output_type": "display_data"
    }
   ],
   "source": [
    "plt.plot(t, pomiki)"
   ]
  },
  {
   "cell_type": "code",
   "execution_count": 16,
   "metadata": {},
   "outputs": [
    {
     "data": {
      "text/plain": [
       "[<matplotlib.lines.Line2D at 0x1e97030f5f8>]"
      ]
     },
     "execution_count": 16,
     "metadata": {},
     "output_type": "execute_result"
    },
    {
     "data": {
      "image/png": "[encoded data removed]",
      "text/plain": [
       "<matplotlib.figure.Figure at 0x1e97022d080>"
      ]
     },
     "metadata": {},
     "output_type": "display_data"
    }
   ],
   "source": [
    "plt.plot(t, hitrost)"
   ]
  },
  {
   "cell_type": "code",
   "execution_count": 17,
   "metadata": {},
   "outputs": [
    {
     "data": {
      "text/plain": [
       "[<matplotlib.lines.Line2D at 0x1e97042e8d0>]"
      ]
     },
     "execution_count": 17,
     "metadata": {},
     "output_type": "execute_result"
    },
    {
     "data": {
      "image/png": "[encoded data removed]",
      "text/plain": [
       "<matplotlib.figure.Figure at 0x1e970384630>"
      ]
     },
     "metadata": {},
     "output_type": "display_data"
    }
   ],
   "source": [
    "plt.plot(t, pospešek)"
   ]
  },
  {
   "cell_type": "markdown",
   "metadata": {},
   "source": [
    "# Tako on zahteva v seminarju!"
   ]
  },
  {
   "cell_type": "code",
   "execution_count": 18,
   "metadata": {
    "collapsed": true
   },
   "outputs": [],
   "source": [
    "# Uporaba odeint, d.e. 2. reda #pastebin\n",
    "g = 9.81\n",
    "m = 80\n",
    "C_D = 0.203\n",
    "cas = np.linspace(0,30,100)\n",
    "y0 = [0, 0]\n",
    " \n",
    "from scipy.integrate import odeint\n",
    " \n",
    "def fun(y, x, g, m, C_D):\n",
    "    return np.array([y[1], g - C_D/m*y[1]**2])\n",
    " \n",
    "rešitev = odeint(fun, y0, cas, args=(g, m, C_D))\n",
    "pomiki = rešitev[:, 0]\n",
    "hitrost = rešitev[:, 1]\n",
    "pomiki, hitrost = rešitev.T #ali pretvorimo v vrstice\n",
    "hitrost, pospešek = fun(rešitev.T, cas, g, m, C_D) #določimo pospeške iz enačbe"
   ]
  },
  {
   "cell_type": "markdown",
   "metadata": {},
   "source": [
    "### Vprašanje 8 (on) ODE - bolj napredno\n",
    "* pri odeint ne moremo rečt da se ustavi ko pride na določeno višino ... lahko spreminjamo samo čas\n",
    "* pri ode lahko"
   ]
  },
  {
   "cell_type": "code",
   "execution_count": 19,
   "metadata": {
    "collapsed": true
   },
   "outputs": [],
   "source": [
    "from scipy.integrate import ode"
   ]
  },
  {
   "cell_type": "code",
   "execution_count": 20,
   "metadata": {
    "collapsed": true
   },
   "outputs": [],
   "source": [
    "#help(ode)"
   ]
  },
  {
   "cell_type": "code",
   "execution_count": 21,
   "metadata": {
    "collapsed": true
   },
   "outputs": [],
   "source": [
    "def fun(x, y, g, m, C_D):\n",
    "    return np.array([y[1], g - C_D/m*y[1]**2])"
   ]
  },
  {
   "cell_type": "code",
   "execution_count": 22,
   "metadata": {},
   "outputs": [],
   "source": [
    "solver = ode(fun)\n",
    "solver.set_integrator('dopri5') #podobno RungeKutta\n",
    "solver.set_initial_value(y0)\n",
    "solver.set_f_params(g, m, C_D)\n",
    "dt = 0.05 #želimo rezultat vsake 0.05 sekunde\n",
    "reš = [y0]\n",
    "t = [0]\n",
    "#želimo integrirati do višine 1000 metrov višine\n",
    "#solver.y[0] - prva stvar ki jo zračuna je višina\n",
    "\n",
    "while solver.successful() and solver.y[0] <= 1000:\n",
    "    solver.integrate(solver.t + dt) #se pomikamo za korak dt\n",
    "    reš.append(solver.y)\n",
    "    t.append(solver.t) #appendamo trenuten čas integracije, ki smo jo dosegli\n",
    "\n",
    "reš = np.array(reš)\n",
    "pomik, hitrost = reš.T #iz stolpične v vrstično obliko z transponiranjem"
   ]
  },
  {
   "cell_type": "code",
   "execution_count": 23,
   "metadata": {},
   "outputs": [
    {
     "data": {
      "text/plain": [
       "[<matplotlib.lines.Line2D at 0x1e9704c9eb8>]"
      ]
     },
     "execution_count": 23,
     "metadata": {},
     "output_type": "execute_result"
    },
    {
     "data": {
      "image/png": "[encoded data removed]",
      "text/plain": [
       "<matplotlib.figure.Figure at 0x1e9703fc978>"
      ]
     },
     "metadata": {},
     "output_type": "display_data"
    }
   ],
   "source": [
    "plt.plot(t, pomik)"
   ]
  },
  {
   "cell_type": "code",
   "execution_count": 24,
   "metadata": {
    "collapsed": true
   },
   "outputs": [],
   "source": [
    "#drugo leto se bo ta stvar poenostavila glej: solve_ivp"
   ]
  },
  {
   "cell_type": "markdown",
   "metadata": {},
   "source": [
    "### Vprašanje 6 (on)"
   ]
  },
  {
   "cell_type": "code",
   "execution_count": 25,
   "metadata": {
    "collapsed": true
   },
   "outputs": [],
   "source": [
    "m = 0.5\n",
    "v_0 = 45\n",
    "c = 0.035\n",
    "g = 9.81\n",
    "a_0 = np.pi/5 #rad"
   ]
  },
  {
   "cell_type": "code",
   "execution_count": 26,
   "metadata": {
    "collapsed": true
   },
   "outputs": [],
   "source": [
    "y0 = np.array([0, v_0*np.cos(a_0), 0, v_0*np.sin(a_0)]) #pomik x, x komponenta hitrosti, pomik y, y komponenta hitrosti"
   ]
  },
  {
   "cell_type": "code",
   "execution_count": 30,
   "metadata": {},
   "outputs": [],
   "source": [
    "#... #v predlogi"
   ]
  },
  {
   "cell_type": "code",
   "execution_count": 31,
   "metadata": {
    "collapsed": true
   },
   "outputs": [],
   "source": [
    "def fun_odeint(y, x, c, g, m):\n",
    "    v = np.sqrt(y[1]**2 + y[3]**2)\n",
    "    alpha = np.arctan2(y[3], y[1])\n",
    "    F = c * v**(3/2)\n",
    "    return np.array([y[1], -F*np.cos(alpha)/m, y[3], -F*np.sin(alpha)/m-g])"
   ]
  }
 ],
 "metadata": {
  "kernelspec": {
   "display_name": "Python 3",
   "language": "python",
   "name": "python3"
  },
  "language_info": {
   "codemirror_mode": {
    "name": "ipython",
    "version": 3
   },
   "file_extension": ".py",
   "mimetype": "text/x-python",
   "name": "python",
   "nbconvert_exporter": "python",
   "pygments_lexer": "ipython3",
   "version": "3.6.2"
  }
 },
 "nbformat": 4,
 "nbformat_minor": 2
}
