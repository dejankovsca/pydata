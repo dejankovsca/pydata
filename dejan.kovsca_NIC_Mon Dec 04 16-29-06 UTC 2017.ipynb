{
 "cells": [
  {
   "cell_type": "code",
   "execution_count": 1,
   "metadata": {},
   "outputs": [
    {
     "name": "stdout",
     "output_type": "stream",
     "text": [
      "Downloading file: mojladisksi.py\n"
     ]
    },
    {
     "data": {
      "text/plain": [
       "''"
      ]
     },
     "execution_count": 1,
     "metadata": {},
     "output_type": "execute_result"
    }
   ],
   "source": [
    "from sync import sync\n",
    "sync('/moj.ladisk.si/mojladisksi.py')\n",
    "from mojladisksi import poslji\n",
    "import numpy as np\n",
    ";"
   ]
  },
  {
   "cell_type": "markdown",
   "metadata": {},
   "source": [
    "# NIC\n",
    "\n",
    "Kovšca Dejan, 23160187, dejan.kovsca@gmail.com\n",
    "\n",
    "Pričetek reševanja: Mon Dec 04 16:29:06 UTC 2017"
   ]
  },
  {
   "cell_type": "markdown",
   "metadata": {},
   "source": [
    "Na sliki je prikazan Airiyev disk, ki nastane zaradi zaradi uklona svetlobe na okrogli odprtini. Preučevali bomo črne kolobarje Airiyevega diska. Predpostavite, da je položaj črnih kolobarjev definiran s sferično Besselovo funkcijo prve vrste $\\frac{\\sin(x)}{x}+a=0$. Uporabite `scipy.optimize` knjižnjico."
   ]
  },
  {
   "cell_type": "markdown",
   "metadata": {},
   "source": [
    "<img width=500 src='dejan.kovsca_NIC_Mon Dec 04 16-29-06 UTC 2017.jpg'>"
   ]
  },
  {
   "cell_type": "code",
   "execution_count": 2,
   "metadata": {
    "collapsed": true
   },
   "outputs": [],
   "source": [
    "a = 0.09 # \n",
    "e_t = 1.1E-6 # \n",
    "n = 116 # "
   ]
  },
  {
   "cell_type": "markdown",
   "metadata": {},
   "source": [
    "### 1. vprašanje\n",
    "\n",
    " Newton-Raphsonova metoda iskanja ničel zahteva odvod funkcije!  (1: Da, 2: Ne)\n",
    "\n",
    "Število poskusov: 1."
   ]
  },
  {
   "cell_type": "code",
   "execution_count": 3,
   "metadata": {
    "collapsed": true
   },
   "outputs": [],
   "source": [
    "odgovor1 = 1#?"
   ]
  },
  {
   "cell_type": "code",
   "execution_count": 4,
   "metadata": {},
   "outputs": [
    {
     "name": "stdout",
     "output_type": "stream",
     "text": [
      "Pravilna rešitev. Uspeh: 16%. Preostali čas: 2dni,14ur, 53min\n"
     ]
    }
   ],
   "source": [
    "poslji(odgovor1, id=445879257991479296, st=0)"
   ]
  },
  {
   "cell_type": "markdown",
   "metadata": {},
   "source": [
    "### 2. vprašanje\n",
    "\n",
    " Pripravite numerično polje $x$ v intervalu $[1,10]$ z $n$ točkami in ga posredujte kot odgovor\n",
    "\n",
    "Število poskusov: 3."
   ]
  },
  {
   "cell_type": "code",
   "execution_count": 4,
   "metadata": {
    "collapsed": true
   },
   "outputs": [],
   "source": [
    "x = np.linspace(1, 10, n)"
   ]
  },
  {
   "cell_type": "code",
   "execution_count": 5,
   "metadata": {},
   "outputs": [
    {
     "data": {
      "text/plain": [
       "array([  1.        ,   1.07826087,   1.15652174,   1.23478261,\n",
       "         1.31304348,   1.39130435,   1.46956522,   1.54782609,\n",
       "         1.62608696,   1.70434783,   1.7826087 ,   1.86086957,\n",
       "         1.93913043,   2.0173913 ,   2.09565217,   2.17391304,\n",
       "         2.25217391,   2.33043478,   2.40869565,   2.48695652,\n",
       "         2.56521739,   2.64347826,   2.72173913,   2.8       ,\n",
       "         2.87826087,   2.95652174,   3.03478261,   3.11304348,\n",
       "         3.19130435,   3.26956522,   3.34782609,   3.42608696,\n",
       "         3.50434783,   3.5826087 ,   3.66086957,   3.73913043,\n",
       "         3.8173913 ,   3.89565217,   3.97391304,   4.05217391,\n",
       "         4.13043478,   4.20869565,   4.28695652,   4.36521739,\n",
       "         4.44347826,   4.52173913,   4.6       ,   4.67826087,\n",
       "         4.75652174,   4.83478261,   4.91304348,   4.99130435,\n",
       "         5.06956522,   5.14782609,   5.22608696,   5.30434783,\n",
       "         5.3826087 ,   5.46086957,   5.53913043,   5.6173913 ,\n",
       "         5.69565217,   5.77391304,   5.85217391,   5.93043478,\n",
       "         6.00869565,   6.08695652,   6.16521739,   6.24347826,\n",
       "         6.32173913,   6.4       ,   6.47826087,   6.55652174,\n",
       "         6.63478261,   6.71304348,   6.79130435,   6.86956522,\n",
       "         6.94782609,   7.02608696,   7.10434783,   7.1826087 ,\n",
       "         7.26086957,   7.33913043,   7.4173913 ,   7.49565217,\n",
       "         7.57391304,   7.65217391,   7.73043478,   7.80869565,\n",
       "         7.88695652,   7.96521739,   8.04347826,   8.12173913,\n",
       "         8.2       ,   8.27826087,   8.35652174,   8.43478261,\n",
       "         8.51304348,   8.59130435,   8.66956522,   8.74782609,\n",
       "         8.82608696,   8.90434783,   8.9826087 ,   9.06086957,\n",
       "         9.13913043,   9.2173913 ,   9.29565217,   9.37391304,\n",
       "         9.45217391,   9.53043478,   9.60869565,   9.68695652,\n",
       "         9.76521739,   9.84347826,   9.92173913,  10.        ])"
      ]
     },
     "execution_count": 5,
     "metadata": {},
     "output_type": "execute_result"
    }
   ],
   "source": [
    "odgovor2 = x#?\n",
    "odgovor2"
   ]
  },
  {
   "cell_type": "code",
   "execution_count": 7,
   "metadata": {},
   "outputs": [
    {
     "name": "stdout",
     "output_type": "stream",
     "text": [
      "Pravilna rešitev. Uspeh: 33%. Preostali čas: 2dni,14ur, 52min\n"
     ]
    }
   ],
   "source": [
    "poslji(odgovor2, id=645879257991479296, st=1)"
   ]
  },
  {
   "cell_type": "markdown",
   "metadata": {},
   "source": [
    "### 3. vprašanje\n",
    "\n",
    " Odvod definirane funkcije za iskanje ničel je $\\frac{x\\,\\cos(x)-\\sin(x)}{x^2}$!  (1: Da, 2: Ne)\n",
    "\n",
    "Število poskusov: 1."
   ]
  },
  {
   "cell_type": "code",
   "execution_count": 6,
   "metadata": {
    "collapsed": true
   },
   "outputs": [],
   "source": [
    "import sympy as sym\n",
    "sym.init_printing()"
   ]
  },
  {
   "cell_type": "code",
   "execution_count": 17,
   "metadata": {},
   "outputs": [
    {
     "data": {
      "image/png": "[encoded data removed]",
      "text/latex": [
       "$$\\frac{1}{x} \\cos{\\left (x \\right )} - \\frac{1}{x^{2}} \\sin{\\left (x \\right )}$$"
      ],
      "text/plain": [
       "cos(x)   sin(x)\n",
       "────── - ──────\n",
       "  x         2  \n",
       "           x   "
      ]
     },
     "execution_count": 17,
     "metadata": {},
     "output_type": "execute_result"
    }
   ],
   "source": [
    "x_s, a_s = sym.symbols('x a')\n",
    "funkcija_sym = sym.sin(x_s)/x_s + a_s\n",
    "odvod_sym = funkcija_sym.diff(x_s)\n",
    "odvod_sym"
   ]
  },
  {
   "cell_type": "code",
   "execution_count": 18,
   "metadata": {
    "collapsed": true
   },
   "outputs": [],
   "source": [
    "odgovor3 = 1#?"
   ]
  },
  {
   "cell_type": "code",
   "execution_count": 19,
   "metadata": {},
   "outputs": [
    {
     "name": "stdout",
     "output_type": "stream",
     "text": [
      "Pravilna rešitev. Uspeh: 50%. Preostali čas: 2dni,14ur, 45min\n"
     ]
    }
   ],
   "source": [
    "poslji(odgovor3, id=645879257991479296, st=2)"
   ]
  },
  {
   "cell_type": "markdown",
   "metadata": {},
   "source": [
    "### 4. vprašanje\n",
    "\n",
    " Določite prvi dve netrivialni ničli ($x>0$). Uporabite Newton-Raphsonovo metodo iskanja ničel,in vpišite numerično polje rešitev.\n",
    "\n",
    "Število poskusov: 3."
   ]
  },
  {
   "cell_type": "code",
   "execution_count": 7,
   "metadata": {
    "collapsed": true
   },
   "outputs": [],
   "source": [
    "import matplotlib.pyplot as plt\n",
    "%matplotlib inline"
   ]
  },
  {
   "cell_type": "code",
   "execution_count": 8,
   "metadata": {},
   "outputs": [
    {
     "data": {
      "text/plain": [
       "<matplotlib.lines.Line2D at 0x1eaa2e96128>"
      ]
     },
     "execution_count": 8,
     "metadata": {},
     "output_type": "execute_result"
    },
    {
     "data": {
      "image/png": "[encoded data removed]",
      "text/plain": [
       "<matplotlib.figure.Figure at 0x1eaa2e963c8>"
      ]
     },
     "metadata": {},
     "output_type": "display_data"
    }
   ],
   "source": [
    "plt.plot(x, np.sin(x)/x + a, 'r')\n",
    "plt.axhline(0, color='b')"
   ]
  },
  {
   "cell_type": "code",
   "execution_count": 9,
   "metadata": {
    "collapsed": true
   },
   "outputs": [],
   "source": [
    "from scipy.optimize import newton"
   ]
  },
  {
   "cell_type": "code",
   "execution_count": 10,
   "metadata": {
    "collapsed": true
   },
   "outputs": [],
   "source": [
    "def f(x):\n",
    "    return np.sin(x)/x + 0.09\n",
    "\n",
    "def df(x):\n",
    "    return (x*np.cos(x) - np.sin(x))/x**2"
   ]
  },
  {
   "cell_type": "code",
   "execution_count": 11,
   "metadata": {
    "collapsed": true
   },
   "outputs": [],
   "source": [
    "prva = newton(func=f, x0=2, fprime=df)\n",
    "druga = newton(func=f, x0=6, fprime=df)"
   ]
  },
  {
   "cell_type": "code",
   "execution_count": 12,
   "metadata": {},
   "outputs": [
    {
     "data": {
      "text/plain": [
       "array([ 3.45807641,  5.74028056])"
      ]
     },
     "execution_count": 12,
     "metadata": {},
     "output_type": "execute_result"
    }
   ],
   "source": [
    "odgovor4 = np.array([prva, druga])#?\n",
    "odgovor4"
   ]
  },
  {
   "cell_type": "code",
   "execution_count": 73,
   "metadata": {},
   "outputs": [
    {
     "name": "stdout",
     "output_type": "stream",
     "text": [
      "Pravilna rešitev. Uspeh: 66%. Preostali čas: 2dni,14ur, 23min\n"
     ]
    }
   ],
   "source": [
    "poslji(odgovor4, id=145879257991479296, st=3)"
   ]
  },
  {
   "cell_type": "markdown",
   "metadata": {},
   "source": [
    "### 5. vprašanje\n",
    "\n",
    " Določite obe ničli še s bisekcijsko metodo iskanja ničel in vpišite numerično polje rešitev.\n",
    "\n",
    "Število poskusov: 3."
   ]
  },
  {
   "cell_type": "code",
   "execution_count": 13,
   "metadata": {
    "collapsed": true
   },
   "outputs": [],
   "source": [
    "from scipy.optimize import bisect"
   ]
  },
  {
   "cell_type": "code",
   "execution_count": 14,
   "metadata": {
    "collapsed": true
   },
   "outputs": [],
   "source": [
    "prva_b = bisect(f, a=2, b=4)\n",
    "druga_b = bisect(f, a=5, b=7)"
   ]
  },
  {
   "cell_type": "code",
   "execution_count": 15,
   "metadata": {},
   "outputs": [
    {
     "data": {
      "text/plain": [
       "array([ 3.45807641,  5.74028056])"
      ]
     },
     "execution_count": 15,
     "metadata": {},
     "output_type": "execute_result"
    }
   ],
   "source": [
    "odgovor5 = np.array([prva_b, druga_b])#?\n",
    "odgovor5"
   ]
  },
  {
   "cell_type": "code",
   "execution_count": 78,
   "metadata": {},
   "outputs": [
    {
     "name": "stdout",
     "output_type": "stream",
     "text": [
      "Pravilna rešitev. Uspeh: 83%. Preostali čas: 2dni,14ur, 19min\n"
     ]
    }
   ],
   "source": [
    "poslji(odgovor5, id=345879257991479296, st=4)"
   ]
  },
  {
   "cell_type": "markdown",
   "metadata": {},
   "source": [
    "### 6. vprašanje\n",
    "\n",
    " Ali je razlika v lokaciji prve iskane ničle med metodama večja od $e_t$? (1: Da, 2: Ne)\n",
    "\n",
    "Število poskusov: 1."
   ]
  },
  {
   "cell_type": "code",
   "execution_count": 16,
   "metadata": {},
   "outputs": [
    {
     "data": {
      "image/png": "[encoded data removed]",
      "text/latex": [
       "$$1.1e-06$$"
      ],
      "text/plain": [
       "1.1e-06"
      ]
     },
     "execution_count": 16,
     "metadata": {},
     "output_type": "execute_result"
    }
   ],
   "source": [
    "e_t"
   ]
  },
  {
   "cell_type": "code",
   "execution_count": 21,
   "metadata": {},
   "outputs": [
    {
     "name": "stdout",
     "output_type": "stream",
     "text": [
      "1.2985168496e-12\n"
     ]
    },
    {
     "data": {
      "text/plain": [
       "False"
      ]
     },
     "execution_count": 21,
     "metadata": {},
     "output_type": "execute_result"
    }
   ],
   "source": [
    "razlika = abs(prva - prva_b)\n",
    "print(razlika)\n",
    "razlika > e_t"
   ]
  },
  {
   "cell_type": "code",
   "execution_count": 22,
   "metadata": {
    "collapsed": true
   },
   "outputs": [],
   "source": [
    "odgovor6 = 2#?"
   ]
  },
  {
   "cell_type": "code",
   "execution_count": 23,
   "metadata": {},
   "outputs": [
    {
     "name": "stdout",
     "output_type": "stream",
     "text": [
      "Pravilna rešitev. Uspeh: 100%. Preostali čas: 1dni,20ur, 31min\n"
     ]
    }
   ],
   "source": [
    "poslji(odgovor6, id=645879257991479296, st=5)"
   ]
  },
  {
   "cell_type": "code",
   "execution_count": null,
   "metadata": {
    "collapsed": true
   },
   "outputs": [],
   "source": []
  }
 ],
 "metadata": {
  "kernelspec": {
   "display_name": "Python 3",
   "language": "python",
   "name": "python3"
  },
  "language_info": {
   "codemirror_mode": {
    "name": "ipython",
    "version": 3
   },
   "file_extension": ".py",
   "mimetype": "text/x-python",
   "name": "python",
   "nbconvert_exporter": "python",
   "pygments_lexer": "ipython3",
   "version": "3.6.2"
  }
 },
 "nbformat": 4,
 "nbformat_minor": 1
}
