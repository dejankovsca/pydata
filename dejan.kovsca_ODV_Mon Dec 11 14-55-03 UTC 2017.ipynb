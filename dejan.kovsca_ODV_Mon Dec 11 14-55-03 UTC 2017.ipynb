{
 "cells": [
  {
   "cell_type": "code",
   "execution_count": 1,
   "metadata": {},
   "outputs": [
    {
     "name": "stdout",
     "output_type": "stream",
     "text": [
      "Downloading file: mojladisksi.py\n"
     ]
    },
    {
     "data": {
      "text/plain": [
       "''"
      ]
     },
     "execution_count": 1,
     "metadata": {},
     "output_type": "execute_result"
    }
   ],
   "source": [
    "from sync import sync\n",
    "sync('/moj.ladisk.si/mojladisksi.py')\n",
    "from mojladisksi import poslji\n",
    "import numpy as np\n",
    ";"
   ]
  },
  {
   "cell_type": "markdown",
   "metadata": {},
   "source": [
    "# ODV\n",
    "\n",
    "Kovšca Dejan, 23160187, dejan.kovsca@gmail.com\n",
    "\n",
    "Pričetek reševanja: Mon Dec 11 14:55:03 UTC 2017"
   ]
  },
  {
   "cell_type": "markdown",
   "metadata": {},
   "source": [
    "Med letom s športnim letalom ste naleteli na turbulenco. Po pristanku ste si ogledali meritve vaše nadmorske višine in ugotovili, da jo lahko v času turbulence aproksimirate z izrazom $y(t) = A - H \\sin(k \\pi t \\, / \\, (t_2-t_1))$."
   ]
  },
  {
   "cell_type": "markdown",
   "metadata": {},
   "source": [
    "<img width=500 src='dejan.kovsca_ODV_Mon Dec 11 14-55-03 UTC 2017.jpg'>"
   ]
  },
  {
   "cell_type": "code",
   "execution_count": 2,
   "metadata": {
    "collapsed": true
   },
   "outputs": [],
   "source": [
    "A = 450 # m\n",
    "H = 21.5 # m\n",
    "k = 2.7 # \n",
    "N = 120 # \n",
    "t_1 = 5.25 # s\n",
    "t_2 = 8.5 # s"
   ]
  },
  {
   "cell_type": "markdown",
   "metadata": {},
   "source": [
    "### 1. vprašanje\n",
    "\n",
    " Natančnost zapisa števil v spominu nima vpliva na napako numeričnega odvajanja! (1: Da, 2: Ne)\n",
    "\n",
    "Število poskusov: 1."
   ]
  },
  {
   "cell_type": "code",
   "execution_count": 3,
   "metadata": {
    "collapsed": true
   },
   "outputs": [],
   "source": [
    "odgovor1 = 2#?"
   ]
  },
  {
   "cell_type": "code",
   "execution_count": 4,
   "metadata": {},
   "outputs": [
    {
     "name": "stdout",
     "output_type": "stream",
     "text": [
      "Pravilna rešitev. Uspeh: 20%. Preostali čas: 2dni,16ur, 19min\n"
     ]
    }
   ],
   "source": [
    "poslji(odgovor1, id=626632659511934976, st=0)"
   ]
  },
  {
   "cell_type": "markdown",
   "metadata": {},
   "source": [
    "### 2. vprašanje\n",
    "\n",
    " Pripravite numerično polje časa ``t`` z $N$ ekvidistantnimi točkami na intervalu $[t_1, t_2]$ in izračunajte numerično polje ``y`` pripadajočih vrednosti nadmorske višine $y(t)$. Kot odgovor podajte numerično polje ``y``.\n",
    "\n",
    "Število poskusov: 3, enote:  m"
   ]
  },
  {
   "cell_type": "code",
   "execution_count": 20,
   "metadata": {},
   "outputs": [],
   "source": [
    "t, h = np.linspace(t_1, t_2, N, retstep=1)\n",
    "y = A - H * np.sin(k * np.pi * t / (t_2 - t_1))"
   ]
  },
  {
   "cell_type": "code",
   "execution_count": 6,
   "metadata": {},
   "outputs": [
    {
     "data": {
      "text/plain": [
       "array([ 430.50220124,  429.90645524,  429.41275759,  429.02361563,\n",
       "        428.74100567,  428.56636299,  428.50057455,  428.54397447,\n",
       "        428.69634232,  428.95690429,  429.32433706,  429.79677458,\n",
       "        430.37181749,  431.04654533,  431.8175314 ,  432.68086011,\n",
       "        433.63214692,  434.66656054,  435.77884755,  436.96335901,\n",
       "        438.21407919,  439.52465609,  440.88843375,  442.29848598,\n",
       "        443.74765162,  445.22857083,  446.73372253,  448.25546255,\n",
       "        449.78606249,  451.31774895,  452.842743  ,  454.35329972,\n",
       "        455.84174749,  457.30052699,  458.72222957,  460.09963488,\n",
       "        461.42574754,  462.69383267,  463.89745009,  465.03048703,\n",
       "        466.08718918,  467.06218991,  467.95053751,  468.74772037,\n",
       "        469.44968986,  470.05288091,  470.55423012,  470.95119131,\n",
       "        471.24174845,  471.42442588,  471.49829586,  471.46298322,\n",
       "        471.31866731,  471.06608105,  470.70650725,  470.24177207,\n",
       "        469.67423572,  469.00678055,  468.24279633,  467.38616309,\n",
       "        466.44123136,  465.41280015,  464.30609251,  463.12672904,\n",
       "        461.88069932,  460.57433153,  459.21426026,  457.80739286,\n",
       "        456.36087433,  454.88205107,  453.37843351,  451.85765802,\n",
       "        450.32744811,  448.7955752 ,  447.26981917,  445.7579288 ,\n",
       "        444.26758248,  442.80634919,  441.38165003,  440.00072057,\n",
       "        438.67057409,  437.39796595,  436.18935931,  435.05089227,\n",
       "        433.98834672,  433.00711898,  432.11219236,  431.30811191,\n",
       "        430.59896127,  429.98834198,  429.47935517,  429.07458583,\n",
       "        428.77608962,  428.58538252,  428.50343306,  428.53065744,\n",
       "        428.66691739,  428.91152089,  429.26322569,  429.72024559,\n",
       "        430.28025955,  430.94042344,  431.69738451,  432.54729841,\n",
       "        433.48584871,  434.50826884,  435.60936625,  436.78354886,\n",
       "        438.02485339,  439.32697565,  440.68330262,  442.08694596,\n",
       "        443.53077704,  445.00746313,  446.50950464,  448.02927319,\n",
       "        449.55905041,  451.09106706,  452.61754255,  454.13072442])"
      ]
     },
     "execution_count": 6,
     "metadata": {},
     "output_type": "execute_result"
    }
   ],
   "source": [
    "odgovor2 = y#?\n",
    "odgovor2"
   ]
  },
  {
   "cell_type": "code",
   "execution_count": 7,
   "metadata": {},
   "outputs": [
    {
     "name": "stdout",
     "output_type": "stream",
     "text": [
      "Pravilna rešitev. Uspeh: 40%. Preostali čas: 2dni,16ur, 14min\n"
     ]
    }
   ],
   "source": [
    "poslji(odgovor2, id=726632659511934976, st=1)"
   ]
  },
  {
   "cell_type": "markdown",
   "metadata": {},
   "source": [
    "### 3. vprašanje\n",
    "\n",
    " Z uporabo funkcije ``numpy.gradient`` numerično izračunajte hitrost letala v navpični smeri $\\dot{y}$ v času $[t_1, t_2]$.\n",
    "\n",
    "Število poskusov: 3, enote:  m/s"
   ]
  },
  {
   "cell_type": "code",
   "execution_count": 8,
   "metadata": {},
   "outputs": [
    {
     "data": {
      "text/plain": [
       "array([-21.81346906, -19.94519912, -16.16275592, -12.29822752,\n",
       "        -8.37124056,  -4.40173887,  -0.40988224,   3.58405605,\n",
       "         7.55979212,  11.49713455,  15.37608689,  19.17694927,\n",
       "        22.88041836,  26.4676855 ,  29.92053217,  33.22142252,\n",
       "        36.35359243,  39.30113466,  42.04907965,  44.5834715 ,\n",
       "        46.89143889,  48.96126042,  50.78242418,  52.34568107,\n",
       "        53.64309186,  54.66806741,  55.41540223,  55.88130086,\n",
       "        56.06339714,  55.96076629,  55.57392951,  54.90485143,\n",
       "        53.95693008,  52.73497961,  51.24520592,  49.49517505,\n",
       "        47.49377483,  45.2511697 ,  42.77874909,  40.0890696 ,\n",
       "        37.1957912 ,  34.11360788,  30.85817302,  27.44601988,\n",
       "        23.89447762,  20.22158335,  16.44599046,  12.58687391,\n",
       "         8.66383286,   4.69679111,   0.70589594,  -3.28858423,\n",
       "        -7.2663628 , -11.20723794, -15.0911953 , -18.89850955,\n",
       "       -22.60984462, -26.2063519 , -29.66976592, -32.98249718,\n",
       "       -36.12772142, -39.08946512, -41.85268656, -44.40335228,\n",
       "       -46.7285083 , -48.81634594, -50.65626178, -52.23891149,\n",
       "       -53.55625733, -54.60160895, -55.36965736, -55.85650189,\n",
       "       -56.05967003, -55.97812995, -55.61229577, -54.96402544,\n",
       "       -54.03661131, -52.83476339, -51.36458548, -49.63354411,\n",
       "       -47.65043065, -45.42531668, -42.96950279, -40.29546125,\n",
       "       -37.41677261, -34.34805676, -31.10489868, -27.70376928,\n",
       "       -24.16194175, -20.49740384, -16.72876651, -12.87516939,\n",
       "        -8.95618362,  -4.99171241,  -1.00188996,   2.99302074,\n",
       "         6.9727309 ,  10.91702891,  14.80588299,  18.61954297,\n",
       "        22.33864056,  25.9442877 ,  29.41817253,  32.74265234,\n",
       "        35.90084324,  38.87670582,  41.65512669,  44.22199517,\n",
       "        46.56427501,  48.67007055,  50.52868717,  52.13068557,\n",
       "        53.46792975,  54.53362829,  55.32236887,  55.83014574,\n",
       "        56.05438007,  55.99393304,  55.64911166,  55.40573619])"
      ]
     },
     "execution_count": 8,
     "metadata": {},
     "output_type": "execute_result"
    }
   ],
   "source": [
    "v = np.gradient(y, t)"
   ]
  },
  {
   "cell_type": "code",
   "execution_count": 9,
   "metadata": {
    "collapsed": true
   },
   "outputs": [],
   "source": [
    "odgovor3 = v#?"
   ]
  },
  {
   "cell_type": "code",
   "execution_count": 10,
   "metadata": {},
   "outputs": [
    {
     "name": "stdout",
     "output_type": "stream",
     "text": [
      "Pravilna rešitev. Uspeh: 60%. Preostali čas: 2dni,16ur, 12min\n"
     ]
    }
   ],
   "source": [
    "poslji(odgovor3, id=226632659511934976, st=2)"
   ]
  },
  {
   "cell_type": "markdown",
   "metadata": {},
   "source": [
    "### 4. vprašanje\n",
    "\n",
    " Hitrost v navpični smeri v diskretnih točkah, kjer je to mogoče, numerično izračunajte še z uporabo diferenčne sheme naprej z redom napake $\\mathcal{O}(h^{2})$. Kot rezultat podajte izračunane vrednosti odvoda v prvih $N-2$ točkah.\n",
    "\n",
    "Število poskusov: 3, enote:  m/s"
   ]
  },
  {
   "cell_type": "code",
   "execution_count": 25,
   "metadata": {},
   "outputs": [],
   "source": [
    "def diferenčnashema_prvi(y, h):\n",
    "    v_diferenčna = []\n",
    "    for i in range(len(y)-2):\n",
    "        v = (1/(2*h)) * (-3*y[i] + 4*y[i+1] -y[i+2])\n",
    "        v_diferenčna.append(v)\n",
    "    return v_diferenčna "
   ]
  },
  {
   "cell_type": "code",
   "execution_count": 30,
   "metadata": {},
   "outputs": [
    {
     "data": {
      "text/plain": [
       "array([-23.681739  , -19.99110245, -16.1989378 , -12.3245042 ,\n",
       "        -8.38747859,  -4.40785579,  -0.40584698,   3.598223  ,\n",
       "         7.58401881,  11.53129794,  15.42001348,  19.23041596,\n",
       "        22.94315362,  26.53937072,  30.00080328,  33.30987184,\n",
       "        36.44977077,  39.40455357,  42.15921388,  44.69976173,\n",
       "        47.01329451,  49.08806258,  50.91352888,  52.48042249,\n",
       "        53.78078567,  54.80801433,  55.55689151,  56.02361392,\n",
       "        56.20581123,  56.10255812,  55.71437898,  55.04324524,\n",
       "        54.09256537,  52.86716755,  51.37327515,  49.61847517,\n",
       "        47.61167963,  45.36308038,  42.88409729,  40.1873203 ,\n",
       "        37.28644542,  34.19620521,  30.93229398,  27.51128803,\n",
       "        23.95056149,  20.26819811,  16.48289936,  12.61388951,\n",
       "         8.68081795,   4.70365944,   0.70261262,  -3.30200253,\n",
       "        -7.28984792, -11.24067062, -15.13440573, -18.95127829,\n",
       "       -22.67190368, -26.27738609, -29.74941449, -33.07035562,\n",
       "       -36.22334353, -39.19236526, -41.96234214, -44.51920639,\n",
       "       -46.84997257, -48.94280348, -50.78707036, -52.37340677,\n",
       "       -53.69375627, -54.74141323, -55.51105695, -55.99877868,\n",
       "       -56.20210145, -56.11999263, -55.75286924, -55.10259578,\n",
       "       -54.17247475, -52.96722995, -51.49298239, -49.75721928,\n",
       "       -47.76875599, -45.53769125, -43.07535588, -40.39425526,\n",
       "       -37.50800581, -34.4312658 , -31.17966097, -27.76970512,\n",
       "       -24.21871628, -20.54472873, -16.7664014 , -12.90292316,\n",
       "        -8.97391531,  -4.99933196,  -0.99935868,   3.00569   ,\n",
       "         6.9954738 ,  10.94972993,  14.84837607,  18.6716123 ,\n",
       "        22.40002168,  26.01466889,  29.49719634,  32.82991745,\n",
       "        35.99590645,  38.97908434,  41.76430056,  44.33740995,\n",
       "        46.68534454,  48.79617995,  50.65919598,  52.26493099,\n",
       "        53.60522998,  54.67328603,  55.46367484,  55.9723823 ,\n",
       "        56.19682485,  56.13586262])"
      ]
     },
     "execution_count": 30,
     "metadata": {},
     "output_type": "execute_result"
    }
   ],
   "source": [
    "v_diferenčna = np.array(diferenčnashema_prvi(y, h))\n",
    "odgovor4 = v_diferenčna#?\n",
    "odgovor4"
   ]
  },
  {
   "cell_type": "code",
   "execution_count": 31,
   "metadata": {},
   "outputs": [
    {
     "data": {
      "text/plain": [
       "-22.609844621374577"
      ]
     },
     "execution_count": 31,
     "metadata": {},
     "output_type": "execute_result"
    }
   ],
   "source": [
    "v[56]"
   ]
  },
  {
   "cell_type": "code",
   "execution_count": 32,
   "metadata": {},
   "outputs": [
    {
     "data": {
      "text/plain": [
       "-22.671903677911768"
      ]
     },
     "execution_count": 32,
     "metadata": {},
     "output_type": "execute_result"
    }
   ],
   "source": [
    "v_diferenčna[56]"
   ]
  },
  {
   "cell_type": "code",
   "execution_count": 33,
   "metadata": {},
   "outputs": [
    {
     "name": "stdout",
     "output_type": "stream",
     "text": [
      "Pravilna rešitev. Uspeh: 80%. Preostali čas: 2dni,15ur, 52min\n"
     ]
    }
   ],
   "source": [
    "poslji(odgovor4, id=726632659511934976, st=3)"
   ]
  },
  {
   "cell_type": "markdown",
   "metadata": {},
   "source": [
    "### 5. vprašanje\n",
    "\n",
    " Z uporabo diferenčne sheme naprej z redom napake $\\mathcal{O}(h^{2})$ numerično določite še pospešek letala v navpični smeri $\\ddot{y}$. Kot rezultat podajte izračunane vrednosti 2. odvoda v prvih $N-3$ točkah.\n",
    "\n",
    "Število poskusov: 3, enote:  m/s^2"
   ]
  },
  {
   "cell_type": "code",
   "execution_count": 34,
   "metadata": {
    "collapsed": true
   },
   "outputs": [],
   "source": [
    "def diferenčnashema_drugi(y, h):\n",
    "    a_diferenčna = []\n",
    "    for i in range(len(y)-3):\n",
    "        v = (1/(h**2)) * (2*y[i] -5*y[i+1] + 4*y[i+2] -y[i+3])\n",
    "        a_diferenčna.append(v)\n",
    "    return a_diferenčna "
   ]
  },
  {
   "cell_type": "code",
   "execution_count": 35,
   "metadata": {},
   "outputs": [
    {
     "data": {
      "text/plain": [
       "array([ 133.45330907,  137.52675341,  140.90174561,  143.56114522,\n",
       "        145.49144604,  146.68284472,  147.12929055,  146.82851618,\n",
       "        145.78204915,  143.9952041 ,  141.47705583,  138.24039316,\n",
       "        134.301654  ,  129.68084191,  124.40142442,  118.49021392,\n",
       "        111.97723146,  104.89555429,   97.28114787,   89.17268321,\n",
       "         80.61134048,   71.64059985,   62.30602069,   52.65501021,\n",
       "         42.73658264,   32.60111033,   22.30006794,   11.88577101,\n",
       "          1.41111024,   -9.07071709,  -19.50647729,  -29.84317065,\n",
       "        -40.02830058,  -50.01014024,  -59.7379952 ,  -69.16246097,\n",
       "        -78.23567386,  -86.91155406,  -95.1460397 , -102.8973106 ,\n",
       "       -110.12600065, -116.79539777, -122.87163034, -128.3238392 ,\n",
       "       -133.12433444, -137.24873593, -140.67609725, -143.38901196,\n",
       "       -145.37370209, -146.62008807, -147.12183992, -146.8764094 ,\n",
       "       -145.88504299, -144.15277549, -141.68840452, -138.50444577,\n",
       "       -134.61706952, -130.04601842, -124.81450733, -118.94910532,\n",
       "       -112.47960079, -105.43885019,  -97.86261112,  -89.78936076,\n",
       "        -81.26010041,  -72.31814735,  -63.00891472,  -53.379681  ,\n",
       "        -43.47934983,  -33.35820166,  -23.0676384 ,  -12.65992236,\n",
       "         -2.18791083,    8.29521236,   18.73620696,   29.08204666,\n",
       "         39.28018843,   49.27883932,   59.02721956,   68.4758204 ,\n",
       "         77.57665557,   86.28350498,   94.55214949,  102.34059542,\n",
       "        109.60928787,  116.32131161,  122.44257851,  127.94200072,\n",
       "        132.79164853,  136.9668922 ,  140.44652708,  143.21288127,\n",
       "        145.25190539,  146.55324391,  147.11028779,  146.92020797,\n",
       "        145.98396982,  144.30632816,  141.89580318,  138.76463713,\n",
       "        134.92873214,  130.40756949,  125.22411064,  119.40468063,\n",
       "        112.97883439,  105.97920664,   98.44134614,   90.40353513,\n",
       "         81.90659497,   72.99367875,   63.71005217,   54.10286366,\n",
       "         44.2209049 ,   34.11436303,   23.83456578,   13.43372078,\n",
       "          2.96465043])"
      ]
     },
     "execution_count": 35,
     "metadata": {},
     "output_type": "execute_result"
    }
   ],
   "source": [
    "a_diferenčna = np.array(diferenčnashema_drugi(y, h))\n",
    "odgovor5 = a_diferenčna#?\n",
    "odgovor5"
   ]
  },
  {
   "cell_type": "code",
   "execution_count": 36,
   "metadata": {},
   "outputs": [
    {
     "name": "stdout",
     "output_type": "stream",
     "text": [
      "Pravilna rešitev. Uspeh: 100%. Preostali čas: 2dni,15ur, 47min\n"
     ]
    }
   ],
   "source": [
    "poslji(odgovor5, id=326632659511934976, st=4)"
   ]
  },
  {
   "cell_type": "code",
   "execution_count": null,
   "metadata": {
    "collapsed": true
   },
   "outputs": [],
   "source": []
  }
 ],
 "metadata": {
  "kernelspec": {
   "display_name": "Python 3",
   "language": "python",
   "name": "python3"
  },
  "language_info": {
   "codemirror_mode": {
    "name": "ipython",
    "version": 3
   },
   "file_extension": ".py",
   "mimetype": "text/x-python",
   "name": "python",
   "nbconvert_exporter": "python",
   "pygments_lexer": "ipython3",
   "version": "3.6.2"
  }
 },
 "nbformat": 4,
 "nbformat_minor": 1
}
