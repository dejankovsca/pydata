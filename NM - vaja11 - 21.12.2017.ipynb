{
 "cells": [
  {
   "cell_type": "markdown",
   "metadata": {},
   "source": [
    "# Numerično integriranje"
   ]
  },
  {
   "cell_type": "code",
   "execution_count": 1,
   "metadata": {},
   "outputs": [
    {
     "name": "stderr",
     "output_type": "stream",
     "text": [
      "/opt/anaconda/lib/python3.6/site-packages/matplotlib/font_manager.py:280: UserWarning: Matplotlib is building the font cache using fc-list. This may take a moment.\n",
      "  'Matplotlib is building the font cache using fc-list. '\n"
     ]
    }
   ],
   "source": [
    "import numpy as np\n",
    "import sympy as sym\n",
    "import matplotlib.pyplot as plt\n",
    "%matplotlib inline"
   ]
  },
  {
   "cell_type": "markdown",
   "metadata": {
    "collapsed": true
   },
   "source": [
    "### vprašanje 1 (wan) - sympy"
   ]
  },
  {
   "cell_type": "code",
   "execution_count": 8,
   "metadata": {},
   "outputs": [
    {
     "data": {
      "text/plain": [
       "140.6250000"
      ]
     },
     "execution_count": 8,
     "metadata": {},
     "output_type": "execute_result"
    }
   ],
   "source": [
    "R = 7.5\n",
    "r, p = sym.symbols('r, varphi')\n",
    "f_sym = r**3 / 3 *sym.sin(p)\n",
    "I_sym = sym.integrate(f_sym, (p, 0, sym.pi/2))\n",
    "I_pravi = I_sym.subs(r, R).evalf(10) #brez evalf ni pravi float - ne moremo računat z njim čeprav je že štefilka\n",
    "I_pravi"
   ]
  },
  {
   "cell_type": "code",
   "execution_count": 11,
   "metadata": {},
   "outputs": [],
   "source": [
    "f_num = sym.lambdify(p, f_sym.subs(r, R), 'numpy') #numpyeva funkcija\n",
    "f_num?"
   ]
  },
  {
   "cell_type": "markdown",
   "metadata": {},
   "source": [
    "### vprašanje 2"
   ]
  },
  {
   "cell_type": "code",
   "execution_count": 13,
   "metadata": {
    "collapsed": true
   },
   "outputs": [],
   "source": [
    "x, h = np.linspace(0, np.pi/2, 100, retstep=True)\n",
    "y = f_num(x)"
   ]
  },
  {
   "cell_type": "code",
   "execution_count": 14,
   "metadata": {
    "collapsed": true
   },
   "outputs": [],
   "source": [
    "from scipy.integrate import simps"
   ]
  },
  {
   "cell_type": "code",
   "execution_count": 16,
   "metadata": {},
   "outputs": [
    {
     "data": {
      "text/plain": [
       "140.62204979308572"
      ]
     },
     "execution_count": 16,
     "metadata": {},
     "output_type": "execute_result"
    }
   ],
   "source": [
    "I_trapz = np.trapz(y, x) #sestavljena trapezna metoda\n",
    "I_trapz"
   ]
  },
  {
   "cell_type": "code",
   "execution_count": 21,
   "metadata": {},
   "outputs": [
    {
     "data": {
      "text/plain": [
       "140.62497645950683"
      ]
     },
     "execution_count": 21,
     "metadata": {},
     "output_type": "execute_result"
    }
   ],
   "source": [
    "I_simps = simps(y, x) #natančnejša #simps(y, dx=h)\n",
    "I_simps"
   ]
  },
  {
   "cell_type": "markdown",
   "metadata": {},
   "source": [
    "### Sestavljeno trapezno pravilo (wan)"
   ]
  },
  {
   "cell_type": "code",
   "execution_count": 23,
   "metadata": {},
   "outputs": [
    {
     "data": {
      "text/plain": [
       "140.62204979308575"
      ]
     },
     "execution_count": 23,
     "metadata": {},
     "output_type": "execute_result"
    }
   ],
   "source": [
    "x, h = np.linspace(0, np.pi/2, 100, retstep=True)\n",
    "y = f_num(x)\n",
    "(np.sum(y) - (y[0]/2 + y[-1]/2)) * (x[1] - x[0]) #lažje odštet polovičke od vsega * h"
   ]
  },
  {
   "cell_type": "markdown",
   "metadata": {},
   "source": [
    "### vprašanje 3"
   ]
  },
  {
   "cell_type": "code",
   "execution_count": 24,
   "metadata": {
    "collapsed": true
   },
   "outputs": [],
   "source": [
    "#z uporabo osnovnega trapeznega pravila (ne sestavljenega)\n",
    "def f(x):\n",
    "    return -0.5*x**3 - x**2 + 8"
   ]
  },
  {
   "cell_type": "code",
   "execution_count": 36,
   "metadata": {},
   "outputs": [
    {
     "data": {
      "text/plain": [
       "8.0"
      ]
     },
     "execution_count": 36,
     "metadata": {},
     "output_type": "execute_result"
    }
   ],
   "source": [
    "x = np.array([0, 2]) #za osnovno trapezno rabimo samo 2 točki - prvo in zadnjo (meje)\n",
    "y = f(x)\n",
    "I_osnovno = (np.sum(y)) * (x[1] - x[0])/2\n",
    "I_osnovno"
   ]
  },
  {
   "cell_type": "code",
   "execution_count": 38,
   "metadata": {},
   "outputs": [
    {
     "data": {
      "text/plain": [
       "11.300000000000001"
      ]
     },
     "execution_count": 38,
     "metadata": {},
     "output_type": "execute_result"
    }
   ],
   "source": [
    "x_11, h_11 = np.linspace(0, 2, 11, retstep=True)\n",
    "y_11 = f(x_11)\n",
    "I_sestavljeno = np.trapz(y_11, dx=h_11)\n",
    "I_sestavljeno"
   ]
  },
  {
   "cell_type": "markdown",
   "metadata": {},
   "source": [
    "### vprašanje 4 - izboljšan približek z Richardsovo ekstrapolacijo\n",
    "* izračunamo z korakom h in 2h\n",
    "* boljši približek\n",
    "* trapezno - red napake 2 => n=2"
   ]
  },
  {
   "cell_type": "code",
   "execution_count": 39,
   "metadata": {},
   "outputs": [
    {
     "data": {
      "text/plain": [
       "11.333333333333332"
      ]
     },
     "execution_count": 39,
     "metadata": {},
     "output_type": "execute_result"
    }
   ],
   "source": [
    "x_1 = np.linspace(0, 2, 3)\n",
    "x_2 = np.linspace(0, 2, 5)\n",
    "y_1 = f(x_1)\n",
    "y_2 = f(x_2)\n",
    "I_h = np.trapz(y_2, x_2)\n",
    "I_2h = np.trapz(y_1, x_1) #večji korak - manj točk\n",
    "I_boljši = 4/3 * I_h - 1/3 * I_2h #boljšega bolj upoštevamo - večja utež\n",
    "I_boljši\n",
    "# f = polinom 3 red - richardsova ekstrapolacija točna vrednost polinoma 3. reda z 5 točkami! ne rabimo več"
   ]
  },
  {
   "cell_type": "markdown",
   "metadata": {},
   "source": [
    "### vprašanje 6 - Simpsonovo 1/3 pravilo\n",
    "* A_i = h * [1/3, 4/3, 1/3] ---> uteži (za 3 točke)\n",
    "* A_i = h * [1/3, 4/3, 2/3, 4/3, 1/3] ---> uteži (za 5 točk)"
   ]
  },
  {
   "cell_type": "code",
   "execution_count": 49,
   "metadata": {},
   "outputs": [
    {
     "data": {
      "text/plain": [
       "11.333333333333332"
      ]
     },
     "execution_count": 49,
     "metadata": {},
     "output_type": "execute_result"
    }
   ],
   "source": [
    "utezi = np.array([1/3, 4/3, 1/3])\n",
    "x1 = np.array([0, 1, 2]) #3 točke med 0 in 2\n",
    "y1 = f(x1)\n",
    "I_simps_osnovna = np.dot(utezi, y1) * 1\n",
    "I_simps_osnovna #z simpsoms smo sobili z 3mi točkami pravo vrednost - pri richardsu rsmo rabili 5 točk\n",
    "#simpsonovo pravilo ima napako 4 reda - polinome 3. reda in manj pravilno izračuna!\n",
    "#simps = interpolacija 2 reda. - pri 3.redu je napaka simetrična - tolko ku smo nikje zračunali prevč smo na drugmi mesti zračunali premalo."
   ]
  },
  {
   "cell_type": "code",
   "execution_count": 42,
   "metadata": {
    "collapsed": true
   },
   "outputs": [],
   "source": [
    "from scipy.integrate import simps"
   ]
  },
  {
   "cell_type": "code",
   "execution_count": 52,
   "metadata": {},
   "outputs": [
    {
     "data": {
      "text/plain": [
       "11.333333333333332"
      ]
     },
     "execution_count": 52,
     "metadata": {},
     "output_type": "execute_result"
    }
   ],
   "source": [
    "x2 = np.linspace(0, 2, 7)\n",
    "y2 = f(x2)\n",
    "I_simps = simps(y2, x2)\n",
    "I_simps"
   ]
  },
  {
   "cell_type": "markdown",
   "metadata": {},
   "source": [
    "### Simpsonovo 3/8 pravilo"
   ]
  },
  {
   "cell_type": "code",
   "execution_count": 53,
   "metadata": {
    "collapsed": true
   },
   "outputs": [],
   "source": [
    "from scipy.integrate import newton_cotes"
   ]
  },
  {
   "cell_type": "code",
   "execution_count": 55,
   "metadata": {},
   "outputs": [
    {
     "data": {
      "text/plain": [
       "array([ 0.5,  0.5])"
      ]
     },
     "execution_count": 55,
     "metadata": {},
     "output_type": "execute_result"
    }
   ],
   "source": [
    "newton_cotes(1)[0] #trapezno - linearna"
   ]
  },
  {
   "cell_type": "code",
   "execution_count": 56,
   "metadata": {},
   "outputs": [
    {
     "data": {
      "text/plain": [
       "array([ 0.33333333,  1.33333333,  0.33333333])"
      ]
     },
     "execution_count": 56,
     "metadata": {},
     "output_type": "execute_result"
    }
   ],
   "source": [
    "newton_cotes(2)[0] #simpsonovo 1/3 - kvadratna"
   ]
  },
  {
   "cell_type": "code",
   "execution_count": 57,
   "metadata": {},
   "outputs": [
    {
     "data": {
      "text/plain": [
       "array([ 0.375,  1.125,  1.125,  0.375])"
      ]
     },
     "execution_count": 57,
     "metadata": {},
     "output_type": "execute_result"
    }
   ],
   "source": [
    "newton_cotes(3)[0] #simpsonovo 3/8 - polinom 3 reda"
   ]
  },
  {
   "cell_type": "code",
   "execution_count": 64,
   "metadata": {},
   "outputs": [
    {
     "data": {
      "text/plain": [
       "11.333333333333332"
      ]
     },
     "execution_count": 64,
     "metadata": {},
     "output_type": "execute_result"
    }
   ],
   "source": [
    "red = 6\n",
    "utezi = newton_cotes(red)[0]\n",
    "x_4, h = np.linspace(0, 2, red+1, retstep = True)\n",
    "integral = utezi @ f(x_4) * h\n",
    "integral"
   ]
  },
  {
   "cell_type": "markdown",
   "metadata": {},
   "source": [
    "### Gaussova integracijska metoda\n",
    "* quad(fun, a, b) -podamo funkcijo \n",
    "* fixed_quad(fun, a, b, n) - podamo funkcijo\n",
    "* ... en kp funkcij\n",
    "* moramo podati funkcijo ker gaussova integracija potrebuje točno določene vrednosti, ki jih z meritvami ne nujno dobimo"
   ]
  },
  {
   "cell_type": "markdown",
   "metadata": {},
   "source": [
    "### vprašanje 8 (wan)"
   ]
  },
  {
   "cell_type": "code",
   "execution_count": 65,
   "metadata": {
    "collapsed": true
   },
   "outputs": [],
   "source": [
    "from scipy.integrate import quad, fixed_quad"
   ]
  },
  {
   "cell_type": "code",
   "execution_count": 68,
   "metadata": {
    "collapsed": true
   },
   "outputs": [],
   "source": [
    "def f(x):\n",
    "    return np.sin(x)/x #vrednost te funkcije v nuli neznamo zračunat - pol -> trapezna metoda ne zna zračunat!\n",
    "#gaussova ne rabi v mejah - samo določene točke, v katerih ne sme bit pol (zelo redko po naključju)\n",
    "#gaussa ne motijo poli"
   ]
  },
  {
   "cell_type": "code",
   "execution_count": 71,
   "metadata": {},
   "outputs": [
    {
     "data": {
      "text/plain": [
       "0.9460830703671831"
      ]
     },
     "execution_count": 71,
     "metadata": {},
     "output_type": "execute_result"
    }
   ],
   "source": [
    "I_1 = quad(f, 0, 1)\n",
    "I_1[0] #druga vrednost je ocena napake"
   ]
  },
  {
   "cell_type": "code",
   "execution_count": 72,
   "metadata": {},
   "outputs": [
    {
     "data": {
      "text/plain": [
       "1.6054129768026946"
      ]
     },
     "execution_count": 72,
     "metadata": {},
     "output_type": "execute_result"
    }
   ],
   "source": [
    "I_1 = quad(f, 0, 2)\n",
    "I_1[0]"
   ]
  },
  {
   "cell_type": "code",
   "execution_count": 73,
   "metadata": {},
   "outputs": [
    {
     "name": "stderr",
     "output_type": "stream",
     "text": [
      "/opt/anaconda/lib/python3.6/site-packages/ipykernel_launcher.py:2: RuntimeWarning: invalid value encountered in double_scalars\n",
      "  \n",
      "/opt/anaconda/lib/python3.6/site-packages/scipy/integrate/quadpack.py:364: IntegrationWarning: The occurrence of roundoff error is detected, which prevents \n",
      "  the requested tolerance from being achieved.  The error may be \n",
      "  underestimated.\n",
      "  warnings.warn(msg, IntegrationWarning)\n"
     ]
    },
    {
     "data": {
      "text/plain": [
       "nan"
      ]
     },
     "execution_count": 73,
     "metadata": {},
     "output_type": "execute_result"
    }
   ],
   "source": [
    "I_1 = quad(f, -0.5, 0.5)\n",
    "I_1[0] #vrne not a number\n",
    "#v polu želi izračunati točko gauss"
   ]
  },
  {
   "cell_type": "code",
   "execution_count": 74,
   "metadata": {},
   "outputs": [
    {
     "name": "stderr",
     "output_type": "stream",
     "text": [
      "/opt/anaconda/lib/python3.6/site-packages/ipykernel_launcher.py:2: RuntimeWarning: invalid value encountered in true_divide\n",
      "  \n"
     ]
    },
    {
     "data": {
      "text/plain": [
       "nan"
      ]
     },
     "execution_count": 74,
     "metadata": {},
     "output_type": "execute_result"
    }
   ],
   "source": [
    "#z trapezno\n",
    "x = np.linspace(0, 1, 50)\n",
    "np.trapz(f(x), x)\n",
    "#v nuli ne zna zračunat"
   ]
  },
  {
   "cell_type": "code",
   "execution_count": 78,
   "metadata": {},
   "outputs": [
    {
     "name": "stdout",
     "output_type": "stream",
     "text": [
      "[-0.77459667  0.          0.77459667]\n",
      "[ 0.55555556  0.88888889  0.55555556]\n"
     ]
    }
   ],
   "source": [
    "#iz pastebina\n",
    "#kako določit uteži gaussove integracije\n",
    "from scipy.special import legendre\n",
    "red = 3\n",
    "xi = legendre(red).weights[:,0]\n",
    "Ai = legendre(red).weights[:,1]\n",
    "print(xi)\n",
    "print(Ai)"
   ]
  },
  {
   "cell_type": "code",
   "execution_count": 85,
   "metadata": {
    "collapsed": true
   },
   "outputs": [],
   "source": [
    "#Gauss ročno:"
   ]
  },
  {
   "cell_type": "code",
   "execution_count": 82,
   "metadata": {},
   "outputs": [
    {
     "data": {
      "text/plain": [
       "0.65932992413122304"
      ]
     },
     "execution_count": 82,
     "metadata": {},
     "output_type": "execute_result"
    }
   ],
   "source": [
    "#kako dobiti x na območju -1,1\n",
    "a = 1\n",
    "b = 2\n",
    "x = xi*(b-a)/2 + (b+a)/2\n",
    "y = f(x)\n",
    "I = np.dot(Ai, y) * (b-a)/2 # (b-a)/2 -> pretvorimo na naš interval a,b\n",
    "I"
   ]
  },
  {
   "cell_type": "code",
   "execution_count": 84,
   "metadata": {},
   "outputs": [
    {
     "data": {
      "text/plain": [
       "0.65932992413122304"
      ]
     },
     "execution_count": 84,
     "metadata": {},
     "output_type": "execute_result"
    }
   ],
   "source": [
    "fixed_quad(f, a, b, n=3)[0]"
   ]
  },
  {
   "cell_type": "code",
   "execution_count": null,
   "metadata": {
    "collapsed": true
   },
   "outputs": [],
   "source": []
  }
 ],
 "metadata": {
  "kernelspec": {
   "display_name": "Python 3",
   "language": "python",
   "name": "python3"
  },
  "language_info": {
   "codemirror_mode": {
    "name": "ipython",
    "version": 3
   },
   "file_extension": ".py",
   "mimetype": "text/x-python",
   "name": "python",
   "nbconvert_exporter": "python",
   "pygments_lexer": "ipython3",
   "version": "3.6.2"
  }
 },
 "nbformat": 4,
 "nbformat_minor": 2
}
