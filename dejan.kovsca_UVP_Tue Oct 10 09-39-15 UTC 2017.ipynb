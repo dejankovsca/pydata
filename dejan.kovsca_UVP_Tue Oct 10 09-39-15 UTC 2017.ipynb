{
 "cells": [
  {
   "cell_type": "code",
   "execution_count": 1,
   "metadata": {},
   "outputs": [
    {
     "name": "stdout",
     "output_type": "stream",
     "text": [
      "Downloading file: mojladisksi.py\n"
     ]
    }
   ],
   "source": [
    "from sync import sync\n",
    "sync('/moj.ladisk.si/mojladisksi.py')\n",
    "from mojladisksi import poslji\n",
    "import numpy as np\n"
   ]
  },
  {
   "cell_type": "markdown",
   "metadata": {},
   "source": [
    "# UVP\n",
    "\n",
    "Kovšca Dejan, 23160187, dejan.kovsca@gmail.com\n",
    "\n",
    "Pričetek reševanja: Tue Oct 10 09:39:15 UTC 2017"
   ]
  },
  {
   "cell_type": "markdown",
   "metadata": {},
   "source": [
    "Ponovitev bistvenih korakov predavanja Uvod v Python https://github.com/jankoslavic/pypinm."
   ]
  },
  {
   "cell_type": "markdown",
   "metadata": {},
   "source": [
    "<img width=500 src='dejan.kovsca_UVP_Tue Oct 10 09-39-15 UTC 2017.jpg'>"
   ]
  },
  {
   "cell_type": "code",
   "execution_count": 2,
   "metadata": {
    "collapsed": true
   },
   "outputs": [],
   "source": [
    "F = 4 # N\n",
    "m = 5 # kg\n",
    "n = 50 # \n",
    "t = 35013 # s\n",
    "v = 39.05 # m/s"
   ]
  },
  {
   "cell_type": "markdown",
   "metadata": {},
   "source": [
    "### 1. vprašanje\n",
    "\n",
    " Ker so spremenljivke v Pythonu statične, moramo njihov tip pri definiciji izrecno določiti! (1: Da, 2: Ne)\n",
    "\n",
    "Število poskusov: 1."
   ]
  },
  {
   "cell_type": "code",
   "execution_count": 3,
   "metadata": {
    "collapsed": true
   },
   "outputs": [],
   "source": [
    "odgovor1 = 2#?"
   ]
  },
  {
   "cell_type": "code",
   "execution_count": 4,
   "metadata": {},
   "outputs": [
    {
     "name": "stdout",
     "output_type": "stream",
     "text": [
      "Pravilna rešitev. Uspeh: 4%. Preostali čas: 1dni,21ur, 5min\n"
     ]
    }
   ],
   "source": [
    "poslji(odgovor1, id=305964085837430784, st=0)"
   ]
  },
  {
   "cell_type": "markdown",
   "metadata": {},
   "source": [
    "### 2. vprašanje\n",
    "\n",
    " Terke lahko spreminjamo in jim dodajamo elemente! (1: Da, 2: Ne)\n",
    "\n",
    "Število poskusov: 1."
   ]
  },
  {
   "cell_type": "code",
   "execution_count": 4,
   "metadata": {
    "collapsed": true
   },
   "outputs": [],
   "source": [
    "odgovor2 = 2#?"
   ]
  },
  {
   "cell_type": "code",
   "execution_count": 6,
   "metadata": {},
   "outputs": [
    {
     "name": "stdout",
     "output_type": "stream",
     "text": [
      "Pravilna rešitev. Uspeh: 9%. Preostali čas: 1dni,21ur, 5min\n"
     ]
    }
   ],
   "source": [
    "poslji(odgovor2, id=805964085837430784, st=1)"
   ]
  },
  {
   "cell_type": "markdown",
   "metadata": {},
   "source": [
    "### 3. vprašanje\n",
    "\n",
    " Sezname lahko spreminjamo in jim dodajamo elemente! (1: Da, 2: Ne)\n",
    "\n",
    "Število poskusov: 1."
   ]
  },
  {
   "cell_type": "code",
   "execution_count": 5,
   "metadata": {
    "collapsed": true
   },
   "outputs": [],
   "source": [
    "odgovor3 = 1#?"
   ]
  },
  {
   "cell_type": "code",
   "execution_count": 8,
   "metadata": {},
   "outputs": [
    {
     "name": "stdout",
     "output_type": "stream",
     "text": [
      "Pravilna rešitev. Uspeh: 14%. Preostali čas: 1dni,21ur, 4min\n"
     ]
    }
   ],
   "source": [
    "poslji(odgovor3, id=805964085837430784, st=2)"
   ]
  },
  {
   "cell_type": "markdown",
   "metadata": {},
   "source": [
    "### 4. vprašanje\n",
    "\n",
    " Iz podatkov naloge tvorite terko v naslednjem zaporedju: $F$, $m$, $n$, $t$, $v$!\n",
    "\n",
    "Število poskusov: 3."
   ]
  },
  {
   "cell_type": "code",
   "execution_count": 6,
   "metadata": {},
   "outputs": [
    {
     "data": {
      "text/plain": [
       "(4, 5, 50, 35013, 39.05)"
      ]
     },
     "execution_count": 6,
     "metadata": {},
     "output_type": "execute_result"
    }
   ],
   "source": [
    "odgovor4 = (F, m, n, t, v)#?\n",
    "odgovor4"
   ]
  },
  {
   "cell_type": "code",
   "execution_count": 10,
   "metadata": {},
   "outputs": [
    {
     "name": "stdout",
     "output_type": "stream",
     "text": [
      "Pravilna rešitev. Uspeh: 19%. Preostali čas: 1dni,21ur, 4min\n"
     ]
    }
   ],
   "source": [
    "poslji(odgovor4, id=605964085837430784, st=3)"
   ]
  },
  {
   "cell_type": "markdown",
   "metadata": {},
   "source": [
    "### 5. vprašanje\n",
    "\n",
    " Terko iz prejšnje naloge pretvorite v seznam.\n",
    "\n",
    "Število poskusov: 3."
   ]
  },
  {
   "cell_type": "code",
   "execution_count": 7,
   "metadata": {},
   "outputs": [
    {
     "data": {
      "text/plain": [
       "[4, 5, 50, 35013, 39.05]"
      ]
     },
     "execution_count": 7,
     "metadata": {},
     "output_type": "execute_result"
    }
   ],
   "source": [
    "odgovor5 = list(odgovor4)#?\n",
    "odgovor5"
   ]
  },
  {
   "cell_type": "code",
   "execution_count": 12,
   "metadata": {},
   "outputs": [
    {
     "name": "stdout",
     "output_type": "stream",
     "text": [
      "Pravilna rešitev. Uspeh: 23%. Preostali čas: 1dni,21ur, 3min\n"
     ]
    }
   ],
   "source": [
    "poslji(odgovor5, id=305964085837430784, st=4)"
   ]
  },
  {
   "cell_type": "markdown",
   "metadata": {},
   "source": [
    "### 6. vprašanje\n",
    "\n",
    " V seznamu iz prejšnje naloge določite indeks elementa z naječjo vrednostjo. (Namig: uporabite funkciji ``max`` in ``index``)\n",
    "\n",
    "Število poskusov: 3."
   ]
  },
  {
   "cell_type": "code",
   "execution_count": 8,
   "metadata": {},
   "outputs": [
    {
     "data": {
      "text/plain": [
       "3"
      ]
     },
     "execution_count": 8,
     "metadata": {},
     "output_type": "execute_result"
    }
   ],
   "source": [
    "odgovor6 = odgovor5.index(max(odgovor5))#?\n",
    "odgovor6"
   ]
  },
  {
   "cell_type": "code",
   "execution_count": 14,
   "metadata": {},
   "outputs": [
    {
     "name": "stdout",
     "output_type": "stream",
     "text": [
      "Pravilna rešitev. Uspeh: 28%. Preostali čas: 1dni,21ur, 3min\n"
     ]
    }
   ],
   "source": [
    "poslji(odgovor6, id=205964085837430784, st=5)"
   ]
  },
  {
   "cell_type": "markdown",
   "metadata": {},
   "source": [
    "### 7. vprašanje\n",
    "\n",
    " Element z največjo vrednostjo odstranite iz seznama. Dobljen seznam shranite v novo spremenljivko ``seznam_brez_najvecjega`` in ga vnesite.\n",
    "\n",
    "Število poskusov: 3."
   ]
  },
  {
   "cell_type": "code",
   "execution_count": 9,
   "metadata": {},
   "outputs": [
    {
     "data": {
      "text/plain": [
       "[4, 5, 50, 39.05]"
      ]
     },
     "execution_count": 9,
     "metadata": {},
     "output_type": "execute_result"
    }
   ],
   "source": [
    "del odgovor5[odgovor6]\n",
    "seznam_brez_najvecjega = odgovor5\n",
    "odgovor7 = seznam_brez_najvecjega#?\n",
    "seznam_brez_najvecjega"
   ]
  },
  {
   "cell_type": "code",
   "execution_count": 16,
   "metadata": {},
   "outputs": [
    {
     "name": "stdout",
     "output_type": "stream",
     "text": [
      "Pravilna rešitev. Uspeh: 33%. Preostali čas: 1dni,20ur, 59min\n"
     ]
    }
   ],
   "source": [
    "poslji(odgovor7, id=505964085837430784, st=6)"
   ]
  },
  {
   "cell_type": "markdown",
   "metadata": {},
   "source": [
    "### 8. vprašanje\n",
    "\n",
    " Tvorite slovar z imenom ``slovar_enot``. Ključi naj bodo imena spremenljivk $F$, $m$, $t$ in $v$ iz podatkov naloge, zapisana v obliki nizov, vrednosti elementov pa pripadajoče enote, prav tako v obliki nizov. (Primer: {'F': 'N'}). Določite po abecednem redu urejen seznam ključev dobljenega slovarja. (Namig: uporabite funkciji ``sorted`` in ``slovar.keys``.)\n",
    "\n",
    "Število poskusov: 3."
   ]
  },
  {
   "cell_type": "code",
   "execution_count": 10,
   "metadata": {},
   "outputs": [
    {
     "data": {
      "text/plain": [
       "['F', 'm', 't', 'v']"
      ]
     },
     "execution_count": 10,
     "metadata": {},
     "output_type": "execute_result"
    }
   ],
   "source": [
    "slovar_enot = {'F': 'N', 'm': 'kg', 't': 's', 'v': 'm/s'}\n",
    "ključi = sorted(slovar_enot.keys())\n",
    "odgovor8 = ključi#?\n",
    "odgovor8"
   ]
  },
  {
   "cell_type": "code",
   "execution_count": 21,
   "metadata": {},
   "outputs": [
    {
     "name": "stdout",
     "output_type": "stream",
     "text": [
      "Pravilna rešitev. Uspeh: 38%. Preostali čas: 1dni,20ur, 38min\n"
     ]
    }
   ],
   "source": [
    "poslji(odgovor8, id=805964085837430784, st=7)"
   ]
  },
  {
   "cell_type": "markdown",
   "metadata": {},
   "source": [
    "### 9. vprašanje\n",
    "\n",
    " Izračunajte kinetično energijo telesa ($E_k = \\frac{1}{2}mv^2$)in rezultat shranite v spremnljivko ``E_k`` v obliki števila s plavajočo vejico. Uporabite podatke iz začetka naloge.\n",
    "\n",
    "Število poskusov: 3, enote:  J"
   ]
  },
  {
   "cell_type": "code",
   "execution_count": 11,
   "metadata": {},
   "outputs": [
    {
     "data": {
      "text/plain": [
       "3812.2562499999995"
      ]
     },
     "execution_count": 11,
     "metadata": {},
     "output_type": "execute_result"
    }
   ],
   "source": [
    "E_k = 1/2 * m * (v**2) #J\n",
    "float(E_k)\n",
    "odgovor9 = E_k #?\n",
    "odgovor9"
   ]
  },
  {
   "cell_type": "code",
   "execution_count": 24,
   "metadata": {},
   "outputs": [
    {
     "name": "stdout",
     "output_type": "stream",
     "text": [
      "Pravilna rešitev. Uspeh: 42%. Preostali čas: 1dni,20ur, 35min\n"
     ]
    }
   ],
   "source": [
    "poslji(odgovor9, id=805964085837430784, st=8)"
   ]
  },
  {
   "cell_type": "markdown",
   "metadata": {},
   "source": [
    "### 10. vprašanje\n",
    "\n",
    " Slovarju ``slovar_enot`` dodajte nov element s ključem 'E_k', vrednost pa naj bo pripadajoča enota ('J'). Določite po abecednem redu urejen seznam ključev tako dobljenega slovarja.\n",
    "\n",
    "Število poskusov: 3."
   ]
  },
  {
   "cell_type": "code",
   "execution_count": 12,
   "metadata": {},
   "outputs": [
    {
     "name": "stdout",
     "output_type": "stream",
     "text": [
      "['E_k', 'F', 'm', 't', 'v']\n",
      "{'F': 'N', 'm': 'kg', 't': 's', 'v': 'm/s', 'E_k': 'J'}\n"
     ]
    }
   ],
   "source": [
    "slovar_enot['E_k'] = 'J'\n",
    "ključi = sorted(slovar_enot.keys())\n",
    "odgovor10 = ključi#?\n",
    "print(ključi)\n",
    "print(slovar_enot)"
   ]
  },
  {
   "cell_type": "code",
   "execution_count": 26,
   "metadata": {},
   "outputs": [
    {
     "name": "stdout",
     "output_type": "stream",
     "text": [
      "Pravilna rešitev. Uspeh: 47%. Preostali čas: 1dni,20ur, 33min\n"
     ]
    }
   ],
   "source": [
    "poslji(odgovor10, id=605964085837430784, st=9)"
   ]
  },
  {
   "cell_type": "markdown",
   "metadata": {},
   "source": [
    "### 11. vprašanje\n",
    "\n",
    " Tvorite nov seznam ``seznam_celih_stevil``, tako da elemente seznama ``seznam_brez_najvecjega`` iz ene od prejšnjih nalog pretvorite v cela števila z uporabo ukaza ``int``. (Namig: uporabit ``for`` zanko.)\n",
    "\n",
    "Število poskusov: 3."
   ]
  },
  {
   "cell_type": "code",
   "execution_count": 13,
   "metadata": {},
   "outputs": [
    {
     "data": {
      "text/plain": [
       "[4, 5, 50, 39]"
      ]
     },
     "execution_count": 13,
     "metadata": {},
     "output_type": "execute_result"
    }
   ],
   "source": [
    "seznam_celih_stevil = []\n",
    "for i in seznam_brez_najvecjega:\n",
    "    seznam_celih_stevil.append(int(i))\n",
    "odgovor11 = seznam_celih_stevil#?\n",
    "odgovor11"
   ]
  },
  {
   "cell_type": "code",
   "execution_count": 28,
   "metadata": {},
   "outputs": [
    {
     "name": "stdout",
     "output_type": "stream",
     "text": [
      "Pravilna rešitev. Uspeh: 52%. Preostali čas: 1dni,20ur, 31min\n"
     ]
    }
   ],
   "source": [
    "poslji(odgovor11, id=105964085837430784, st=10)"
   ]
  },
  {
   "cell_type": "markdown",
   "metadata": {},
   "source": [
    "### 12. vprašanje\n",
    "\n",
    " Iz seznamov ``seznam_brez_najvecjega`` in ``seznam_celih_stevil`` tvorite množici ``A`` in ``B``. Določite množico elementov, ki so tako v ``A`` kot v ``B``, in jo pretvorite v seznam, urejen v naraščajočem vrstnem redu. (Namig: uporabite funkcijo ``sorted``.)\n",
    "\n",
    "Število poskusov: 3."
   ]
  },
  {
   "cell_type": "code",
   "execution_count": 14,
   "metadata": {},
   "outputs": [
    {
     "data": {
      "text/plain": [
       "[4, 5, 50]"
      ]
     },
     "execution_count": 14,
     "metadata": {},
     "output_type": "execute_result"
    }
   ],
   "source": [
    "A = set(seznam_brez_najvecjega)\n",
    "B = set(seznam_celih_stevil)\n",
    "C = A & B\n",
    "odgovor12 = list(sorted(C))#?\n",
    "odgovor12"
   ]
  },
  {
   "cell_type": "code",
   "execution_count": 30,
   "metadata": {},
   "outputs": [
    {
     "name": "stdout",
     "output_type": "stream",
     "text": [
      "Pravilna rešitev. Uspeh: 57%. Preostali čas: 1dni,20ur, 28min\n"
     ]
    }
   ],
   "source": [
    "poslji(odgovor12, id=605964085837430784, st=11)"
   ]
  },
  {
   "cell_type": "markdown",
   "metadata": {},
   "source": [
    "### 13. vprašanje\n",
    "\n",
    " Pripravite nov seznam vseh naravnih števil, večjih od 2 in manjših od 10, ki jih še ni v seznamu  ``seznam_celih_stevil``. Urejen naj bo v naraščajočem vrstnem redu. (Namig: uporabite ``for`` zanko, ``if`` stavek in funkcijo ``range``.)\n",
    "\n",
    "Število poskusov: 3."
   ]
  },
  {
   "cell_type": "code",
   "execution_count": 15,
   "metadata": {},
   "outputs": [
    {
     "data": {
      "text/plain": [
       "[3, 6, 7, 8, 9]"
      ]
     },
     "execution_count": 15,
     "metadata": {},
     "output_type": "execute_result"
    }
   ],
   "source": [
    "nov_seznam = []\n",
    "for i in range(3,10):\n",
    "    if i not in seznam_celih_stevil:\n",
    "        nov_seznam.append(i)\n",
    "\n",
    "odgovor13 = sorted(nov_seznam)#?\n",
    "odgovor13"
   ]
  },
  {
   "cell_type": "code",
   "execution_count": 32,
   "metadata": {},
   "outputs": [
    {
     "name": "stdout",
     "output_type": "stream",
     "text": [
      "Pravilna rešitev. Uspeh: 61%. Preostali čas: 1dni,20ur, 26min\n"
     ]
    }
   ],
   "source": [
    "poslji(odgovor13, id=605964085837430784, st=12)"
   ]
  },
  {
   "cell_type": "markdown",
   "metadata": {},
   "source": [
    "### 14. vprašanje\n",
    "\n",
    " Na začetek seznama ``seznam_celih_stevil`` vrinite naravna števila iz seznama iz prejšnje naloge, urejena v padajočem vrstnem redu. Na konec seznama ``seznam_celih_stevil`` pripnite isti seznam števil, urejen v naraščajočem vrstnem redu. (Namig: vrstni red elementov v seznamu obrnete z ``seznam[::-1]``.)\n",
    "\n",
    "Število poskusov: 3."
   ]
  },
  {
   "cell_type": "code",
   "execution_count": 16,
   "metadata": {},
   "outputs": [
    {
     "data": {
      "text/plain": [
       "[9, 8, 7, 6, 3, 4, 5, 50, 39, 3, 6, 7, 8, 9]"
      ]
     },
     "execution_count": 16,
     "metadata": {},
     "output_type": "execute_result"
    }
   ],
   "source": [
    "for i in nov_seznam:\n",
    "    seznam_celih_stevil.append(i)\n",
    "nov_seznam[::-1]\n",
    "for i in nov_seznam:\n",
    "    seznam_celih_stevil.insert(0, i)\n",
    "odgovor14 = seznam_celih_stevil#?\n",
    "odgovor14"
   ]
  },
  {
   "cell_type": "code",
   "execution_count": 38,
   "metadata": {},
   "outputs": [
    {
     "name": "stdout",
     "output_type": "stream",
     "text": [
      "Pravilna rešitev. Uspeh: 66%. Preostali čas: 1dni,20ur, 22min\n"
     ]
    }
   ],
   "source": [
    "poslji(odgovor14, id=105964085837430784, st=13)"
   ]
  },
  {
   "cell_type": "markdown",
   "metadata": {},
   "source": [
    "### 15. vprašanje\n",
    "\n",
    " Vsa cela števila v seznamu ``seznam_celih_stevil``, ki so manjša od 10, zamenjajte s slovensko besedo za to število. (Namig: pomagajte si s slovarjem, v katerega pod ključem posameznega celega števila shranite slovensko besedo zanj. Primer: {1: 'ena', 2: 'dve'}).\n",
    "\n",
    "Število poskusov: 3."
   ]
  },
  {
   "cell_type": "code",
   "execution_count": 17,
   "metadata": {},
   "outputs": [
    {
     "data": {
      "text/plain": [
       "['devet',\n",
       " 'osem',\n",
       " 'sedem',\n",
       " 'šest',\n",
       " 'tri',\n",
       " 'štiri',\n",
       " 'pet',\n",
       " 50,\n",
       " 39,\n",
       " 'tri',\n",
       " 'šest',\n",
       " 'sedem',\n",
       " 'osem',\n",
       " 'devet']"
      ]
     },
     "execution_count": 17,
     "metadata": {},
     "output_type": "execute_result"
    }
   ],
   "source": [
    "slovar_stevil = {1: 'ena', 2: 'dve', 3: 'tri', 4: 'štiri', 5: 'pet', 6: 'šest', 7: 'sedem', 8: 'osem', 9: 'devet'}\n",
    "for i in seznam_celih_stevil:\n",
    "    if i < 10:\n",
    "        x = seznam_celih_stevil.index(i)\n",
    "        seznam_celih_stevil.remove(i)\n",
    "        seznam_celih_stevil.insert(x, slovar_stevil[i])\n",
    "odgovor15 = seznam_celih_stevil#?\n",
    "odgovor15"
   ]
  },
  {
   "cell_type": "code",
   "execution_count": 35,
   "metadata": {},
   "outputs": [
    {
     "name": "stdout",
     "output_type": "stream",
     "text": [
      "Pravilna rešitev. Uspeh: 71%. Preostali čas: 1dni,14ur, 6min\n"
     ]
    }
   ],
   "source": [
    "poslji(odgovor15, id=505964085837430784, st=14)"
   ]
  },
  {
   "cell_type": "markdown",
   "metadata": {},
   "source": [
    "### 16. vprašanje\n",
    "\n",
    " Določite seznam kvadratov prvih dvajsetih naravnih števil, večjih ali enakih $n$,zapisanih kot cela števila. Shranite ga v spremenjivko ``seznam_kvadratov``.\n",
    "\n",
    "Število poskusov: 3."
   ]
  },
  {
   "cell_type": "code",
   "execution_count": 18,
   "metadata": {},
   "outputs": [
    {
     "data": {
      "text/plain": [
       "[2500,\n",
       " 2601,\n",
       " 2704,\n",
       " 2809,\n",
       " 2916,\n",
       " 3025,\n",
       " 3136,\n",
       " 3249,\n",
       " 3364,\n",
       " 3481,\n",
       " 3600,\n",
       " 3721,\n",
       " 3844,\n",
       " 3969,\n",
       " 4096,\n",
       " 4225,\n",
       " 4356,\n",
       " 4489,\n",
       " 4624,\n",
       " 4761]"
      ]
     },
     "execution_count": 18,
     "metadata": {},
     "output_type": "execute_result"
    }
   ],
   "source": [
    "seznam_kvadratov = list(i**2 for i in range(n, n+20))\n",
    "odgovor16 = seznam_kvadratov#?\n",
    "odgovor16"
   ]
  },
  {
   "cell_type": "code",
   "execution_count": 40,
   "metadata": {},
   "outputs": [
    {
     "name": "stdout",
     "output_type": "stream",
     "text": [
      "Pravilna rešitev že obstaja. Pričakovani tip je: float, oblika/shape: (20,), rezultati (flat):  2500., 2704., 2916., 3136., 3364., 3600., 3844., 4096., 4356., 4624., (prikazani so rezultati s korakom: 2) \n"
     ]
    }
   ],
   "source": [
    "poslji(odgovor16, id=705964085837430784, st=15)"
   ]
  },
  {
   "cell_type": "markdown",
   "metadata": {},
   "source": [
    "### 17. vprašanje\n",
    "\n",
    " Določite število elementov seznama ``seznam_kvadratov``, ki so deljivi z 2 in 3. (Namig: število $a$ je deljivo s številom $b$, kadar je ostanek celoštevilskega deljenja $a$ z $b$ enak 0.)\n",
    "\n",
    "Število poskusov: 3."
   ]
  },
  {
   "cell_type": "code",
   "execution_count": 19,
   "metadata": {},
   "outputs": [
    {
     "data": {
      "text/plain": [
       "3"
      ]
     },
     "execution_count": 19,
     "metadata": {},
     "output_type": "execute_result"
    }
   ],
   "source": [
    "nov_seznam_kvadratov = []\n",
    "for i in seznam_kvadratov:\n",
    "    if i%2 == 0 and i%3 == 0:\n",
    "        nov_seznam_kvadratov.append(i)\n",
    "odgovor17 = len(nov_seznam_kvadratov)#?\n",
    "odgovor17"
   ]
  },
  {
   "cell_type": "code",
   "execution_count": 44,
   "metadata": {},
   "outputs": [
    {
     "name": "stdout",
     "output_type": "stream",
     "text": [
      "Pravilna rešitev. Uspeh: 80%. Preostali čas: 1dni,13ur, 46min\n"
     ]
    }
   ],
   "source": [
    "poslji(odgovor17, id=205964085837430784, st=16)"
   ]
  },
  {
   "cell_type": "markdown",
   "metadata": {},
   "source": [
    "### 18. vprašanje\n",
    "\n",
    " Pripravite nov seznam, v katerem elemente seznama ``seznam_kvadratov``, ki so deljivi s 3, zamenjajte z rezultatom deljenja, zapisanim kot celo število. Tiste, ki s 3 niso deljivi, pa zamenjajte z nizom 'ni deljiv s 3'. (Namig: uporabite ``for`` zanko in stavek ``if``.)\n",
    "\n",
    "Število poskusov: 3."
   ]
  },
  {
   "cell_type": "code",
   "execution_count": 20,
   "metadata": {},
   "outputs": [
    {
     "data": {
      "text/plain": [
       "['ni deljiv s 3',\n",
       " 867,\n",
       " 'ni deljiv s 3',\n",
       " 'ni deljiv s 3',\n",
       " 972,\n",
       " 'ni deljiv s 3',\n",
       " 'ni deljiv s 3',\n",
       " 1083,\n",
       " 'ni deljiv s 3',\n",
       " 'ni deljiv s 3',\n",
       " 1200,\n",
       " 'ni deljiv s 3',\n",
       " 'ni deljiv s 3',\n",
       " 1323,\n",
       " 'ni deljiv s 3',\n",
       " 'ni deljiv s 3',\n",
       " 1452,\n",
       " 'ni deljiv s 3',\n",
       " 'ni deljiv s 3',\n",
       " 1587]"
      ]
     },
     "execution_count": 20,
     "metadata": {},
     "output_type": "execute_result"
    }
   ],
   "source": [
    "seznam_kvadratov2 = []\n",
    "for i in seznam_kvadratov:\n",
    "    if i%3 == 0:\n",
    "        seznam_kvadratov2.append(int(i/3))\n",
    "    else:\n",
    "        seznam_kvadratov2.append('ni deljiv s 3')\n",
    "odgovor18 = seznam_kvadratov2#?\n",
    "odgovor18"
   ]
  },
  {
   "cell_type": "code",
   "execution_count": 48,
   "metadata": {},
   "outputs": [
    {
     "name": "stdout",
     "output_type": "stream",
     "text": [
      "Pravilna rešitev. Uspeh: 85%. Preostali čas: 1dni,13ur, 37min\n"
     ]
    }
   ],
   "source": [
    "poslji(odgovor18, id=605964085837430784, st=17)"
   ]
  },
  {
   "cell_type": "markdown",
   "metadata": {},
   "source": [
    "### 19. vprašanje\n",
    "\n",
    " Določite seznam indeksov vseh elementov v seznamu ``seznam_kvadratov``, ki jih v prejšnji nalogi niste zamenjali z nizom. (Namig: pri iteriranju po indeksih in vrednostih elementov seznama si pomagajte sfunkcijo ``enumerate``. Ali ste element seznama že zamenjali z nizom ali ne, preverite s funkcijo ``type``).\n",
    "\n",
    "Število poskusov: 3."
   ]
  },
  {
   "cell_type": "code",
   "execution_count": 21,
   "metadata": {},
   "outputs": [
    {
     "data": {
      "text/plain": [
       "[1, 4, 7, 10, 13, 16, 19]"
      ]
     },
     "execution_count": 21,
     "metadata": {},
     "output_type": "execute_result"
    }
   ],
   "source": [
    "seznam_indeksov = []\n",
    "for i, x in enumerate(seznam_kvadratov2):\n",
    "    if type(x) == int:\n",
    "        seznam_indeksov.append(i)\n",
    "odgovor19 = seznam_indeksov#?\n",
    "odgovor19"
   ]
  },
  {
   "cell_type": "code",
   "execution_count": 22,
   "metadata": {},
   "outputs": [
    {
     "name": "stdout",
     "output_type": "stream",
     "text": [
      "Pravilna rešitev. Uspeh: 90%. Preostali čas: 1dni,13ur, 15min\n"
     ]
    }
   ],
   "source": [
    "poslji(odgovor19, id=105964085837430784, st=18)"
   ]
  },
  {
   "cell_type": "markdown",
   "metadata": {},
   "source": [
    "### 20. vprašanje\n",
    "\n",
    " Določite nov seznam vseh elementov seznama ``seznam_kvadratov``, ki so deljivi s 3. (Namig: uporabite lahko seznam indeksov iz prejšnje naloge.)\n",
    "\n",
    "Število poskusov: 3."
   ]
  },
  {
   "cell_type": "code",
   "execution_count": 23,
   "metadata": {},
   "outputs": [
    {
     "data": {
      "text/plain": [
       "[2601, 2916, 3249, 3600, 3969, 4356, 4761]"
      ]
     },
     "execution_count": 23,
     "metadata": {},
     "output_type": "execute_result"
    }
   ],
   "source": [
    "seznam_kvadratov_deljivi_s_3 = []\n",
    "for i in seznam_indeksov:\n",
    "    seznam_kvadratov_deljivi_s_3.append(seznam_kvadratov[i])\n",
    "odgovor20 = seznam_kvadratov_deljivi_s_3#?\n",
    "odgovor20"
   ]
  },
  {
   "cell_type": "code",
   "execution_count": 24,
   "metadata": {},
   "outputs": [
    {
     "name": "stdout",
     "output_type": "stream",
     "text": [
      "Pravilna rešitev. Uspeh: 95%. Preostali čas: 1dni,13ur, 11min\n"
     ]
    }
   ],
   "source": [
    "poslji(odgovor20, id=305964085837430784, st=19)"
   ]
  },
  {
   "cell_type": "markdown",
   "metadata": {},
   "source": [
    "### 21. vprašanje\n",
    "\n",
    " Pripravite seznam terk, ki vsebujejo par celega števila iz seznama ``seznam_kvadratov``, deljivega s 3, in njegovega indeksa v seznamu (Primer: [(9, 0), (12, 1)]). (Namig: najlažje to storite s pomočjo že pripravljenega seznama števil, deljivih s 3 in seznama indeksov iz prejšnje naloge ter funkcijo ``zip``. Ne pozabite dobljenega iteratorja ``zip`` pretvoriti v seznam z ukazom ``list``!)\n",
    "\n",
    "Število poskusov: 3."
   ]
  },
  {
   "cell_type": "code",
   "execution_count": 27,
   "metadata": {},
   "outputs": [
    {
     "data": {
      "text/plain": [
       "[(2601, 1),\n",
       " (2916, 4),\n",
       " (3249, 7),\n",
       " (3600, 10),\n",
       " (3969, 13),\n",
       " (4356, 16),\n",
       " (4761, 19)]"
      ]
     },
     "execution_count": 27,
     "metadata": {},
     "output_type": "execute_result"
    }
   ],
   "source": [
    "seznam_terk = list((a, b) for a, b in zip(seznam_kvadratov_deljivi_s_3, seznam_indeksov))\n",
    "odgovor21 = seznam_terk#?\n",
    "odgovor21"
   ]
  },
  {
   "cell_type": "code",
   "execution_count": 28,
   "metadata": {},
   "outputs": [
    {
     "name": "stdout",
     "output_type": "stream",
     "text": [
      "Pravilna rešitev. Uspeh: 100%. Preostali čas: 1dni,13ur, 4min\n"
     ]
    }
   ],
   "source": [
    "poslji(odgovor21, id=305964085837430784, st=20)"
   ]
  },
  {
   "cell_type": "code",
   "execution_count": null,
   "metadata": {
    "collapsed": true
   },
   "outputs": [],
   "source": []
  }
 ],
 "metadata": {
  "kernelspec": {
   "display_name": "Python 3",
   "language": "python",
   "name": "python3"
  },
  "language_info": {
   "codemirror_mode": {
    "name": "ipython",
    "version": 3
   },
   "file_extension": ".py",
   "mimetype": "text/x-python",
   "name": "python",
   "nbconvert_exporter": "python",
   "pygments_lexer": "ipython3",
   "version": "3.6.2"
  }
 },
 "nbformat": 4,
 "nbformat_minor": 1
}
