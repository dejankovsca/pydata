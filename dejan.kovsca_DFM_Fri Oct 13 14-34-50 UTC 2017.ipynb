{
 "cells": [
  {
   "cell_type": "code",
   "execution_count": 1,
   "metadata": {},
   "outputs": [
    {
     "name": "stdout",
     "output_type": "stream",
     "text": [
      "Downloading file: mojladisksi.py\n",
      "Downloading file: data.txt\n",
      "Downloading file: zapis_labview.lvm\n"
     ]
    }
   ],
   "source": [
    "from sync import sync\n",
    "sync('/moj.ladisk.si/mojladisksi.py')\n",
    "from mojladisksi import poslji\n",
    "import numpy as np\n",
    "sync('/moj.ladisk.si/data.txt'); sync('/moj.ladisk.si/zapis_labview.lvm');"
   ]
  },
  {
   "cell_type": "markdown",
   "metadata": {},
   "source": [
    "# DFM\n",
    "\n",
    "Kovšca Dejan, 23160187, dejan.kovsca@gmail.com\n",
    "\n",
    "Pričetek reševanja: Fri Oct 13 14:34:50 UTC 2017"
   ]
  },
  {
   "cell_type": "markdown",
   "metadata": {},
   "source": [
    "Ponovitev bistvenih korakov predavanja Print, delo z datotekami, funkcije, moduli https://github.com/jankoslavic/pypinm. Priložene datoteke, potrebne za reševanje nalog, se nahajajo tudi na: https://github.com/jankoslavic/pypinm/tree/master/moj.ladisk.si"
   ]
  },
  {
   "cell_type": "markdown",
   "metadata": {},
   "source": [
    "<img width=500 src='dejan.kovsca_DFM_Fri Oct 13 14-34-50 UTC 2017.jpg'>"
   ]
  },
  {
   "cell_type": "code",
   "execution_count": 2,
   "metadata": {
    "collapsed": true
   },
   "outputs": [],
   "source": [
    "a = 5 # \n",
    "b = 13 # \n",
    "c = 25 # \n",
    "l = 5464.27 # mm"
   ]
  },
  {
   "cell_type": "markdown",
   "metadata": {},
   "source": [
    "### 1. vprašanje\n",
    "\n",
    " Z uporabo f-nizov ali funkcije ``format`` pri formatiranju nizov določimo obliko zapisa podanih argumentov! (1: Da, 2: Ne)\n",
    "\n",
    "Število poskusov: 1."
   ]
  },
  {
   "cell_type": "code",
   "execution_count": 3,
   "metadata": {
    "collapsed": true
   },
   "outputs": [],
   "source": [
    "odgovor1 = 1#?"
   ]
  },
  {
   "cell_type": "code",
   "execution_count": 4,
   "metadata": {},
   "outputs": [
    {
     "name": "stdout",
     "output_type": "stream",
     "text": [
      "Pravilna rešitev. Uspeh: 5%. Preostali čas: 3dni,16ur, 4min\n"
     ]
    }
   ],
   "source": [
    "poslji(odgovor1, id=366055927941693440, st=0)"
   ]
  },
  {
   "cell_type": "markdown",
   "metadata": {},
   "source": [
    "### 2. vprašanje\n",
    "\n",
    " Funkcija ``print`` izpiše znak '\\n' znotraj niza kot prehod v novo vrstico! (1: Da, 2: Ne)\n",
    "\n",
    "Število poskusov: 1."
   ]
  },
  {
   "cell_type": "code",
   "execution_count": 125,
   "metadata": {
    "collapsed": true
   },
   "outputs": [],
   "source": [
    "odgovor2 = 1#?"
   ]
  },
  {
   "cell_type": "code",
   "execution_count": 126,
   "metadata": {},
   "outputs": [
    {
     "name": "stdout",
     "output_type": "stream",
     "text": [
      "Izrabili ste vse možnosti za posredovanje rešitve. Pričakovani tip je: int, oblika/shape: (), rezultati (flat): 1 \n"
     ]
    }
   ],
   "source": [
    "poslji(odgovor2, id=766055927941693440, st=1)"
   ]
  },
  {
   "cell_type": "markdown",
   "metadata": {},
   "source": [
    "### 3. vprašanje\n",
    "\n",
    " Z uporabo f-nizov pripravite niz, ki  ga funkcija ``print`` izpiše v obliki '``l`` = $l$ ``enota``'. Pri tem $l$ nadomestite z vrednostjo iz podatkov naloge, ``enota`` pa z ustrezno enoto. (primer: '``l = 1 mm``'). $l$ naj bo zapisan v centimetrih in predstavljen z eksponentom. Ne pozabite na pretvorbo enot! Pri izpisu $l$ uporabite minimalno skupno širino izpisa $b$ `` // `` $2$ in $a$ ``// `` $2$ decimalnh mest.\n",
    "\n",
    "\n",
    "Število poskusov: 3."
   ]
  },
  {
   "cell_type": "code",
   "execution_count": 5,
   "metadata": {},
   "outputs": [
    {
     "data": {
      "text/plain": [
       "'l = 5.46e+02 cm'"
      ]
     },
     "execution_count": 5,
     "metadata": {},
     "output_type": "execute_result"
    }
   ],
   "source": [
    "odgovor3 = f'l = {l/10:{b//2}.{a//2}e} cm'#?\n",
    "odgovor3"
   ]
  },
  {
   "cell_type": "code",
   "execution_count": 21,
   "metadata": {},
   "outputs": [
    {
     "name": "stdout",
     "output_type": "stream",
     "text": [
      "Pravilna rešitev. Uspeh: 11%. Preostali čas: 3dni,15ur, 45min\n"
     ]
    }
   ],
   "source": [
    "poslji(odgovor3, id=266055927941693440, st=2)"
   ]
  },
  {
   "cell_type": "markdown",
   "metadata": {},
   "source": [
    "### 4. vprašanje\n",
    "\n",
    " Z uporabo f-nizov pripravite seznam nizov, ki izpisani eden pod drugim s funkcijo ``print`` oblikujejo simetrično piramido znakov 'x' z $b$ vrsticami. Vsaka naslednja vrstica naj ima dva dodatna sredinsko poravnana znaka 'x'. Prazen prostor naj predstavljajo prazni znaki (' '). Primer za $b = 2$: [' x ', 'xxx']. (Namig: uporabite sredinsko poravnavo. Skupno število znakov v eni vrstici je $2b-1$, število znakov 'x' v vrstici ``i`` pa $2i-1$).\n",
    "\n",
    "Število poskusov: 3."
   ]
  },
  {
   "cell_type": "code",
   "execution_count": 6,
   "metadata": {},
   "outputs": [
    {
     "data": {
      "text/plain": [
       "['            x            ',\n",
       " '           xxx           ',\n",
       " '          xxxxx          ',\n",
       " '         xxxxxxx         ',\n",
       " '        xxxxxxxxx        ',\n",
       " '       xxxxxxxxxxx       ',\n",
       " '      xxxxxxxxxxxxx      ',\n",
       " '     xxxxxxxxxxxxxxx     ',\n",
       " '    xxxxxxxxxxxxxxxxx    ',\n",
       " '   xxxxxxxxxxxxxxxxxxx   ',\n",
       " '  xxxxxxxxxxxxxxxxxxxxx  ',\n",
       " ' xxxxxxxxxxxxxxxxxxxxxxx ',\n",
       " 'xxxxxxxxxxxxxxxxxxxxxxxxx']"
      ]
     },
     "execution_count": 6,
     "metadata": {},
     "output_type": "execute_result"
    }
   ],
   "source": [
    "seznam_nizov = []\n",
    "x = 'x'\n",
    "for i in range(1, b+1):\n",
    "    seznam_nizov.append(f'{(2*i-1) * x:^{2*b-1}}')\n",
    "odgovor4 = seznam_nizov#?\n",
    "odgovor4"
   ]
  },
  {
   "cell_type": "code",
   "execution_count": 9,
   "metadata": {},
   "outputs": [
    {
     "name": "stdout",
     "output_type": "stream",
     "text": [
      "Pravilna rešitev. Uspeh: 17%. Preostali čas: 2dni,21ur, 46min\n"
     ]
    }
   ],
   "source": [
    "poslji(odgovor4, id=866055927941693440, st=3)"
   ]
  },
  {
   "cell_type": "markdown",
   "metadata": {},
   "source": [
    "### 5. vprašanje\n",
    "\n",
    " Funkcija ``open`` v načinu (``mode``) 'r+' odpre datoteko za branje in pisanje! (1: Da, 2: Ne)\n",
    "\n",
    "Število poskusov: 1."
   ]
  },
  {
   "cell_type": "code",
   "execution_count": 7,
   "metadata": {
    "collapsed": true
   },
   "outputs": [],
   "source": [
    "odgovor5 = 1#?"
   ]
  },
  {
   "cell_type": "code",
   "execution_count": 11,
   "metadata": {},
   "outputs": [
    {
     "name": "stdout",
     "output_type": "stream",
     "text": [
      "Pravilna rešitev. Uspeh: 23%. Preostali čas: 2dni,20ur, 30min\n"
     ]
    }
   ],
   "source": [
    "poslji(odgovor5, id=166055927941693440, st=4)"
   ]
  },
  {
   "cell_type": "markdown",
   "metadata": {},
   "source": [
    "### 6. vprašanje\n",
    "\n",
    " Pri uporabi funkcije ``open`` in stavka ``with``, se odprta datoteka po branju samodejno zapre! (1: Da, 2: Ne)\n",
    "\n",
    "Število poskusov: 1."
   ]
  },
  {
   "cell_type": "code",
   "execution_count": 8,
   "metadata": {
    "collapsed": true
   },
   "outputs": [],
   "source": [
    "odgovor6 = 1#?"
   ]
  },
  {
   "cell_type": "code",
   "execution_count": 13,
   "metadata": {},
   "outputs": [
    {
     "name": "stdout",
     "output_type": "stream",
     "text": [
      "Pravilna rešitev. Uspeh: 29%. Preostali čas: 2dni,20ur, 25min\n"
     ]
    }
   ],
   "source": [
    "poslji(odgovor6, id=166055927941693440, st=5)"
   ]
  },
  {
   "cell_type": "markdown",
   "metadata": {},
   "source": [
    "### 7. vprašanje\n",
    "\n",
    " Z izpeljevanjem seznamov lahko tvorimo nov seznam z uporabo elementov že obstoječega seznama, množice, terke ali slovarja! (1: Da, 2: Ne)\n",
    "\n",
    "Število poskusov: 1."
   ]
  },
  {
   "cell_type": "code",
   "execution_count": 9,
   "metadata": {
    "collapsed": true
   },
   "outputs": [],
   "source": [
    "odgovor7 = 1#?"
   ]
  },
  {
   "cell_type": "code",
   "execution_count": 15,
   "metadata": {},
   "outputs": [
    {
     "name": "stdout",
     "output_type": "stream",
     "text": [
      "Pravilna rešitev. Uspeh: 35%. Preostali čas: 2dni,19ur, 46min\n"
     ]
    }
   ],
   "source": [
    "poslji(odgovor7, id=866055927941693440, st=6)"
   ]
  },
  {
   "cell_type": "markdown",
   "metadata": {},
   "source": [
    "### 8. vprašanje\n",
    "\n",
    " Preberite vsebino priložene datoteke 'data.txt', iz konca vsake posamezne vrstice odstranite znak '\\n' ter vse posamezne vrstice shranite v seznam ``seznam_vrstic``. Uporabite izpeljevanje seznamov! Dobljen seznam vrstic posredujte kot odgovor. (Namig: uporabite funkcijo ``file.readlines``. Pomagate si lahko tudi s funkcijo ``str.rstrip``).\n",
    "\n",
    "Število poskusov: 3."
   ]
  },
  {
   "cell_type": "code",
   "execution_count": 10,
   "metadata": {
    "collapsed": true
   },
   "outputs": [],
   "source": [
    "data = open('data.txt', mode='r')\n",
    "nov_seznam_vrstic = data.readlines()\n",
    "seznam_vrstic = [i.rstrip('\\n') for i in nov_seznam_vrstic]\n",
    "data.close()\n",
    "odgovor8 = seznam_vrstic#?"
   ]
  },
  {
   "cell_type": "code",
   "execution_count": 21,
   "metadata": {},
   "outputs": [
    {
     "name": "stdout",
     "output_type": "stream",
     "text": [
      "Pravilna rešitev. Uspeh: 41%. Preostali čas: 1dni,21ur, 27min\n"
     ]
    }
   ],
   "source": [
    "poslji(odgovor8, id=166055927941693440, st=7)"
   ]
  },
  {
   "cell_type": "markdown",
   "metadata": {},
   "source": [
    "### 9. vprašanje\n",
    "\n",
    " Funkcija ``file.readlines`` vse vrstice odprte datoteke ``file`` prebere in shrani v seznam! (1: Da, 2: Ne)\n",
    "\n",
    "Število poskusov: 1."
   ]
  },
  {
   "cell_type": "code",
   "execution_count": 11,
   "metadata": {
    "collapsed": true
   },
   "outputs": [],
   "source": [
    "odgovor9 = 1#?"
   ]
  },
  {
   "cell_type": "code",
   "execution_count": 23,
   "metadata": {},
   "outputs": [
    {
     "name": "stdout",
     "output_type": "stream",
     "text": [
      "Pravilna rešitev. Uspeh: 47%. Preostali čas: 1dni,21ur, 22min\n"
     ]
    }
   ],
   "source": [
    "poslji(odgovor9, id=566055927941693440, st=8)"
   ]
  },
  {
   "cell_type": "markdown",
   "metadata": {},
   "source": [
    "### 10. vprašanje\n",
    "\n",
    " Izračunajte vsoto vseh števil v tekstovni datoteki 'data.txt'. Rezultat vnesite v obliki števila s plavajočo vejico. (Namig: iz seznama ``seznam_vrstic`` lahko z izpeljevanjem seznamov tvorite seznam števil s plavajočo vejico s funkcijo ``float``. Pri računanju vsote lahko uporabite funkcijo ``sum``).\n",
    "\n",
    "Število poskusov: 3."
   ]
  },
  {
   "cell_type": "code",
   "execution_count": 12,
   "metadata": {},
   "outputs": [
    {
     "data": {
      "text/plain": [
       "1249975000.0"
      ]
     },
     "execution_count": 12,
     "metadata": {},
     "output_type": "execute_result"
    }
   ],
   "source": [
    "seznam_stevil = [float(i) for i in seznam_vrstic]\n",
    "vsota_stevil = sum(seznam_stevil)\n",
    "odgovor10 = vsota_stevil#?\n",
    "odgovor10"
   ]
  },
  {
   "cell_type": "code",
   "execution_count": 27,
   "metadata": {},
   "outputs": [
    {
     "name": "stdout",
     "output_type": "stream",
     "text": [
      "Pravilna rešitev. Uspeh: 52%. Preostali čas: 1dni,21ur, 16min\n"
     ]
    }
   ],
   "source": [
    "poslji(odgovor10, id=566055927941693440, st=9)"
   ]
  },
  {
   "cell_type": "markdown",
   "metadata": {},
   "source": [
    "### 11. vprašanje\n",
    "\n",
    " Preberite vsebino priložene datoteke 'zapis_labview.lvm'. Iz vrstic $a$, $b$ in $c$ izbrišite tabulator in znak '\\n' in jih shranite v seznam nizov. Tega posredujte kot odgovor.\n",
    "\n",
    "Število poskusov: 3."
   ]
  },
  {
   "cell_type": "code",
   "execution_count": 25,
   "metadata": {},
   "outputs": [
    {
     "data": {
      "text/plain": [
       "['Multi_HeadingsYes', 'Channels2', '0,6169051,213915']"
      ]
     },
     "execution_count": 25,
     "metadata": {},
     "output_type": "execute_result"
    }
   ],
   "source": [
    "zapis = open('zapis_labview.lvm')\n",
    "seznam_zapis = zapis.readlines()\n",
    "seznam_nizov_1 =[]\n",
    "for i in [a, b, c]:\n",
    "    seznam_nizov_1.append(seznam_zapis[i])\n",
    "nov_seznam_nizov = [i.replace('\\t', '') for i in seznam_nizov_1]\n",
    "nov_seznam_nizov_1 = [i.replace('\\n', '') for i in nov_seznam_nizov]\n",
    "odgovor11 = nov_seznam_nizov_1#?\n",
    "zapis.close()\n",
    "odgovor11"
   ]
  },
  {
   "cell_type": "code",
   "execution_count": 19,
   "metadata": {},
   "outputs": [
    {
     "name": "stdout",
     "output_type": "stream",
     "text": [
      "Pravilna rešitev. Uspeh: 58%. Preostali čas: 1dni,17ur, 30min\n"
     ]
    }
   ],
   "source": [
    "poslji(odgovor11, id=566055927941693440, st=10)"
   ]
  },
  {
   "cell_type": "markdown",
   "metadata": {},
   "source": [
    "### 12. vprašanje\n",
    "\n",
    " Za vse informacije o meritvi, zapisane v glavi datoteke 'zapis_labview.lvm' (vrstice od 1 do vključno 10), pripravite slovar parov {'ključ': 'vrednost'}. Pare ('ključ', 'vrednost') pripravite z ločitvijo prebrane vrstice na mestu znaka '\\t', po vzoru prejšnje naloge. Vnesite po abecednem vrstnem redu urejen seznam ključev pripravljenega seznama. (Namig: uporabite funckijo ``sorted``.)\n",
    "\n",
    "Število poskusov: 3."
   ]
  },
  {
   "cell_type": "code",
   "execution_count": 46,
   "metadata": {},
   "outputs": [
    {
     "data": {
      "text/plain": [
       "['Date',\n",
       " 'Decimal_Separator',\n",
       " 'Multi_Headings',\n",
       " 'Operator',\n",
       " 'Reader_Version',\n",
       " 'Separator',\n",
       " 'Time',\n",
       " 'Time_Pref',\n",
       " 'Writer_Version',\n",
       " 'X_Columns']"
      ]
     },
     "execution_count": 46,
     "metadata": {},
     "output_type": "execute_result"
    }
   ],
   "source": [
    "zapis = open('zapis_labview.lvm')\n",
    "seznam_zapis = zapis.readlines()\n",
    "seznam_parov = []\n",
    "seznam_parov_2 = []\n",
    "\n",
    "for i in range(1, 11):\n",
    "    seznam_parov.append(seznam_zapis[i])\n",
    "\n",
    "seznam_parov_1 = [i.replace('\\n', '') for i in seznam_parov]\n",
    "\n",
    "for i in seznam_parov_1:\n",
    "    seznam_parov_2.append(tuple(i.split('\\t')))\n",
    "slovar_parov = dict(seznam_parov_2)\n",
    "seznam_kljucev = sorted(slovar_parov.keys())\n",
    "    \n",
    "zapis.close()\n",
    "\n",
    "odgovor12 = seznam_kljucev#?\n",
    "odgovor12"
   ]
  },
  {
   "cell_type": "code",
   "execution_count": 21,
   "metadata": {},
   "outputs": [
    {
     "data": {
      "text/plain": [
       "['LabVIEW Measurement\\t\\n',\n",
       " 'Writer_Version\\t2\\n',\n",
       " 'Reader_Version\\t2\\n',\n",
       " 'Separator\\tTab\\n',\n",
       " 'Decimal_Separator\\t,\\n',\n",
       " 'Multi_Headings\\tYes\\n',\n",
       " 'X_Columns\\tNo\\n',\n",
       " 'Time_Pref\\tAbsolute\\n',\n",
       " 'Operator\\tJS\\n',\n",
       " 'Date\\t2013/02/19\\n',\n",
       " 'Time\\t09:51:39,1970510124996275989\\n',\n",
       " '***End_of_Header***\\t\\n',\n",
       " '\\t\\n',\n",
       " 'Channels\\t2\\t\\t\\n',\n",
       " 'Samples\\t10\\t10\\t\\n',\n",
       " 'Date\\t2013/02/19\\t2013/02/19\\t\\n',\n",
       " 'Time\\t09:51:40,7271890640258789063\\t09:51:40,7271890640258789063\\t\\n',\n",
       " 'Y_Unit_Label\\tNewtons\\tm/s^2\\t\\n',\n",
       " 'X_Dimension\\tTime\\tTime\\t\\n',\n",
       " 'X0\\t0,0000000000000000E+0\\t0,0000000000000000E+0\\t\\n',\n",
       " 'Delta_X\\t3,906250E-5\\t3,906250E-5\\t\\n',\n",
       " '***End_of_Header***\\t\\t\\t\\n',\n",
       " 'X_Value\\tVzbujanje (Trigger)\\tOdziv1 (Trigger)\\tComment\\n',\n",
       " '\\t0,914018\\t1,204792\\n',\n",
       " '\\t0,537321\\t1,208403\\n',\n",
       " '\\t0,616905\\t1,213915\\n',\n",
       " '\\t0,895449\\t1,212205\\n',\n",
       " '\\t0,574460\\t1,222088\\n',\n",
       " '\\t0,516099\\t1,218223\\n',\n",
       " '\\t1,046658\\t1,213408\\n',\n",
       " '\\t0,394070\\t1,221011\\n',\n",
       " '\\t0,741586\\t1,211888\\n',\n",
       " '\\t0,680572\\t1,212775\\n']"
      ]
     },
     "execution_count": 21,
     "metadata": {},
     "output_type": "execute_result"
    }
   ],
   "source": [
    "zapis = open('zapis_labview.lvm')\n",
    "seznam_zapis = zapis.readlines()\n",
    "zapis.close()\n",
    "seznam_zapis"
   ]
  },
  {
   "cell_type": "code",
   "execution_count": 23,
   "metadata": {},
   "outputs": [
    {
     "name": "stdout",
     "output_type": "stream",
     "text": [
      "LabVIEW Measurement\t\n",
      "Writer_Version\t2\n",
      "Reader_Version\t2\n",
      "Separator\tTab\n",
      "Decimal_Separator\t,\n",
      "Multi_Headings\tYes\n",
      "X_Columns\tNo\n",
      "Time_Pref\tAbsolute\n",
      "Operator\tJS\n",
      "Date\t2013/02/19\n",
      "Time\t09:51:39,1970510124996275989\n",
      "***End_of_Header***\t\n",
      "\t\n",
      "Channels\t2\t\t\n",
      "Samples\t10\t10\t\n",
      "Date\t2013/02/19\t2013/02/19\t\n",
      "Time\t09:51:40,7271890640258789063\t09:51:40,7271890640258789063\t\n",
      "Y_Unit_Label\tNewtons\tm/s^2\t\n",
      "X_Dimension\tTime\tTime\t\n",
      "X0\t0,0000000000000000E+0\t0,0000000000000000E+0\t\n",
      "Delta_X\t3,906250E-5\t3,906250E-5\t\n",
      "***End_of_Header***\t\t\t\n",
      "X_Value\tVzbujanje (Trigger)\tOdziv1 (Trigger)\tComment\n",
      "\t0,914018\t1,204792\n",
      "\t0,537321\t1,208403\n",
      "\t0,616905\t1,213915\n",
      "\t0,895449\t1,212205\n",
      "\t0,574460\t1,222088\n",
      "\t0,516099\t1,218223\n",
      "\t1,046658\t1,213408\n",
      "\t0,394070\t1,221011\n",
      "\t0,741586\t1,211888\n",
      "\t0,680572\t1,212775\n"
     ]
    }
   ],
   "source": [
    "with open('zapis_labview.lvm') as zapis:\n",
    "    for line in zapis:\n",
    "        print(line, end='')"
   ]
  },
  {
   "cell_type": "code",
   "execution_count": 47,
   "metadata": {},
   "outputs": [
    {
     "name": "stdout",
     "output_type": "stream",
     "text": [
      "Pravilna rešitev. Uspeh: 64%. Preostali čas: 1dni,16ur, 54min\n"
     ]
    }
   ],
   "source": [
    "poslji(odgovor12, id=266055927941693440, st=11)"
   ]
  },
  {
   "cell_type": "markdown",
   "metadata": {},
   "source": [
    "### 13. vprašanje\n",
    "\n",
    " Z definicijo lastnih funkcij lahko že napisano kodo ponovno uporabimo! (1: Da, 2: Ne)\n",
    "\n",
    "Število poskusov: 1."
   ]
  },
  {
   "cell_type": "code",
   "execution_count": 48,
   "metadata": {
    "collapsed": true
   },
   "outputs": [],
   "source": [
    "odgovor13 = 1#?"
   ]
  },
  {
   "cell_type": "code",
   "execution_count": 49,
   "metadata": {},
   "outputs": [
    {
     "name": "stdout",
     "output_type": "stream",
     "text": [
      "Pravilna rešitev. Uspeh: 70%. Preostali čas: 1dni,16ur, 53min\n"
     ]
    }
   ],
   "source": [
    "poslji(odgovor13, id=566055927941693440, st=12)"
   ]
  },
  {
   "cell_type": "markdown",
   "metadata": {},
   "source": [
    "### 14. vprašanje\n",
    "\n",
    " Definirajte funkcijo ``piramida``, ki vrne seznam nizov, ki izpisani eden pod drugim tvorijo piramido (zgledujte se po nalogi zgoraj). Število vrstic ``n`` in ``znak``, ki se izpisuje namesto znaka 'x' iz zgornje naloge, naj bosta argumenta funkcije. Vnesite rezultat klica funkcije z argumentoma (``n``=$a$, ``znak``='o'). $a$ je podatek iz začetka naloge.\n",
    "\n",
    "Število poskusov: 3."
   ]
  },
  {
   "cell_type": "code",
   "execution_count": 76,
   "metadata": {},
   "outputs": [
    {
     "data": {
      "text/plain": [
       "['    o    ', '   ooo   ', '  ooooo  ', ' ooooooo ', 'ooooooooo']"
      ]
     },
     "execution_count": 76,
     "metadata": {},
     "output_type": "execute_result"
    }
   ],
   "source": [
    "def piramida(n, znak):\n",
    "    '''Piramida (prva verzija funkcije)\n",
    "    \n",
    "    Funkcija izriše piramido.\n",
    "    \n",
    "    Argumenti:\n",
    "    n: število vrstic\n",
    "    znak: znak, ki se izpisuje'''\n",
    "    \n",
    "    seznam_piramida = []\n",
    "    for i in range(1, n+1):\n",
    "        seznam_piramida.append(f'{(2*i-1) * znak:^{2*n-1}}')\n",
    "    return seznam_piramida\n",
    "\n",
    "odgovor14 = piramida(n=a, znak='o')#?\n",
    "odgovor14"
   ]
  },
  {
   "cell_type": "code",
   "execution_count": 82,
   "metadata": {},
   "outputs": [
    {
     "data": {
      "text/plain": [
       "['     a     ',\n",
       " '    aaa    ',\n",
       " '   aaaaa   ',\n",
       " '  aaaaaaa  ',\n",
       " ' aaaaaaaaa ',\n",
       " 'aaaaaaaaaaa']"
      ]
     },
     "execution_count": 82,
     "metadata": {},
     "output_type": "execute_result"
    }
   ],
   "source": [
    "piramida(6, 'a')"
   ]
  },
  {
   "cell_type": "code",
   "execution_count": 83,
   "metadata": {},
   "outputs": [
    {
     "ename": "TypeError",
     "evalue": "piramida() missing 1 required positional argument: 'znak'",
     "output_type": "error",
     "traceback": [
      "\u001b[1;31m---------------------------------------------------------------------------\u001b[0m",
      "\u001b[1;31mTypeError\u001b[0m                                 Traceback (most recent call last)",
      "\u001b[1;32m<ipython-input-83-cfb27bc31502>\u001b[0m in \u001b[0;36m<module>\u001b[1;34m()\u001b[0m\n\u001b[1;32m----> 1\u001b[1;33m \u001b[0mpiramida\u001b[0m\u001b[1;33m(\u001b[0m\u001b[1;36m1\u001b[0m\u001b[1;33m)\u001b[0m\u001b[1;33m\u001b[0m\u001b[0m\n\u001b[0m",
      "\u001b[1;31mTypeError\u001b[0m: piramida() missing 1 required positional argument: 'znak'"
     ]
    }
   ],
   "source": [
    "piramida(1) #verzija 1 vrže error!"
   ]
  },
  {
   "cell_type": "code",
   "execution_count": 77,
   "metadata": {},
   "outputs": [
    {
     "name": "stdout",
     "output_type": "stream",
     "text": [
      "Pravilna rešitev. Uspeh: 76%. Preostali čas: 1dni,16ur, 11min\n"
     ]
    }
   ],
   "source": [
    "poslji(odgovor14, id=366055927941693440, st=13)"
   ]
  },
  {
   "cell_type": "markdown",
   "metadata": {},
   "source": [
    "### 15. vprašanje\n",
    "\n",
    " Funkcijo ``piramida`` nadgradite tako, da bo sprožila izjemo ``Exception`` z ustreznim opisom, če bo argument ``n`` manjši od 1 ali večji od $c$. Vnesite rezultat klica funkcije ``piramida`` z argumentoma (``n``=$a$, ``znak``='-').\n",
    "\n",
    "Število poskusov: 3."
   ]
  },
  {
   "cell_type": "code",
   "execution_count": 3,
   "metadata": {},
   "outputs": [
    {
     "data": {
      "text/plain": [
       "['    -    ', '   ---   ', '  -----  ', ' ------- ', '---------']"
      ]
     },
     "execution_count": 3,
     "metadata": {},
     "output_type": "execute_result"
    }
   ],
   "source": [
    "def piramida(n, znak):\n",
    "    '''Piramida (druga verzija funkcije)\n",
    "    \n",
    "    Funkcija izriše piramido.\n",
    "    \n",
    "    Argumenti:\n",
    "    n: število vrstic\n",
    "    znak: znak, ki se izpisuje'''\n",
    "    \n",
    "    seznam_piramida = []\n",
    "    \n",
    "    try:\n",
    "        if n < 1 or n > c:\n",
    "            raise Exception(f' Izbrali ste: n = {n}\\n Število vrstic (n) mora biti večje od 1 in manjše od c (25)!')\n",
    "    except Exception as izjema:\n",
    "        return print(izjema)\n",
    "    \n",
    "    for i in range(1, n+1):\n",
    "        seznam_piramida.append(f'{(2*i-1) * znak:^{2*n-1}}')\n",
    "    return seznam_piramida\n",
    "    \n",
    "\n",
    "odgovor15 = piramida(n=a, znak='-')#?\n",
    "odgovor15"
   ]
  },
  {
   "cell_type": "code",
   "execution_count": 4,
   "metadata": {},
   "outputs": [
    {
     "name": "stdout",
     "output_type": "stream",
     "text": [
      " Izbrali ste: n = 26\n",
      " Število vrstic (n) mora biti večje od 1 in manjše od c (25)!\n"
     ]
    }
   ],
   "source": [
    "piramida(26, 'x')"
   ]
  },
  {
   "cell_type": "code",
   "execution_count": 96,
   "metadata": {},
   "outputs": [
    {
     "name": "stdout",
     "output_type": "stream",
     "text": [
      "Pravilna rešitev. Uspeh: 82%. Preostali čas: 1dni,15ur, 52min\n"
     ]
    }
   ],
   "source": [
    "poslji(odgovor15, id=166055927941693440, st=14)"
   ]
  },
  {
   "cell_type": "markdown",
   "metadata": {},
   "source": [
    "### 16. vprašanje\n",
    "\n",
    " Napišite novo funkcijo ``klicanje_piramide``, ki sprejme argumenta ``n`` in ``znak``, z njima kliče funkcijo ``piramida`` in lovi izjeme. Če argumenta ``znak`` ne podate, naj bo uporabljen privzeti znak, 'x'. Kadar ``klicanje_piramide`` naleti na izjemo, naj vrne rezultat klica funkcije ``piramida`` z argumentoma (``n``=1, ``znak``='!'). Vnesite rezultat  klica ``klicanje_piramide(-1)``.\n",
    "\n",
    "Število poskusov: 3."
   ]
  },
  {
   "cell_type": "code",
   "execution_count": 117,
   "metadata": {},
   "outputs": [
    {
     "data": {
      "text/plain": [
       "['!']"
      ]
     },
     "execution_count": 117,
     "metadata": {},
     "output_type": "execute_result"
    }
   ],
   "source": [
    "def klicanje_piramide(*terka, **slovar):\n",
    "    '''klicanje_piramide (prva verzija funkcije)\n",
    "    \n",
    "    Funkcija izriše piramido.\n",
    "    \n",
    "    Argumenti:\n",
    "    n: število vrstic\n",
    "    znak: znak, ki se izpisuje (privzeti znak: 'x')'''\n",
    "    \n",
    "    seznam_piramida = []\n",
    "    n = terka[0]\n",
    "    znak = slovar.get('znak', 'x')\n",
    "    \n",
    "    try:\n",
    "        if n < 1 or n > c:\n",
    "            raise Exception('!')\n",
    "    except Exception as izjema:\n",
    "        n = 1\n",
    "        znak = '!'\n",
    "    \n",
    "    for i in range(1, n+1):\n",
    "        seznam_piramida.append(f'{(2*i-1) * znak:^{2*n-1}}')\n",
    "    return seznam_piramida\n",
    "\n",
    "odgovor16 = klicanje_piramide(-1)#?\n",
    "odgovor16"
   ]
  },
  {
   "cell_type": "code",
   "execution_count": 118,
   "metadata": {},
   "outputs": [
    {
     "name": "stdout",
     "output_type": "stream",
     "text": [
      "Pravilna rešitev. Uspeh: 88%. Preostali čas: 1dni,15ur, 23min\n"
     ]
    }
   ],
   "source": [
    "poslji(odgovor16, id=666055927941693440, st=15)"
   ]
  },
  {
   "cell_type": "markdown",
   "metadata": {},
   "source": [
    "### 17. vprašanje\n",
    "\n",
    " Če direktorij vsebuje datoteko '``__init__.py``', lahko poljubno datoteko s končnico .py uvozimo kot modul z ukazom ``import``! (1: Da, 2: Ne)\n",
    "\n",
    "Število poskusov: 1."
   ]
  },
  {
   "cell_type": "code",
   "execution_count": 119,
   "metadata": {
    "collapsed": true
   },
   "outputs": [],
   "source": [
    "odgovor17 = 1#?"
   ]
  },
  {
   "cell_type": "code",
   "execution_count": 120,
   "metadata": {},
   "outputs": [
    {
     "name": "stdout",
     "output_type": "stream",
     "text": [
      "Pravilna rešitev. Uspeh: 94%. Preostali čas: 1dni,15ur, 20min\n"
     ]
    }
   ],
   "source": [
    "poslji(odgovor17, id=766055927941693440, st=16)"
   ]
  },
  {
   "cell_type": "code",
   "execution_count": null,
   "metadata": {
    "collapsed": true
   },
   "outputs": [],
   "source": []
  }
 ],
 "metadata": {
  "kernelspec": {
   "display_name": "Python 3",
   "language": "python",
   "name": "python3"
  },
  "language_info": {
   "codemirror_mode": {
    "name": "ipython",
    "version": 3
   },
   "file_extension": ".py",
   "mimetype": "text/x-python",
   "name": "python",
   "nbconvert_exporter": "python",
   "pygments_lexer": "ipython3",
   "version": "3.6.2"
  }
 },
 "nbformat": 4,
 "nbformat_minor": 1
}
