{
 "cells": [
  {
   "cell_type": "code",
   "execution_count": 1,
   "metadata": {},
   "outputs": [
    {
     "name": "stdout",
     "output_type": "stream",
     "text": [
      "Downloading file: mojladisksi.py\n"
     ]
    }
   ],
   "source": [
    "from sync import sync\n",
    "sync('/moj.ladisk.si/mojladisksi.py')\n",
    "from mojladisksi import poslji\n",
    "import numpy as np\n"
   ]
  },
  {
   "cell_type": "markdown",
   "metadata": {},
   "source": [
    "# DER\n",
    "\n",
    "Kovšca Dejan, 23160187, dejan.kovsca@gmail.com\n",
    "\n",
    "Pričetek reševanja: Fri Jan 05 16:54:27 UTC 2018"
   ]
  },
  {
   "cell_type": "markdown",
   "metadata": {},
   "source": [
    "Na nosilec dolžine $l$ z elastičnim modulom $E$ in vztrajnostnim momentom prereza $I$ deluje kontinuirna obremenitev $q(x) = q_0\\,(1-\\frac{x^2}{l^2})$ in osna sila $N$. Nosilec diskretiziramo z $n$ ekvidistančno razporejenimi točkami na območju $x\\in[0,\\,l]$. Diferencialna enačba upogiba $w(x)$ je: $$-\\frac{\\mathrm{d}^4 w(x)}{\\mathrm{d}x^4} + \\frac{N}{EI}\\frac{\\mathrm{d}^2 w(x)}{\\mathrm{d}x^2}=-\\frac{q(x)}{EI}$$Robni pogoji so: $w(0)=w(l)=0$ in $w''(0)=w''(l)=0$. "
   ]
  },
  {
   "cell_type": "markdown",
   "metadata": {},
   "source": [
    "<img width=500 src='dejan.kovsca_DER_Fri Jan 05 16-54-27 UTC 2018.jpg'>"
   ]
  },
  {
   "cell_type": "code",
   "execution_count": 2,
   "metadata": {
    "collapsed": true
   },
   "outputs": [],
   "source": [
    "E = 200000000000 # N/m$^2$\n",
    "I = 6.3E-9 # m^4\n",
    "l = 0.7 # m\n",
    "n = 800 # \n",
    "N = 1300 # N\n",
    "q_0 = 1000 # N/m"
   ]
  },
  {
   "cell_type": "markdown",
   "metadata": {},
   "source": [
    "### 1. vprašanje\n",
    "\n",
    " Navadne diferencialne enačbe so sestavljene iz funkcije z eno spremenljivko in iz njenih odvodov (1: Da, 2: Ne).\n",
    "\n",
    "Število poskusov: 1, enote:  /"
   ]
  },
  {
   "cell_type": "code",
   "execution_count": 2,
   "metadata": {
    "collapsed": true
   },
   "outputs": [],
   "source": [
    "odgovor1 = 1#?"
   ]
  },
  {
   "cell_type": "code",
   "execution_count": 3,
   "metadata": {},
   "outputs": [
    {
     "name": "stdout",
     "output_type": "stream",
     "text": [
      "Pravilna rešitev. Uspeh: 16%. Preostali čas: 6dni,12ur, 14min\n"
     ]
    }
   ],
   "source": [
    "poslji(odgovor1, id=555211479512973312, st=0)"
   ]
  },
  {
   "cell_type": "markdown",
   "metadata": {},
   "source": [
    "### 2. vprašanje\n",
    "\n",
    " Določite vektor $x$.\n",
    "\n",
    "Število poskusov: 3, enote:  m"
   ]
  },
  {
   "cell_type": "code",
   "execution_count": 3,
   "metadata": {
    "collapsed": true
   },
   "outputs": [],
   "source": [
    "x = np.linspace(0, l, n)"
   ]
  },
  {
   "cell_type": "code",
   "execution_count": 8,
   "metadata": {
    "collapsed": true
   },
   "outputs": [],
   "source": [
    "odgovor2 = x#?"
   ]
  },
  {
   "cell_type": "code",
   "execution_count": 9,
   "metadata": {},
   "outputs": [
    {
     "name": "stdout",
     "output_type": "stream",
     "text": [
      "Pravilna rešitev. Uspeh: 33%. Preostali čas: 6dni,12ur, 14min\n"
     ]
    }
   ],
   "source": [
    "poslji(odgovor2, id=355211479512973312, st=1)"
   ]
  },
  {
   "cell_type": "markdown",
   "metadata": {},
   "source": [
    "### 3. vprašanje\n",
    "\n",
    " Diferencialno enačbo pretvorite na sistem diferencialnih enačb prvega reda in podajte vektor vrednosti prvega, drugega, tretjega in četrtega odvoda (v obliki numeričnega polja) pri začetnem pogoju $\\textbf{w}_0(x=0) = [0, -0.1, 0, 100]$.\n",
    "\n",
    "Število poskusov: 3."
   ]
  },
  {
   "cell_type": "code",
   "execution_count": 4,
   "metadata": {
    "collapsed": true
   },
   "outputs": [],
   "source": [
    "from scipy.integrate import odeint"
   ]
  },
  {
   "cell_type": "markdown",
   "metadata": {},
   "source": [
    "$q(x) = q_0\\,(1-\\frac{x^2}{l^2})$\n",
    "\n",
    "$-\\frac{\\mathrm{d}^4 w(x)}{\\mathrm{d}x^4} + \\frac{N}{EI}\\frac{\\mathrm{d}^2 w(x)}{\\mathrm{d}x^2}=-\\frac{q(x)}{EI}$\n",
    "\n",
    "Robni pogoji so: $w(0)=w(l)=0$ in $w''(0)=w''(l)=0$."
   ]
  },
  {
   "cell_type": "markdown",
   "metadata": {},
   "source": [
    "y0 = w\n",
    "\n",
    "y1 = w'\n",
    "\n",
    "y2 = w''\n",
    "\n",
    "y3 = w'''\n",
    "\n",
    "y0' = y1\n",
    "\n",
    "y1' = y2\n",
    "\n",
    "y2' = y3\n",
    "\n",
    "y3' = (N/E*I)*w''(x) + q(x)/EI"
   ]
  },
  {
   "cell_type": "code",
   "execution_count": 5,
   "metadata": {
    "collapsed": true
   },
   "outputs": [],
   "source": [
    "def q_porazdeljena(x, q_0=1000, l=0.7):\n",
    "    return q_0 * (1 - x**2/(l**2))"
   ]
  },
  {
   "cell_type": "code",
   "execution_count": 6,
   "metadata": {
    "collapsed": true
   },
   "outputs": [],
   "source": [
    "def f_desne_strani(y, x, N=1300, E=200000000000, I=6.3e-9):\n",
    "    return np.array([y[1], y[2], y[3], ((N/(E*I))*y[2] + q_porazdeljena(x)/(E*I))])"
   ]
  },
  {
   "cell_type": "code",
   "execution_count": 7,
   "metadata": {
    "collapsed": true
   },
   "outputs": [],
   "source": [
    "w0 = [0, -0.1, 0, 100] # začetni pogoji"
   ]
  },
  {
   "cell_type": "code",
   "execution_count": 18,
   "metadata": {},
   "outputs": [
    {
     "data": {
      "text/plain": [
       "array([  -0.1       ,    0.        ,  100.        ,    0.79365079])"
      ]
     },
     "execution_count": 18,
     "metadata": {},
     "output_type": "execute_result"
    }
   ],
   "source": [
    "odgovor3 = f_desne_strani(w0, 0)#?\n",
    "odgovor3"
   ]
  },
  {
   "cell_type": "code",
   "execution_count": 16,
   "metadata": {},
   "outputs": [
    {
     "name": "stdout",
     "output_type": "stream",
     "text": [
      "Pravilna rešitev. Uspeh: 100%. Preostali čas: 1dni,10ur, 49min\n"
     ]
    }
   ],
   "source": [
    "poslji(odgovor3, id=655211479512973312, st=2)"
   ]
  },
  {
   "cell_type": "markdown",
   "metadata": {},
   "source": [
    "### 4. vprašanje\n",
    "\n",
    " Z uporabo strelske metode določite vektor nepoznanih začetnih pogojev pri $x=0$. Pomagajte si z vgrajenima funkcijama `scipy.integrate.odeint` in `scipy.optimize.root`. Za začetno ugibanje privzemite začetni pogoj $\\textbf{w}_0(x=0) = [0, -0.1, 0, 100]$.\n",
    "\n",
    "Število poskusov: 3."
   ]
  },
  {
   "cell_type": "code",
   "execution_count": 33,
   "metadata": {
    "collapsed": true
   },
   "outputs": [],
   "source": [
    "def r_nosilec(y0=[-0.1, 100], x=None, ciljne_vrednosti=np.array([0, 0]), N=1300, E=200000000000, I=6.3e-9):\n",
    "    w_ode = odeint(f_desne_strani, y0=[0, y0[0], 0, y0[1]], t=x, args=(N, E, I))\n",
    "    r = w_ode[-1,0:3:2] - ciljne_vrednosti\n",
    "    return r"
   ]
  },
  {
   "cell_type": "code",
   "execution_count": 34,
   "metadata": {},
   "outputs": [
    {
     "data": {
      "text/plain": [
       "array([ 0.00754068,  0.16981712])"
      ]
     },
     "execution_count": 34,
     "metadata": {},
     "output_type": "execute_result"
    }
   ],
   "source": [
    "r_nosilec(y0=[0, 0], x=x)"
   ]
  },
  {
   "cell_type": "code",
   "execution_count": 35,
   "metadata": {
    "collapsed": true
   },
   "outputs": [],
   "source": [
    "from scipy.optimize import root"
   ]
  },
  {
   "cell_type": "code",
   "execution_count": 36,
   "metadata": {},
   "outputs": [
    {
     "data": {
      "text/plain": [
       "array([ 0.0079303 , -0.22329944])"
      ]
     },
     "execution_count": 36,
     "metadata": {},
     "output_type": "execute_result"
    }
   ],
   "source": [
    "rešitev = root(r_nosilec, np.array([0., 0.]), args=(x))\n",
    "rešitev.x"
   ]
  },
  {
   "cell_type": "code",
   "execution_count": 39,
   "metadata": {},
   "outputs": [
    {
     "data": {
      "text/plain": [
       "array([ 0.0079303 , -0.22329944])"
      ]
     },
     "execution_count": 39,
     "metadata": {},
     "output_type": "execute_result"
    }
   ],
   "source": [
    "odgovor4 = rešitev.x#?\n",
    "odgovor4"
   ]
  },
  {
   "cell_type": "code",
   "execution_count": 40,
   "metadata": {},
   "outputs": [
    {
     "name": "stdout",
     "output_type": "stream",
     "text": [
      "Pravilna rešitev. Uspeh: 50%. Preostali čas: 3dni,14ur, 29min\n"
     ]
    }
   ],
   "source": [
    "poslji(odgovor4, id=755211479512973312, st=3)"
   ]
  },
  {
   "cell_type": "markdown",
   "metadata": {},
   "source": [
    "### 5. vprašanje\n",
    "\n",
    " S pomočjo izračunanih začetnih pogojev, določite numerično polje upogibov $w(x)$, pri čemer je $x$ definiran z $n$ točkami na območj $x\\in[0,\\,l]$.\n",
    "\n",
    "Število poskusov: 3, enote:  m"
   ]
  },
  {
   "cell_type": "code",
   "execution_count": 41,
   "metadata": {},
   "outputs": [
    {
     "data": {
      "text/plain": [
       "array([[  0.00000000e+00,   7.93030444e-03,   0.00000000e+00,\n",
       "         -2.23299443e-01],\n",
       "       [  6.94765527e-06,   7.93021890e-03,  -1.95327019e-04,\n",
       "         -2.22604218e-01],\n",
       "       [  1.38951636e-05,   7.92996250e-03,  -3.90045031e-04,\n",
       "         -2.21909172e-01],\n",
       "       ..., \n",
       "       [  1.25855902e-05,  -7.18282470e-03,  -2.30372580e-04,\n",
       "          1.31474554e-01],\n",
       "       [  6.29283763e-06,  -7.18297602e-03,  -1.15187008e-04,\n",
       "          1.31477006e-01],\n",
       "       [ -1.69677640e-17,  -7.18302644e-03,   6.93889390e-18,\n",
       "          1.31477824e-01]])"
      ]
     },
     "execution_count": 41,
     "metadata": {},
     "output_type": "execute_result"
    }
   ],
   "source": [
    "y = odeint(f_desne_strani, np.array([0, rešitev.x[0], 0, rešitev.x[1]]), x, args=(N, E, I))\n",
    "y"
   ]
  },
  {
   "cell_type": "code",
   "execution_count": 46,
   "metadata": {
    "collapsed": true
   },
   "outputs": [],
   "source": [
    "import matplotlib.pyplot as plt"
   ]
  },
  {
   "cell_type": "code",
   "execution_count": 65,
   "metadata": {},
   "outputs": [
    {
     "data": {
      "image/png": "[encoded data removed]",
      "text/plain": [
       "<matplotlib.figure.Figure at 0x1bf5eaec278>"
      ]
     },
     "metadata": {},
     "output_type": "display_data"
    }
   ],
   "source": [
    "plt.fill_between(x, y[:, 0], label='Poves w', alpha=0.5)\n",
    "plt.fill_between(x, y[:, 1], label='Naklon w\\'', alpha=0.5)\n",
    "plt.legend()\n",
    "plt.show()"
   ]
  },
  {
   "cell_type": "code",
   "execution_count": 49,
   "metadata": {
    "collapsed": true
   },
   "outputs": [],
   "source": [
    "odgovor5 = y[:, 0]#?"
   ]
  },
  {
   "cell_type": "code",
   "execution_count": 50,
   "metadata": {},
   "outputs": [
    {
     "name": "stdout",
     "output_type": "stream",
     "text": [
      "Pravilna rešitev. Uspeh: 66%. Preostali čas: 3dni,14ur, 15min\n"
     ]
    }
   ],
   "source": [
    "poslji(odgovor5, id=255211479512973312, st=4)"
   ]
  },
  {
   "cell_type": "markdown",
   "metadata": {},
   "source": [
    "### 6. vprašanje\n",
    "\n",
    " Določite numerično polje vrednosti četrtega odvoda $w''''(x)$, pri čemer je $x$ definiran z $n$ točkami na območj $x\\in[0,\\,l]$.\n",
    "\n",
    "Število poskusov: 3."
   ]
  },
  {
   "cell_type": "code",
   "execution_count": 54,
   "metadata": {
    "collapsed": true
   },
   "outputs": [],
   "source": [
    "cetrti_odvod = N/(E*I) * y[:, 2] + q_porazdeljena(x)/(E*I)"
   ]
  },
  {
   "cell_type": "code",
   "execution_count": 56,
   "metadata": {},
   "outputs": [
    {
     "data": {
      "text/plain": [
       "array([ 0.79365079,  0.79344802,  0.79324339,  0.79303691,  0.79282856,\n",
       "        0.79261836,  0.79240629,  0.79219237,  0.79197659,  0.79175895])"
      ]
     },
     "execution_count": 56,
     "metadata": {},
     "output_type": "execute_result"
    }
   ],
   "source": [
    "odgovor6 = cetrti_odvod#?\n",
    "odgovor6[:10]"
   ]
  },
  {
   "cell_type": "code",
   "execution_count": 63,
   "metadata": {},
   "outputs": [
    {
     "data": {
      "image/png": "[encoded data removed]",
      "text/plain": [
       "<matplotlib.figure.Figure at 0x1bf5e95e0f0>"
      ]
     },
     "metadata": {},
     "output_type": "display_data"
    }
   ],
   "source": [
    "plt.fill_between(x, cetrti_odvod, alpha=0.5)\n",
    "plt.show()"
   ]
  },
  {
   "cell_type": "code",
   "execution_count": 62,
   "metadata": {},
   "outputs": [
    {
     "name": "stdout",
     "output_type": "stream",
     "text": [
      "Pravilna rešitev. Uspeh: 83%. Preostali čas: 3dni,14ur, 10min\n"
     ]
    }
   ],
   "source": [
    "poslji(odgovor6, id=555211479512973312, st=5)"
   ]
  }
 ],
 "metadata": {
  "kernelspec": {
   "display_name": "Python 3",
   "language": "python",
   "name": "python3"
  },
  "language_info": {
   "codemirror_mode": {
    "name": "ipython",
    "version": 3
   },
   "file_extension": ".py",
   "mimetype": "text/x-python",
   "name": "python",
   "nbconvert_exporter": "python",
   "pygments_lexer": "ipython3",
   "version": "3.6.2"
  }
 },
 "nbformat": 4,
 "nbformat_minor": 1
}
