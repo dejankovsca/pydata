{
 "cells": [
  {
   "cell_type": "code",
   "execution_count": 1,
   "metadata": {},
   "outputs": [
    {
     "name": "stdout",
     "output_type": "stream",
     "text": [
      "Downloading file: mojladisksi.py\n"
     ]
    },
    {
     "data": {
      "text/plain": [
       "''"
      ]
     },
     "execution_count": 1,
     "metadata": {},
     "output_type": "execute_result"
    }
   ],
   "source": [
    "from sync import sync\n",
    "sync('/moj.ladisk.si/mojladisksi.py')\n",
    "from mojladisksi import poslji\n",
    "import numpy as np\n",
    ";"
   ]
  },
  {
   "cell_type": "markdown",
   "metadata": {},
   "source": [
    "# DEZ\n",
    "\n",
    "Kovšca Dejan, 23160187, dejan.kovsca@gmail.com\n",
    "\n",
    "Pričetek reševanja: Thu Dec 28 17:37:52 UTC 2017"
   ]
  },
  {
   "cell_type": "markdown",
   "metadata": {},
   "source": [
    "Opazujete padanje verige preko roba, ki je popisano z gibalno enačbo: $$l\\,\\ddot{x}(t) - g\\,x(t)\\,(\\mu+1)=-l\\,g\\,\\mu,$$kjer je $l$ celotna dolžina verige, $g$ gravitacijski pospešek in $\\mu$ koeficient trenja. Padanje verige opazujemo v $n$ ekvidistančno razporejenih točkah v časovnem intervalu $t\\in[t_0,\\, t_1]$."
   ]
  },
  {
   "cell_type": "markdown",
   "metadata": {},
   "source": [
    "<img width=500 src='dejan.kovsca_DEZ_Thu Dec 28 17-37-52 UTC 2017.jpg'>"
   ]
  },
  {
   "cell_type": "code",
   "execution_count": 2,
   "metadata": {
    "collapsed": true
   },
   "outputs": [],
   "source": [
    "mu = 0.15000000000000002 # /\n",
    "g = 9.81 # m/s$^2$\n",
    "l = 0.55 # m\n",
    "n = 2000 # /\n",
    "t_0 = 0.03 # s\n",
    "t_1 = 0.1 # s\n",
    "x_0 = 0.35 # m"
   ]
  },
  {
   "cell_type": "markdown",
   "metadata": {},
   "source": [
    "### 1. vprašanje\n",
    "\n",
    " Navadne diferencialne enačbe so sestavljene iz funkcije z več spremenljivami in iz njenih odvodov (1: Da, 2: Ne).\n",
    "\n",
    "Število poskusov: 1, enote:  /"
   ]
  },
  {
   "cell_type": "code",
   "execution_count": 3,
   "metadata": {
    "collapsed": true
   },
   "outputs": [],
   "source": [
    "odgovor1 = 2#?"
   ]
  },
  {
   "cell_type": "code",
   "execution_count": 4,
   "metadata": {},
   "outputs": [
    {
     "name": "stdout",
     "output_type": "stream",
     "text": [
      "Pravilna rešitev. Uspeh: 20%. Preostali čas: 6dni,13ur, 38min\n"
     ]
    }
   ],
   "source": [
    "poslji(odgovor1, id=605329093518163968, st=0)"
   ]
  },
  {
   "cell_type": "markdown",
   "metadata": {},
   "source": [
    "### 2. vprašanje\n",
    "\n",
    " Določite numerično polje časa $t$.\n",
    "\n",
    "Število poskusov: 3, enote:  s"
   ]
  },
  {
   "cell_type": "code",
   "execution_count": 3,
   "metadata": {},
   "outputs": [
    {
     "data": {
      "text/plain": [
       "array([ 0.03      ,  0.03003502,  0.03007004,  0.03010505,  0.03014007,\n",
       "        0.03017509,  0.03021011,  0.03024512,  0.03028014,  0.03031516])"
      ]
     },
     "execution_count": 3,
     "metadata": {},
     "output_type": "execute_result"
    }
   ],
   "source": [
    "t = np.linspace(t_0, t_1, n)\n",
    "t[:10]"
   ]
  },
  {
   "cell_type": "code",
   "execution_count": 6,
   "metadata": {
    "collapsed": true
   },
   "outputs": [],
   "source": [
    "odgovor2 = t#?"
   ]
  },
  {
   "cell_type": "code",
   "execution_count": 7,
   "metadata": {},
   "outputs": [
    {
     "name": "stdout",
     "output_type": "stream",
     "text": [
      "Pravilna rešitev. Uspeh: 40%. Preostali čas: 6dni,13ur, 36min\n"
     ]
    }
   ],
   "source": [
    "poslji(odgovor2, id=205329093518163968, st=1)"
   ]
  },
  {
   "cell_type": "markdown",
   "metadata": {},
   "source": [
    "### 3. vprašanje\n",
    "\n",
    " S pomočjo funkcije `scipy.integrate.odeint` rešite diferencialno enačbo in določite numerično polje pomikov ${x}(t)$.  Za začetne pogoje uporabite $x(t_0) = x_0$ in $\\dot{x}(t_0) = 0$.\n",
    "\n",
    "Število poskusov: 3, enote:  m"
   ]
  },
  {
   "cell_type": "code",
   "execution_count": 4,
   "metadata": {
    "collapsed": true
   },
   "outputs": [],
   "source": [
    "from scipy.integrate import odeint"
   ]
  },
  {
   "cell_type": "code",
   "execution_count": 5,
   "metadata": {
    "collapsed": true
   },
   "outputs": [],
   "source": [
    "def fun(y, t, g=9.81, l=0.55, mu = 0.15000000000000002):\n",
    "    x, vx = y #x=x, vx=x'\n",
    "    return np.array([vx, g*(mu+1)*x/l - g*mu])"
   ]
  },
  {
   "cell_type": "code",
   "execution_count": 6,
   "metadata": {
    "collapsed": true
   },
   "outputs": [],
   "source": [
    "y0 = np.array([x_0, 0]) #pogoji: [x, x']"
   ]
  },
  {
   "cell_type": "code",
   "execution_count": 7,
   "metadata": {},
   "outputs": [
    {
     "data": {
      "text/plain": [
       "array([[  3.50000000e-01,   0.00000000e+00],\n",
       "       [  3.50000004e-01,   1.99867225e-04],\n",
       "       [  3.50000014e-01,   3.99734510e-04],\n",
       "       [  3.50000032e-01,   5.99601854e-04],\n",
       "       [  3.50000056e-01,   7.99469258e-04]])"
      ]
     },
     "execution_count": 7,
     "metadata": {},
     "output_type": "execute_result"
    }
   ],
   "source": [
    "x_vx_odeint = odeint(fun, y0=y0, t=t)\n",
    "x_vx_odeint[:5]  #[x, x']"
   ]
  },
  {
   "cell_type": "code",
   "execution_count": 8,
   "metadata": {},
   "outputs": [
    {
     "data": {
      "text/plain": [
       "array([ 0.35      ,  0.35      ,  0.35000001,  0.35000003,  0.35000006])"
      ]
     },
     "execution_count": 8,
     "metadata": {},
     "output_type": "execute_result"
    }
   ],
   "source": [
    "x_odeint = x_vx_odeint[:, 0] #prvi stolpec so poti x(t)\n",
    "x_odeint[:5]"
   ]
  },
  {
   "cell_type": "code",
   "execution_count": 9,
   "metadata": {},
   "outputs": [
    {
     "data": {
      "text/plain": [
       "array([ 0.35      ,  0.35      ,  0.35000001,  0.35000003,  0.35000006,\n",
       "        0.35000009,  0.35000013,  0.35000017,  0.35000022,  0.35000028])"
      ]
     },
     "execution_count": 9,
     "metadata": {},
     "output_type": "execute_result"
    }
   ],
   "source": [
    "odgovor3 = x_odeint#?\n",
    "odgovor3[:10]"
   ]
  },
  {
   "cell_type": "code",
   "execution_count": 22,
   "metadata": {},
   "outputs": [
    {
     "name": "stdout",
     "output_type": "stream",
     "text": [
      "Pravilna rešitev. Uspeh: 60%. Preostali čas: 6dni,12ur, 57min\n"
     ]
    }
   ],
   "source": [
    "poslji(odgovor3, id=505329093518163968, st=2)"
   ]
  },
  {
   "cell_type": "markdown",
   "metadata": {},
   "source": [
    "### 4. vprašanje\n",
    "\n",
    " Določite še numerično polje pospeškov $\\ddot{x}(t)$.\n",
    "\n",
    "Število poskusov: 3, enote:  m/s$^2$"
   ]
  },
  {
   "cell_type": "code",
   "execution_count": 10,
   "metadata": {
    "collapsed": true
   },
   "outputs": [],
   "source": [
    "vvx_odeint = g*(mu+1)*x_odeint/l - g*mu"
   ]
  },
  {
   "cell_type": "code",
   "execution_count": 11,
   "metadata": {},
   "outputs": [
    {
     "data": {
      "text/plain": [
       "array([ 5.70763636,  5.70763644,  5.70763665,  5.70763701,  5.70763751,\n",
       "        5.70763816,  5.70763895,  5.70763988,  5.70764096,  5.70764218])"
      ]
     },
     "execution_count": 11,
     "metadata": {},
     "output_type": "execute_result"
    }
   ],
   "source": [
    "odgovor4 = vvx_odeint#?\n",
    "odgovor4[:10]"
   ]
  },
  {
   "cell_type": "code",
   "execution_count": 28,
   "metadata": {},
   "outputs": [
    {
     "name": "stdout",
     "output_type": "stream",
     "text": [
      "Pravilna rešitev. Uspeh: 80%. Preostali čas: 6dni,12ur, 51min\n"
     ]
    }
   ],
   "source": [
    "poslji(odgovor4, id=105329093518163968, st=3)"
   ]
  },
  {
   "cell_type": "markdown",
   "metadata": {},
   "source": [
    "### 5. vprašanje\n",
    "\n",
    " Za primerjavo določite numerično polje pospeškov $\\ddot{x}(t)$ še s pomočjo funkcije `scipy.integrate.ode` (uporabite integrator `vode`).\n",
    "\n",
    "Število poskusov: 3, enote:  m/s$^2$"
   ]
  },
  {
   "cell_type": "code",
   "execution_count": 55,
   "metadata": {
    "collapsed": true
   },
   "outputs": [],
   "source": [
    "from scipy.integrate import ode"
   ]
  },
  {
   "cell_type": "code",
   "execution_count": 56,
   "metadata": {
    "collapsed": true
   },
   "outputs": [],
   "source": [
    "def fun_ode(t, y, g=9.81, l=0.55, mu = 0.15000000000000002):\n",
    "    x, vx = y #x=x, vx=x'\n",
    "    return np.array([vx, g*(mu+1)*x/l - g*mu])"
   ]
  },
  {
   "cell_type": "code",
   "execution_count": 57,
   "metadata": {},
   "outputs": [
    {
     "data": {
      "text/plain": [
       "<scipy.integrate._ode.ode at 0x182a3fa7160>"
      ]
     },
     "execution_count": 57,
     "metadata": {},
     "output_type": "execute_result"
    }
   ],
   "source": [
    "x_ode = ode(fun_ode)\n",
    "x_ode.set_integrator('vode')\n",
    "x_ode.set_initial_value(y0, t=t)\n",
    "x_ode.set_f_params(9.81, 0.55, 0.15000000000000002)"
   ]
  },
  {
   "cell_type": "code",
   "execution_count": 58,
   "metadata": {},
   "outputs": [
    {
     "data": {
      "text/plain": [
       "array([ 0.35      ,  0.35000001,  0.35000002,  0.35000005,  0.35000009,\n",
       "        0.35000013,  0.35000017,  0.35000022,  0.35000027,  0.35000033])"
      ]
     },
     "execution_count": 58,
     "metadata": {},
     "output_type": "execute_result"
    }
   ],
   "source": [
    "x_ode_rezultat = np.zeros_like(t)\n",
    "for i, cas in enumerate(t[1:]):\n",
    "    x_ode_rezultat[i+1] = x_ode.integrate(cas)[0]\n",
    "x_ode_rezultat1 = np.hstack((x_0, x_ode_rezultat[1:])) \n",
    "x_ode_rezultat1[:10]"
   ]
  },
  {
   "cell_type": "code",
   "execution_count": 59,
   "metadata": {},
   "outputs": [
    {
     "data": {
      "text/plain": [
       "array([ 5.70763636,  5.7076365 ,  5.70763678,  5.70763735,  5.70763819,\n",
       "        5.70763903,  5.70763987,  5.7076408 ,  5.70764188,  5.7076431 ])"
      ]
     },
     "execution_count": 59,
     "metadata": {},
     "output_type": "execute_result"
    }
   ],
   "source": [
    "vvx_ode_rezultat = g*(mu+1)*x_ode_rezultat1/l - g*mu\n",
    "vvx_ode_rezultat[:10]"
   ]
  },
  {
   "cell_type": "code",
   "execution_count": 60,
   "metadata": {
    "collapsed": true
   },
   "outputs": [],
   "source": [
    "odgovor5 = vvx_ode_rezultat#?"
   ]
  },
  {
   "cell_type": "code",
   "execution_count": 61,
   "metadata": {},
   "outputs": [
    {
     "name": "stdout",
     "output_type": "stream",
     "text": [
      "Pravilna rešitev. Uspeh: 100%. Preostali čas: 14ur, 23min, 43s\n"
     ]
    }
   ],
   "source": [
    "poslji(odgovor5, id=505329093518163968, st=4)"
   ]
  },
  {
   "cell_type": "code",
   "execution_count": 53,
   "metadata": {},
   "outputs": [
    {
     "data": {
      "text/plain": [
       "array([ 0.        ,  0.35000001,  0.35000002, ...,  0.36407316,\n",
       "        0.36408737,  0.3641016 ])"
      ]
     },
     "execution_count": 53,
     "metadata": {},
     "output_type": "execute_result"
    }
   ],
   "source": [
    "x_ode_rezultat"
   ]
  },
  {
   "cell_type": "code",
   "execution_count": 54,
   "metadata": {},
   "outputs": [
    {
     "data": {
      "text/plain": [
       "array([ 0.35      ,  0.35000001,  0.35000002, ...,  0.36407316,\n",
       "        0.36408737,  0.3641016 ])"
      ]
     },
     "execution_count": 54,
     "metadata": {},
     "output_type": "execute_result"
    }
   ],
   "source": [
    "x_ode_rezultat1"
   ]
  },
  {
   "cell_type": "code",
   "execution_count": null,
   "metadata": {
    "collapsed": true
   },
   "outputs": [],
   "source": []
  }
 ],
 "metadata": {
  "kernelspec": {
   "display_name": "Python 3",
   "language": "python",
   "name": "python3"
  },
  "language_info": {
   "codemirror_mode": {
    "name": "ipython",
    "version": 3
   },
   "file_extension": ".py",
   "mimetype": "text/x-python",
   "name": "python",
   "nbconvert_exporter": "python",
   "pygments_lexer": "ipython3",
   "version": "3.6.2"
  }
 },
 "nbformat": 4,
 "nbformat_minor": 1
}
