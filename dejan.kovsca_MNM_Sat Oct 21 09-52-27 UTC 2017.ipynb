{
 "cells": [
  {
   "cell_type": "code",
   "execution_count": 1,
   "metadata": {},
   "outputs": [
    {
     "name": "stdout",
     "output_type": "stream",
     "text": [
      "Downloading file: mojladisksi.py\n"
     ]
    }
   ],
   "source": [
    "from sync import sync\n",
    "sync('/moj.ladisk.si/mojladisksi.py')\n",
    "from mojladisksi import poslji\n",
    "import numpy as np\n"
   ]
  },
  {
   "cell_type": "markdown",
   "metadata": {},
   "source": [
    "# MNM\n",
    "\n",
    "Kovšca Dejan, 23160187, dejan.kovsca@gmail.com\n",
    "\n",
    "Pričetek reševanja: Sat Oct 21 09:52:27 UTC 2017"
   ]
  },
  {
   "cell_type": "markdown",
   "metadata": {},
   "source": [
    "Ponovitev bistvenih korakov predavanja Moduli, numpy, matplotlib https://github.com/jankoslavic/pypinm."
   ]
  },
  {
   "cell_type": "markdown",
   "metadata": {},
   "source": [
    "<img width=500 src='dejan.kovsca_MNM_Sat Oct 21 09-52-27 UTC 2017.jpg'>"
   ]
  },
  {
   "cell_type": "code",
   "execution_count": 4,
   "metadata": {
    "collapsed": true
   },
   "outputs": [],
   "source": [
    "a = 3 # \n",
    "b = 14 # \n",
    "c = 35 # "
   ]
  },
  {
   "cell_type": "markdown",
   "metadata": {},
   "source": [
    "### 1. vprašanje\n",
    "\n",
    " Z uporabo modula ``pip`` lahko namestimo module iz portala pypi.python.org/pypi! (1: Da, 2: Ne)\n",
    "\n",
    "Število poskusov: 1."
   ]
  },
  {
   "cell_type": "code",
   "execution_count": 3,
   "metadata": {
    "collapsed": true
   },
   "outputs": [],
   "source": [
    "odgovor1 = 1#?"
   ]
  },
  {
   "cell_type": "code",
   "execution_count": 10,
   "metadata": {},
   "outputs": [
    {
     "name": "stdout",
     "output_type": "stream",
     "text": [
      "Pravilna rešitev. Uspeh: 22%. Preostali čas: 1dni,21ur, 31min\n"
     ]
    }
   ],
   "source": [
    "poslji(odgovor1, id=336364744881537024, st=0)"
   ]
  },
  {
   "cell_type": "markdown",
   "metadata": {},
   "source": [
    "### 2. vprašanje\n",
    "\n",
    " Uporabite ukaz ``pip search`` in poiščite opis modula ``lvm_read`` na portalu pypi.python.org/pypi. Vnesite prvi element dobljenega seznama v obliki niza. (Namig: uporabite lahko ukaz ``!``, s katerim znotraj Jupyter Notebooka izvedete ukaz v ukazni vrstici.)\n",
    "\n",
    "Število poskusov: 3."
   ]
  },
  {
   "cell_type": "code",
   "execution_count": 6,
   "metadata": {},
   "outputs": [
    {
     "data": {
      "text/plain": [
       "'odoo8-addon-mail-read-new-window (8.0.1.0.0.99.dev8)  - Open mail in new window'"
      ]
     },
     "execution_count": 6,
     "metadata": {},
     "output_type": "execute_result"
    }
   ],
   "source": [
    "rezultat = !pip search lvm_read\n",
    "rezultat1 = list(rezultat)\n",
    "odgovor2 = rezultat1[0]#?\n",
    "odgovor2"
   ]
  },
  {
   "cell_type": "code",
   "execution_count": 6,
   "metadata": {},
   "outputs": [
    {
     "name": "stdout",
     "output_type": "stream",
     "text": [
      "Pravilna rešitev. Uspeh: 5%. Preostali čas: 2dni,20ur, 20min\n"
     ]
    }
   ],
   "source": [
    "poslji(odgovor2, id=236364744881537024, st=1)"
   ]
  },
  {
   "cell_type": "markdown",
   "metadata": {},
   "source": [
    "### 3. vprašanje\n",
    "\n",
    " Uporaba numeričnih polj modula ``numpy``(``numpy array``) ne prinaša nobenih prednosti v primerjavi z običajnimi Python seznami! (1: Da, 2: Ne)\n",
    "\n",
    "Število poskusov: 1."
   ]
  },
  {
   "cell_type": "code",
   "execution_count": 5,
   "metadata": {
    "collapsed": true
   },
   "outputs": [],
   "source": [
    "odgovor3 = 2#?"
   ]
  },
  {
   "cell_type": "code",
   "execution_count": 12,
   "metadata": {},
   "outputs": [
    {
     "name": "stdout",
     "output_type": "stream",
     "text": [
      "Pravilna rešitev. Uspeh: 27%. Preostali čas: 1dni,21ur, 31min\n"
     ]
    }
   ],
   "source": [
    "poslji(odgovor3, id=736364744881537024, st=2)"
   ]
  },
  {
   "cell_type": "markdown",
   "metadata": {},
   "source": [
    "### 4. vprašanje\n",
    "\n",
    " Uvozite modul ``numpy``. Pripravite numerično polje celih števil večjih ali enakih $b$ in manjših od $c$ s korakom $a$. Shranite ga v spremenljivko ``prvo_polje``. (Namig: uporabite funkcijo ``numpy.arange``.)\n",
    "\n",
    "Število poskusov: 3."
   ]
  },
  {
   "cell_type": "code",
   "execution_count": 6,
   "metadata": {},
   "outputs": [
    {
     "data": {
      "text/plain": [
       "array([14, 17, 20, 23, 26, 29, 32])"
      ]
     },
     "execution_count": 6,
     "metadata": {},
     "output_type": "execute_result"
    }
   ],
   "source": [
    "prvo_polje = np.arange(b, c, a)\n",
    "odgovor4 = prvo_polje#?\n",
    "odgovor4"
   ]
  },
  {
   "cell_type": "code",
   "execution_count": 17,
   "metadata": {},
   "outputs": [
    {
     "name": "stdout",
     "output_type": "stream",
     "text": [
      "Pravilna rešitev. Uspeh: 11%. Preostali čas: 2dni,19ur, 6min\n"
     ]
    }
   ],
   "source": [
    "poslji(odgovor4, id=836364744881537024, st=3)"
   ]
  },
  {
   "cell_type": "markdown",
   "metadata": {},
   "source": [
    "### 5. vprašanje\n",
    "\n",
    " Matematične operacije (seštevanje, odštevanje, množenje, deljenje...) nad ``numpy`` numeričnimi polji se izvajajo na nivoju posameznega elementa! (1: Da, 2: Ne)\n",
    "\n",
    "Število poskusov: 1."
   ]
  },
  {
   "cell_type": "code",
   "execution_count": 7,
   "metadata": {
    "collapsed": true
   },
   "outputs": [],
   "source": [
    "odgovor5 = 1#?"
   ]
  },
  {
   "cell_type": "code",
   "execution_count": 14,
   "metadata": {},
   "outputs": [
    {
     "name": "stdout",
     "output_type": "stream",
     "text": [
      "Pravilna rešitev. Uspeh: 33%. Preostali čas: 1dni,21ur, 30min\n"
     ]
    }
   ],
   "source": [
    "poslji(odgovor5, id=136364744881537024, st=4)"
   ]
  },
  {
   "cell_type": "markdown",
   "metadata": {},
   "source": [
    "### 6. vprašanje\n",
    "\n",
    " Pripravite numerično polje desetih števil, s konstantnim korakom razporejenih na intervalu $[b, c]$, nato pa vsak element numeričnega polja delite z $a$. Shranite ga v spremenljivko ``drugo_polje``. (Namig: uporabite funkcijo ``numpy.linspace``. Za deljenje vseh elementov numeričnega polja s skalarjem ne potrebujete ``for`` zanke!)\n",
    "\n",
    "Število poskusov: 3."
   ]
  },
  {
   "cell_type": "code",
   "execution_count": 8,
   "metadata": {},
   "outputs": [
    {
     "data": {
      "text/plain": [
       "array([  4.66666667,   5.44444444,   6.22222222,   7.        ,\n",
       "         7.77777778,   8.55555556,   9.33333333,  10.11111111,\n",
       "        10.88888889,  11.66666667])"
      ]
     },
     "execution_count": 8,
     "metadata": {},
     "output_type": "execute_result"
    }
   ],
   "source": [
    "novo_polje = np.linspace(b, c, 10)\n",
    "drugo_polje = novo_polje / a\n",
    "odgovor6 = drugo_polje#?\n",
    "odgovor6"
   ]
  },
  {
   "cell_type": "code",
   "execution_count": 8,
   "metadata": {},
   "outputs": [
    {
     "name": "stdout",
     "output_type": "stream",
     "text": [
      "Pravilna rešitev. Uspeh: 16%. Preostali čas: 1dni,21ur, 38min\n"
     ]
    }
   ],
   "source": [
    "poslji(odgovor6, id=636364744881537024, st=5)"
   ]
  },
  {
   "cell_type": "markdown",
   "metadata": {},
   "source": [
    "### 7. vprašanje\n",
    "\n",
    " Daljšega od numeičnih polj ``prvo_polje`` in ``drugo_polje``, pripravljenih pri prejšnjih nalogah, skrajšajte na dolžino krajšega, tako da obdržite elemente iz začetka numeričnega polja, odvečne elemente s konca pa odstranite. Vnesite seznam ``[prvo_polje, drugo_polje]``.\n",
    "\n",
    "Število poskusov: 3."
   ]
  },
  {
   "cell_type": "code",
   "execution_count": 9,
   "metadata": {},
   "outputs": [
    {
     "data": {
      "text/plain": [
       "[array([14, 17, 20, 23, 26, 29, 32]),\n",
       " array([ 4.66666667,  5.44444444,  6.22222222,  7.        ,  7.77777778,\n",
       "         8.55555556,  9.33333333])]"
      ]
     },
     "execution_count": 9,
     "metadata": {},
     "output_type": "execute_result"
    }
   ],
   "source": [
    "if len(prvo_polje) < len(drugo_polje):\n",
    "    drugo_polje = drugo_polje[:len(prvo_polje)]\n",
    "else:\n",
    "    prvo_polje = prvo_polje[:len(drugo_polje)]\n",
    "    \n",
    "seznam = [prvo_polje, drugo_polje]\n",
    "odgovor7 = seznam#?\n",
    "odgovor7"
   ]
  },
  {
   "cell_type": "code",
   "execution_count": 21,
   "metadata": {},
   "outputs": [
    {
     "name": "stdout",
     "output_type": "stream",
     "text": [
      "Pravilna rešitev. Uspeh: 38%. Preostali čas: 1dni,21ur, 24min\n"
     ]
    }
   ],
   "source": [
    "poslji(odgovor7, id=736364744881537024, st=6)"
   ]
  },
  {
   "cell_type": "markdown",
   "metadata": {},
   "source": [
    "### 8. vprašanje\n",
    "\n",
    " Pripravite kvadratno matriko (dvodimenzionalno numerično polje) ``prva_matrika``, kjer naj bo prva vrstica enaka numeričnemu polju ``prvo_polje``, zadnja pa polju ``drugo_polje``, ki ste ju pripravili v prejšnji nalogi. Vmesne vrstice zapolnite z enicami. (Namig: uporabite lahko funkcijo ``numpy.ones``.)\n",
    "\n",
    "Število poskusov: 3."
   ]
  },
  {
   "cell_type": "code",
   "execution_count": 10,
   "metadata": {},
   "outputs": [
    {
     "data": {
      "text/plain": [
       "array([[ 14.        ,  17.        ,  20.        ,  23.        ,\n",
       "         26.        ,  29.        ,  32.        ],\n",
       "       [  1.        ,   1.        ,   1.        ,   1.        ,\n",
       "          1.        ,   1.        ,   1.        ],\n",
       "       [  1.        ,   1.        ,   1.        ,   1.        ,\n",
       "          1.        ,   1.        ,   1.        ],\n",
       "       [  1.        ,   1.        ,   1.        ,   1.        ,\n",
       "          1.        ,   1.        ,   1.        ],\n",
       "       [  1.        ,   1.        ,   1.        ,   1.        ,\n",
       "          1.        ,   1.        ,   1.        ],\n",
       "       [  1.        ,   1.        ,   1.        ,   1.        ,\n",
       "          1.        ,   1.        ,   1.        ],\n",
       "       [  4.66666667,   5.44444444,   6.22222222,   7.        ,\n",
       "          7.77777778,   8.55555556,   9.33333333]])"
      ]
     },
     "execution_count": 10,
     "metadata": {},
     "output_type": "execute_result"
    }
   ],
   "source": [
    "prva_matrika = np.ones((7, 7))\n",
    "prva_matrika[0] = prvo_polje\n",
    "prva_matrika[-1] = drugo_polje\n",
    "odgovor8 = prva_matrika#?\n",
    "odgovor8"
   ]
  },
  {
   "cell_type": "code",
   "execution_count": 26,
   "metadata": {},
   "outputs": [
    {
     "name": "stdout",
     "output_type": "stream",
     "text": [
      "Pravilna rešitev. Uspeh: 44%. Preostali čas: 1dni,21ur, 20min\n"
     ]
    }
   ],
   "source": [
    "poslji(odgovor8, id=636364744881537024, st=7)"
   ]
  },
  {
   "cell_type": "markdown",
   "metadata": {},
   "source": [
    "### 9. vprašanje\n",
    "\n",
    " Pri dostopanju do elementov matrike, zapisane v obliki dvodimenzionalnega numeričnega polja, prvi indeks predstavlja stolpec, drugi indeks pa vrstico izbranega elementa! (1: Da, 2: Ne)\n",
    "\n",
    "Število poskusov: 1."
   ]
  },
  {
   "cell_type": "code",
   "execution_count": 11,
   "metadata": {
    "collapsed": true
   },
   "outputs": [],
   "source": [
    "odgovor9 = 2#?"
   ]
  },
  {
   "cell_type": "code",
   "execution_count": 28,
   "metadata": {},
   "outputs": [
    {
     "name": "stdout",
     "output_type": "stream",
     "text": [
      "Pravilna rešitev. Uspeh: 50%. Preostali čas: 1dni,21ur, 19min\n"
     ]
    }
   ],
   "source": [
    "poslji(odgovor9, id=136364744881537024, st=8)"
   ]
  },
  {
   "cell_type": "markdown",
   "metadata": {},
   "source": [
    "### 10. vprašanje\n",
    "\n",
    " Definirajte funkcijo, ki sprejme dva argumenta: kvadratno matriko ``M`` ter indeks vrstice znotraj te matrike, ``n``. Vrne naj matriko, ki jo dobite, če v matriki ``M`` vrstico ``n`` zamenjate z elementi diagonale, elemente na diagonali pa zamenjate z elementi vrstice ``n`` izvorne matrike. Določite rezultat funkcije, pri čemer naj bo ``M`` matrika ``prva_matrika`` iz prejšnje naloge, ``n`` pa indeks zadnje vrstice te matrike. Rezultat shranite v spremenljivko ``druga_matrika``.\n",
    "\n",
    "Število poskusov: 3."
   ]
  },
  {
   "cell_type": "code",
   "execution_count": 12,
   "metadata": {
    "collapsed": true
   },
   "outputs": [],
   "source": [
    "def matrika_vrstica_diagonala(M, n):\n",
    "    '''\n",
    "    M = kvadratna matrika\n",
    "    n = vrstica matrike M\n",
    "    '''\n",
    "    nova_matrika = M.copy()\n",
    "    diagonala = np.diagonal(M)\n",
    "    vrstica = M[n]\n",
    "    np.fill_diagonal(nova_matrika, vrstica)\n",
    "    nova_matrika[n] = diagonala          \n",
    "    return nova_matrika"
   ]
  },
  {
   "cell_type": "code",
   "execution_count": 16,
   "metadata": {},
   "outputs": [
    {
     "data": {
      "text/plain": [
       "array([[7, 2, 3],\n",
       "       [4, 8, 6],\n",
       "       [1, 5, 9]])"
      ]
     },
     "execution_count": 16,
     "metadata": {},
     "output_type": "execute_result"
    }
   ],
   "source": [
    "neka_matrika = np.array([[1, 2, 3], [4, 5, 6], [7, 8, 9]])\n",
    "matrika_vrstica_diagonala(neka_matrika, -1)"
   ]
  },
  {
   "cell_type": "code",
   "execution_count": 17,
   "metadata": {},
   "outputs": [
    {
     "data": {
      "text/plain": [
       "array([[  4.66666667,  17.        ,  20.        ,  23.        ,\n",
       "         26.        ,  29.        ,  32.        ],\n",
       "       [  1.        ,   5.44444444,   1.        ,   1.        ,\n",
       "          1.        ,   1.        ,   1.        ],\n",
       "       [  1.        ,   1.        ,   6.22222222,   1.        ,\n",
       "          1.        ,   1.        ,   1.        ],\n",
       "       [  1.        ,   1.        ,   1.        ,   7.        ,\n",
       "          1.        ,   1.        ,   1.        ],\n",
       "       [  1.        ,   1.        ,   1.        ,   1.        ,\n",
       "          7.77777778,   1.        ,   1.        ],\n",
       "       [  1.        ,   1.        ,   1.        ,   1.        ,\n",
       "          1.        ,   8.55555556,   1.        ],\n",
       "       [ 14.        ,   1.        ,   1.        ,   1.        ,\n",
       "          1.        ,   1.        ,   9.33333333]])"
      ]
     },
     "execution_count": 17,
     "metadata": {},
     "output_type": "execute_result"
    }
   ],
   "source": [
    "druga_matrika = matrika_vrstica_diagonala(prva_matrika, -1)\n",
    "odgovor10 = druga_matrika#?\n",
    "odgovor10"
   ]
  },
  {
   "cell_type": "code",
   "execution_count": 18,
   "metadata": {},
   "outputs": [
    {
     "name": "stdout",
     "output_type": "stream",
     "text": [
      "Pravilna rešitev. Uspeh: 55%. Preostali čas: 1dni,18ur, 20min\n"
     ]
    }
   ],
   "source": [
    "poslji(odgovor10, id=336364744881537024, st=9)"
   ]
  },
  {
   "cell_type": "markdown",
   "metadata": {},
   "source": [
    "### 11. vprašanje\n",
    "\n",
    " Izračunajte vsoto vsakega stolpca matrike ``druga_matrika`` in rezultate shranite v novo numerično polje (prvi element tega numeričnega polja naj bo torej vsota elementov prvega stolpca matrike ``druga_matrika`` itd.). (Namig: zelo enostavno lahko nalogo rešite z obstoječo ``numpy`` funkcijo  ``sum`` - bodite pozorni na vpliv opcije ``axis``!)\n",
    "\n",
    "Število poskusov: 3."
   ]
  },
  {
   "cell_type": "code",
   "execution_count": 22,
   "metadata": {},
   "outputs": [
    {
     "data": {
      "text/plain": [
       "array([ 23.66666667,  27.44444444,  31.22222222,  35.        ,\n",
       "        38.77777778,  42.55555556,  46.33333333])"
      ]
     },
     "execution_count": 22,
     "metadata": {},
     "output_type": "execute_result"
    }
   ],
   "source": [
    "novo_polje = np.sum(druga_matrika, axis=0)\n",
    "odgovor11 = novo_polje#?\n",
    "odgovor11"
   ]
  },
  {
   "cell_type": "code",
   "execution_count": 23,
   "metadata": {},
   "outputs": [
    {
     "name": "stdout",
     "output_type": "stream",
     "text": [
      "Pravilna rešitev. Uspeh: 61%. Preostali čas: 1dni,18ur, 8min\n"
     ]
    }
   ],
   "source": [
    "poslji(odgovor11, id=636364744881537024, st=10)"
   ]
  },
  {
   "cell_type": "markdown",
   "metadata": {},
   "source": [
    "### 12. vprašanje\n",
    "\n",
    " Z rezanjem (slicing) numeričnih polj dobimo pogled na trenutne elemente numeričnega polja, in ne kopije podatkov! (1: Da, 2: Ne)\n",
    "\n",
    "Število poskusov: 1."
   ]
  },
  {
   "cell_type": "code",
   "execution_count": 24,
   "metadata": {
    "collapsed": true
   },
   "outputs": [],
   "source": [
    "odgovor12 = 1#?"
   ]
  },
  {
   "cell_type": "code",
   "execution_count": 25,
   "metadata": {},
   "outputs": [
    {
     "name": "stdout",
     "output_type": "stream",
     "text": [
      "Pravilna rešitev. Uspeh: 66%. Preostali čas: 1dni,18ur, 6min\n"
     ]
    }
   ],
   "source": [
    "poslji(odgovor12, id=336364744881537024, st=11)"
   ]
  },
  {
   "cell_type": "markdown",
   "metadata": {},
   "source": [
    "### 13. vprašanje\n",
    "\n",
    " Z uporabo rezanja numeričnh polj pripravite pogled na štiri elemente v zgornjem levem kotu (prvi dve vrstici, prva dva stolpca) matrike ``druga_matrika``.\n",
    "\n",
    "Število poskusov: 3."
   ]
  },
  {
   "cell_type": "code",
   "execution_count": 26,
   "metadata": {},
   "outputs": [
    {
     "data": {
      "text/plain": [
       "array([[  4.66666667,  17.        ],\n",
       "       [  1.        ,   5.44444444]])"
      ]
     },
     "execution_count": 26,
     "metadata": {},
     "output_type": "execute_result"
    }
   ],
   "source": [
    "pogled = druga_matrika[:2, :2]\n",
    "odgovor13 = pogled#?\n",
    "odgovor13"
   ]
  },
  {
   "cell_type": "code",
   "execution_count": 27,
   "metadata": {},
   "outputs": [
    {
     "name": "stdout",
     "output_type": "stream",
     "text": [
      "Pravilna rešitev. Uspeh: 72%. Preostali čas: 1dni,18ur, 5min\n"
     ]
    }
   ],
   "source": [
    "poslji(odgovor13, id=336364744881537024, st=12)"
   ]
  },
  {
   "cell_type": "markdown",
   "metadata": {},
   "source": [
    "### 14. vprašanje\n",
    "\n",
    " Z uporabo orodij knjižnice ``numpy`` pripravite matriko ničel v obliki celih števil (``int``), enake dimenzije kot je matrika ``druga_matrika``.\n",
    "\n",
    "Število poskusov: 3."
   ]
  },
  {
   "cell_type": "code",
   "execution_count": 28,
   "metadata": {},
   "outputs": [
    {
     "data": {
      "text/plain": [
       "7"
      ]
     },
     "execution_count": 28,
     "metadata": {},
     "output_type": "execute_result"
    }
   ],
   "source": [
    "len(druga_matrika)"
   ]
  },
  {
   "cell_type": "code",
   "execution_count": 29,
   "metadata": {},
   "outputs": [
    {
     "data": {
      "text/plain": [
       "array([[0, 0, 0, 0, 0, 0, 0],\n",
       "       [0, 0, 0, 0, 0, 0, 0],\n",
       "       [0, 0, 0, 0, 0, 0, 0],\n",
       "       [0, 0, 0, 0, 0, 0, 0],\n",
       "       [0, 0, 0, 0, 0, 0, 0],\n",
       "       [0, 0, 0, 0, 0, 0, 0],\n",
       "       [0, 0, 0, 0, 0, 0, 0]])"
      ]
     },
     "execution_count": 29,
     "metadata": {},
     "output_type": "execute_result"
    }
   ],
   "source": [
    "i = len(druga_matrika)\n",
    "nicelna_matrika = np.zeros((i, i), dtype=int)\n",
    "odgovor14 = nicelna_matrika#?\n",
    "odgovor14"
   ]
  },
  {
   "cell_type": "code",
   "execution_count": 30,
   "metadata": {},
   "outputs": [
    {
     "name": "stdout",
     "output_type": "stream",
     "text": [
      "Pravilna rešitev. Uspeh: 77%. Preostali čas: 1dni,18ur, 3min\n"
     ]
    }
   ],
   "source": [
    "poslji(odgovor14, id=136364744881537024, st=13)"
   ]
  },
  {
   "cell_type": "markdown",
   "metadata": {},
   "source": [
    "### 15. vprašanje\n",
    "\n",
    " Določite rezultat izraza $y = 0.5~x^3 - 0.5~x^2-3~x$ za vrednosti ``x`` na intervalu od $-a$ do vključno $a$, s korakom ``0.2``. (Namig: najprej pripravite numerično polje vrednosti $x$ s funkcijo ``np.arange``. Bodite pozorni na to, da bo zgornja meja (vrednost $a$) res vključena!)\n",
    "\n",
    "Število poskusov: 3."
   ]
  },
  {
   "cell_type": "code",
   "execution_count": 8,
   "metadata": {},
   "outputs": [
    {
     "data": {
      "text/plain": [
       "array([ -9.00000000e+00,  -6.49600000e+00,  -4.36800000e+00,\n",
       "        -2.59200000e+00,  -1.14400000e+00,   4.44089210e-15,\n",
       "         8.64000000e-01,   1.47200000e+00,   1.84800000e+00,\n",
       "         2.01600000e+00,   2.00000000e+00,   1.82400000e+00,\n",
       "         1.51200000e+00,   1.08800000e+00,   5.76000000e-01,\n",
       "        -7.99360578e-15,  -6.16000000e-01,  -1.24800000e+00,\n",
       "        -1.87200000e+00,  -2.46400000e+00,  -3.00000000e+00,\n",
       "        -3.45600000e+00,  -3.80800000e+00,  -4.03200000e+00,\n",
       "        -4.10400000e+00,  -4.00000000e+00,  -3.69600000e+00,\n",
       "        -3.16800000e+00,  -2.39200000e+00,  -1.34400000e+00,\n",
       "         3.90798505e-14])"
      ]
     },
     "execution_count": 8,
     "metadata": {},
     "output_type": "execute_result"
    }
   ],
   "source": [
    "x = np.arange(-a, a+0.2, 0.2)\n",
    "polje_rezultatov = y = 0.5*(x**3) - 0.5*(x**2) -3*x\n",
    "polje_rezultatov #lAŽJE - fora numpya!! "
   ]
  },
  {
   "cell_type": "code",
   "execution_count": 39,
   "metadata": {},
   "outputs": [
    {
     "data": {
      "text/plain": [
       "array([ -9.00000000e+00,  -6.49600000e+00,  -4.36800000e+00,\n",
       "        -2.59200000e+00,  -1.14400000e+00,   4.44089210e-15,\n",
       "         8.64000000e-01,   1.47200000e+00,   1.84800000e+00,\n",
       "         2.01600000e+00,   2.00000000e+00,   1.82400000e+00,\n",
       "         1.51200000e+00,   1.08800000e+00,   5.76000000e-01,\n",
       "        -7.99360578e-15,  -6.16000000e-01,  -1.24800000e+00,\n",
       "        -1.87200000e+00,  -2.46400000e+00,  -3.00000000e+00,\n",
       "        -3.45600000e+00,  -3.80800000e+00,  -4.03200000e+00,\n",
       "        -4.10400000e+00,  -4.00000000e+00,  -3.69600000e+00,\n",
       "        -3.16800000e+00,  -2.39200000e+00,  -1.34400000e+00,\n",
       "         3.90798505e-14])"
      ]
     },
     "execution_count": 39,
     "metadata": {},
     "output_type": "execute_result"
    }
   ],
   "source": [
    "polje_stevil = np.arange(-a, a+0.2, 0.2)\n",
    "polje_rezultatov =np.array([])\n",
    "for x in polje_stevil:\n",
    "    y = 0.5*(x**3) - 0.5*(x**2) -3*x\n",
    "    polje_rezultatov = np.append(polje_rezultatov, y)\n",
    "odgovor15 = polje_rezultatov#?\n",
    "odgovor15"
   ]
  },
  {
   "cell_type": "code",
   "execution_count": 40,
   "metadata": {},
   "outputs": [
    {
     "name": "stdout",
     "output_type": "stream",
     "text": [
      "Pravilna rešitev. Uspeh: 83%. Preostali čas: 1dni,17ur, 47min\n"
     ]
    }
   ],
   "source": [
    "poslji(odgovor15, id=136364744881537024, st=14)"
   ]
  },
  {
   "cell_type": "markdown",
   "metadata": {},
   "source": [
    "### 16. vprašanje\n",
    "\n",
    " V interaktevnem načinu uporabe modula ``matplotlib`` lahko elemente prikaza na sliko dodajamo tudi po začetnem izrisu! (1: Da, 2: Ne)\n",
    "\n",
    "Število poskusov: 1."
   ]
  },
  {
   "cell_type": "code",
   "execution_count": 41,
   "metadata": {
    "collapsed": true
   },
   "outputs": [],
   "source": [
    "odgovor16 = 1#?"
   ]
  },
  {
   "cell_type": "code",
   "execution_count": 42,
   "metadata": {},
   "outputs": [
    {
     "name": "stdout",
     "output_type": "stream",
     "text": [
      "Pravilna rešitev. Uspeh: 88%. Preostali čas: 1dni,17ur, 35min\n"
     ]
    }
   ],
   "source": [
    "poslji(odgovor16, id=136364744881537024, st=15)"
   ]
  },
  {
   "cell_type": "markdown",
   "metadata": {},
   "source": [
    "### 17. vprašanje\n",
    "\n",
    " Na isti sliki z uporabo modula ``matplotlib`` izrišite funkciji $f(x)=0.5~x^3+1.5~x^2+0.5~x-12$ z modro prekinjeno črto in $g(x)=-40~\\sin(\\pi x /2)$ s črno polno črto. Vrednosti ``x`` naj bodo na intervalu od ``-4`` do ``4`` s korakom ``0.1``. Dodajte legendo, ki naj bo postavljena v spodnji desni kot slike. Izrišite tudi koordinatno mrežo. Ali je naslednja trditev pravilna? Naklon krivulje $f(x)$ pri ``x=2`` je večji kot naklon $g(x)$ pri isti vrednosti ``x``! (1: Da, 2: Ne)\n",
    "\n",
    "Število poskusov: 1."
   ]
  },
  {
   "cell_type": "code",
   "execution_count": 11,
   "metadata": {
    "collapsed": true
   },
   "outputs": [],
   "source": [
    "import matplotlib.pyplot as plt\n",
    "%matplotlib inline"
   ]
  },
  {
   "cell_type": "code",
   "execution_count": 17,
   "metadata": {},
   "outputs": [
    {
     "data": {
      "image/png": "[encoded data removed]",
      "text/plain": [
       "<matplotlib.figure.Figure at 0x1fcc07294a8>"
      ]
     },
     "metadata": {},
     "output_type": "display_data"
    }
   ],
   "source": [
    "x = np.arange(-4, 4.1, 0.1)\n",
    "\n",
    "f = 0.5*(x**3) + 1.5*(x**2) + 0.5*x - 12\n",
    "g = -40*np.sin((np.pi*x)/2)\n",
    "\n",
    "plt.plot(x, f, '--', label='f(x)', color='blue')\n",
    "plt.plot(x, g, '-', label='g(x)', color='black')\n",
    "plt.legend(loc=(0.83,0.01)) #postavitev legende\n",
    "plt.grid() #koordinatna mreža"
   ]
  },
  {
   "cell_type": "code",
   "execution_count": 85,
   "metadata": {
    "collapsed": true
   },
   "outputs": [],
   "source": [
    "odgovor17 = 2#?"
   ]
  },
  {
   "cell_type": "code",
   "execution_count": 86,
   "metadata": {},
   "outputs": [
    {
     "name": "stdout",
     "output_type": "stream",
     "text": [
      "Pravilna rešitev. Uspeh: 94%. Preostali čas: 1dni,16ur, 31min\n"
     ]
    }
   ],
   "source": [
    "poslji(odgovor17, id=536364744881537024, st=16)"
   ]
  },
  {
   "cell_type": "markdown",
   "metadata": {},
   "source": [
    "### 18. vprašanje\n",
    "\n",
    " Za vsako vrednost ``x`` iz prejšnje naloge izračunajte absolutno vrednost razlike med vrednostjo $f(x)$ in $g(x)$. Z uporabo funkcije ``pyplot.hist`` pripravite histogram porazdelitve absolutnih vrednosti razlik med $f(x)$ in $g(x)$ s 15 stolpci. Stolpce obarvajte z rdečo barvo. Razlago različnih možnosti najdete na http://matplotlib.org/api/pyplot_api.html. Ali je naslednja trditev pravilna? Najnižji stolpec izrisanega hitograma je tisti, v katerem leži vrednost 40! (1: Da, 2: Ne)\n",
    "\n",
    "Število poskusov: 1."
   ]
  },
  {
   "cell_type": "code",
   "execution_count": 109,
   "metadata": {},
   "outputs": [
    {
     "data": {
      "text/plain": [
       "[<matplotlib.lines.Line2D at 0xd12f400>]"
      ]
     },
     "execution_count": 109,
     "metadata": {},
     "output_type": "execute_result"
    },
    {
     "data": {
      "image/png": "[encoded data removed]",
      "text/plain": [
       "<matplotlib.figure.Figure at 0xd0bca20>"
      ]
     },
     "metadata": {},
     "output_type": "display_data"
    }
   ],
   "source": [
    "x = np.arange(-4, 4.1, 0.1)\n",
    "f = 0.5*(x**3) + 1.5*(x**2) + 0.5*x - 12\n",
    "g = -40*np.sin((np.pi*x)/2)\n",
    "plt.plot(x, np.absolute(f-g), color='red')"
   ]
  },
  {
   "cell_type": "code",
   "execution_count": 133,
   "metadata": {},
   "outputs": [
    {
     "data": {
      "text/plain": [
       "<matplotlib.text.Text at 0xed8cbe0>"
      ]
     },
     "execution_count": 133,
     "metadata": {},
     "output_type": "execute_result"
    },
    {
     "data": {
      "image/png": "[encoded data removed]",
      "text/plain": [
       "<matplotlib.figure.Figure at 0xed66b70>"
      ]
     },
     "metadata": {},
     "output_type": "display_data"
    }
   ],
   "source": [
    "plt.hist(np.absolute(f-g), bins=15, color='red')\n",
    "plt.title('Absolutna razlika f(x)-g(x)')\n",
    "plt.xlabel('absolutna razlika')\n",
    "plt.ylabel('št dogodkov na intervalu x=[-4, 4]')"
   ]
  },
  {
   "cell_type": "code",
   "execution_count": 5,
   "metadata": {
    "collapsed": true
   },
   "outputs": [],
   "source": [
    "odgovor18 = 2#?"
   ]
  },
  {
   "cell_type": "code",
   "execution_count": 6,
   "metadata": {},
   "outputs": [
    {
     "name": "stdout",
     "output_type": "stream",
     "text": [
      "Pravilna rešitev. Uspeh: 100%. Preostali čas: 1dni,11ur, 14min\n"
     ]
    }
   ],
   "source": [
    "poslji(odgovor18, id=236364744881537024, st=17)"
   ]
  },
  {
   "cell_type": "code",
   "execution_count": null,
   "metadata": {
    "collapsed": true
   },
   "outputs": [],
   "source": []
  }
 ],
 "metadata": {
  "kernelspec": {
   "display_name": "Python 3",
   "language": "python",
   "name": "python3"
  },
  "language_info": {
   "codemirror_mode": {
    "name": "ipython",
    "version": 3
   },
   "file_extension": ".py",
   "mimetype": "text/x-python",
   "name": "python",
   "nbconvert_exporter": "python",
   "pygments_lexer": "ipython3",
   "version": "3.6.2"
  }
 },
 "nbformat": 4,
 "nbformat_minor": 1
}
