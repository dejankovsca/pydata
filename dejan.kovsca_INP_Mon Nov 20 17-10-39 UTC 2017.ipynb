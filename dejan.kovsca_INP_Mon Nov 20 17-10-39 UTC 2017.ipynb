{
 "cells": [
  {
   "cell_type": "code",
   "execution_count": 1,
   "metadata": {},
   "outputs": [
    {
     "name": "stdout",
     "output_type": "stream",
     "text": [
      "Downloading file: mojladisksi.py\n"
     ]
    }
   ],
   "source": [
    "from sync import sync\n",
    "sync('/moj.ladisk.si/mojladisksi.py')\n",
    "from mojladisksi import poslji\n",
    "import numpy as np\n"
   ]
  },
  {
   "cell_type": "markdown",
   "metadata": {},
   "source": [
    "# INP\n",
    "\n",
    "Kovšca Dejan, 23160187, dejan.kovsca@gmail.com\n",
    "\n",
    "Pričetek reševanja: Mon Nov 20 17:10:39 UTC 2017"
   ]
  },
  {
   "cell_type": "markdown",
   "metadata": {},
   "source": [
    "Zapadel je prvi sneg in po parkirišču se izživljate z maminim avtom. Za primerjavo z očetovim avtom si zabeležite šest položajev $(x_i,\\, y_i)$, ki ste jih izvedli na vašem standardnem manevru. Ker vas po prihodu domov mama zaklene v sobo, se odločite da boste naredili rekonstrukcijo vaše poti. Spomnite se na interpolacijo!"
   ]
  },
  {
   "cell_type": "markdown",
   "metadata": {},
   "source": [
    "<img width=500 src='dejan.kovsca_INP_Mon Nov 20 17-10-39 UTC 2017.jpg'>"
   ]
  },
  {
   "cell_type": "code",
   "execution_count": 2,
   "metadata": {
    "collapsed": true
   },
   "outputs": [],
   "source": [
    "x_0 = 0.2 # m\n",
    "x_1 = 1.7000000000000002 # m\n",
    "x_2 = 2.1 # m\n",
    "x_3 = 3.5 # m\n",
    "x_4 = 4.1 # m\n",
    "x_5 = 5.3 # m\n",
    "y_0 = 1 # m\n",
    "y_1 = 0 # m\n",
    "y_2 = -2.1 # m\n",
    "y_3 = 2 # m\n",
    "y_4 = -0.8999999999999999 # m\n",
    "y_5 = 0.7000000000000002 # m\n",
    "n = 41 # /"
   ]
  },
  {
   "cell_type": "markdown",
   "metadata": {},
   "source": [
    "### 1. vprašanje\n",
    "\n",
    " Polinomi višjih redov (10 in več) so običajno ustrezna izbira pri interpolaciji.(1: Da, 2: Ne).\n",
    "\n",
    "Število poskusov: 1, enote:  /"
   ]
  },
  {
   "cell_type": "code",
   "execution_count": 3,
   "metadata": {
    "collapsed": true
   },
   "outputs": [],
   "source": [
    "odgovor1 = 2#?"
   ]
  },
  {
   "cell_type": "code",
   "execution_count": 4,
   "metadata": {},
   "outputs": [
    {
     "name": "stdout",
     "output_type": "stream",
     "text": [
      "Pravilna rešitev. Uspeh: 20%. Preostali čas: 2dni,13ur, 55min\n"
     ]
    }
   ],
   "source": [
    "poslji(odgovor1, id=116645588403683328, st=0)"
   ]
  },
  {
   "cell_type": "markdown",
   "metadata": {},
   "source": [
    "### 2. vprašanje\n",
    "\n",
    " Določite vektor $x_{rez}$, ki naj vsebuje $n$ vrednosti na območju $[\\textrm{min}(x),\\,\\textrm{max}(x)]$, pri čemer je $x = [x_0,\\, x_1,\\, x_2,\\, x_3,\\, x_4,\\, x_5]$.\n",
    "\n",
    "Število poskusov: 3, enote:  m"
   ]
  },
  {
   "cell_type": "code",
   "execution_count": 13,
   "metadata": {},
   "outputs": [],
   "source": [
    "x = np.array([x_0, x_1, x_2, x_3, x_4, x_5])\n",
    "x_rez = np.linspace(np.min(x), np.max(x), num=n, endpoint=True)"
   ]
  },
  {
   "cell_type": "code",
   "execution_count": 11,
   "metadata": {},
   "outputs": [
    {
     "data": {
      "text/plain": [
       "array([ 0.2   ,  0.3275,  0.455 ,  0.5825,  0.71  ,  0.8375,  0.965 ,\n",
       "        1.0925,  1.22  ,  1.3475,  1.475 ,  1.6025,  1.73  ,  1.8575,\n",
       "        1.985 ,  2.1125,  2.24  ,  2.3675,  2.495 ,  2.6225,  2.75  ,\n",
       "        2.8775,  3.005 ,  3.1325,  3.26  ,  3.3875,  3.515 ,  3.6425,\n",
       "        3.77  ,  3.8975,  4.025 ,  4.1525,  4.28  ,  4.4075,  4.535 ,\n",
       "        4.6625,  4.79  ,  4.9175,  5.045 ,  5.1725,  5.3   ])"
      ]
     },
     "execution_count": 11,
     "metadata": {},
     "output_type": "execute_result"
    }
   ],
   "source": [
    "odgovor2 = x_rez#?\n",
    "odgovor2"
   ]
  },
  {
   "cell_type": "code",
   "execution_count": 12,
   "metadata": {},
   "outputs": [
    {
     "name": "stdout",
     "output_type": "stream",
     "text": [
      "Pravilna rešitev. Uspeh: 40%. Preostali čas: 2dni,13ur, 50min\n"
     ]
    }
   ],
   "source": [
    "poslji(odgovor2, id=216645588403683328, st=1)"
   ]
  },
  {
   "cell_type": "markdown",
   "metadata": {},
   "source": [
    "### 3. vprašanje\n",
    "\n",
    " S pomočjo vgrajene funkcije `scipy.interpolate.InterpolatedUnivariateSpline` uporabite zlepke najvišjega možnega reda in določite še položaj na $y$-osi: $y_{rez}=y(x_{rez})$.\n",
    "\n",
    "Število poskusov: 3, enote:  /"
   ]
  },
  {
   "cell_type": "code",
   "execution_count": 71,
   "metadata": {},
   "outputs": [],
   "source": [
    "from scipy.interpolate import InterpolatedUnivariateSpline\n",
    "from scipy.interpolate import interp1d\n",
    "import matplotlib.pyplot as plt\n",
    "%matplotlib inline"
   ]
  },
  {
   "cell_type": "code",
   "execution_count": 21,
   "metadata": {},
   "outputs": [],
   "source": [
    "y = np.array([y_0, y_1, y_2, y_3, y_4, y_5])"
   ]
  },
  {
   "cell_type": "code",
   "execution_count": 76,
   "metadata": {},
   "outputs": [
    {
     "data": {
      "text/plain": [
       "array([  1.        ,   5.62848637,   8.45382888,   9.85024612,\n",
       "        10.14745188,   9.63307312,   8.5550679 ,   7.12414331,\n",
       "         5.51617343,   3.87461729,   2.31293677,   0.91701455,\n",
       "        -0.25242791,  -1.15741246,  -1.78028633,  -2.12130413,\n",
       "        -2.19621   ,  -2.03381956,  -1.67360206,  -1.16326239,\n",
       "        -0.55632313,   0.09029336,   0.71868289,   1.2723774 ,\n",
       "         1.69876289,   1.95149737,   1.99292878,   1.79651297,\n",
       "         1.34923159,   0.6540101 ,  -0.26786435,  -1.37432494,\n",
       "        -2.60010726,  -3.85433135,  -5.01808377,  -5.94199965,\n",
       "        -6.44384476,  -6.30609754,  -5.2735312 ,  -3.05079573,   0.7       ])"
      ]
     },
     "execution_count": 76,
     "metadata": {},
     "output_type": "execute_result"
    }
   ],
   "source": [
    "spl = InterpolatedUnivariateSpline(x, y, k=5)\n",
    "y_rez = spl(x_rez)\n",
    "odgovor3 = y_rez#?\n",
    "odgovor3"
   ]
  },
  {
   "cell_type": "code",
   "execution_count": 77,
   "metadata": {},
   "outputs": [
    {
     "data": {
      "text/plain": [
       "[<matplotlib.lines.Line2D at 0x1b914b15ef0>]"
      ]
     },
     "execution_count": 77,
     "metadata": {},
     "output_type": "execute_result"
    },
    {
     "data": {
      "image/png": "[encoded data removed]",
      "text/plain": [
       "<matplotlib.figure.Figure at 0x1b914b15710>"
      ]
     },
     "metadata": {},
     "output_type": "display_data"
    }
   ],
   "source": [
    "plt.plot(x, y, 'o')\n",
    "plt.plot(x_rez, spl(x_rez))"
   ]
  },
  {
   "cell_type": "code",
   "execution_count": 57,
   "metadata": {},
   "outputs": [
    {
     "name": "stdout",
     "output_type": "stream",
     "text": [
      "Pravilna rešitev. Uspeh: 60%. Preostali čas: 2dni,13ur, 31min\n"
     ]
    }
   ],
   "source": [
    "poslji(odgovor3, id=616645588403683328, st=2)"
   ]
  },
  {
   "cell_type": "markdown",
   "metadata": {},
   "source": [
    "### 4. vprašanje\n",
    "\n",
    " Določite prvi odvod zlepka v točkah $x_{rez}$.\n",
    "\n",
    "Število poskusov: 3, enote:  /"
   ]
  },
  {
   "cell_type": "code",
   "execution_count": 78,
   "metadata": {},
   "outputs": [
    {
     "data": {
      "text/plain": [
       "array([ 44.44241262,  28.71149058,  16.09646622,   6.23880028,\n",
       "        -1.20108224,  -6.54379209, -10.09097576, -12.12531549,\n",
       "       -12.91052928, -12.69137085, -11.69362969, -10.12413102,\n",
       "        -8.17073583,  -6.00234084,  -3.76887851,  -1.60131706,\n",
       "         0.38833953,   2.10705158,   3.48074361,   4.45430442,\n",
       "         4.99158706,   5.07540883,   4.7075513 ,   3.90876026,\n",
       "         2.71874578,   1.19618217,  -0.581292  ,  -2.5170739 ,\n",
       "        -4.49559648,  -6.38232838,  -8.02377405,  -9.24747364,\n",
       "        -9.86200307,  -9.65697399,  -8.40303382,  -5.85186571,\n",
       "        -1.73618856,   4.23024297,  12.35263851,  22.9551719 ,  36.38098126])"
      ]
     },
     "execution_count": 78,
     "metadata": {},
     "output_type": "execute_result"
    }
   ],
   "source": [
    "spl1 = spl.derivative(1)\n",
    "odgovor4 = spl1(x_rez)#?\n",
    "odgovor4"
   ]
  },
  {
   "cell_type": "code",
   "execution_count": 79,
   "metadata": {},
   "outputs": [
    {
     "data": {
      "image/png": "[encoded data removed]",
      "text/plain": [
       "<matplotlib.figure.Figure at 0x1b915e8a2e8>"
      ]
     },
     "metadata": {},
     "output_type": "display_data"
    }
   ],
   "source": [
    "plt.plot(x, y, 'o', label='Začetne točke')\n",
    "plt.plot(x_rez, spl(x_rez), label='Zlepek')\n",
    "plt.plot(x_rez, spl1(x_rez), 'r', label='Prvi odvod')\n",
    "plt.legend(loc=(1.01, 0));"
   ]
  },
  {
   "cell_type": "code",
   "execution_count": 70,
   "metadata": {},
   "outputs": [
    {
     "name": "stdout",
     "output_type": "stream",
     "text": [
      "Pravilna rešitev. Uspeh: 80%. Preostali čas: 2dni,13ur, 23min\n"
     ]
    }
   ],
   "source": [
    "poslji(odgovor4, id=816645588403683328, st=3)"
   ]
  },
  {
   "cell_type": "markdown",
   "metadata": {},
   "source": [
    "### 5. vprašanje\n",
    "\n",
    " Za primerjavo določite položaj $y(x_{rez})$ še s polinomsko interpolacijo s funkcijo `scipy.interpolate.interp1d`. Uporabite polinom najvišjega možnega reda.\n",
    "\n",
    "Število poskusov: 3, enote:  m"
   ]
  },
  {
   "cell_type": "code",
   "execution_count": 80,
   "metadata": {},
   "outputs": [],
   "source": [
    "p1d = interp1d(x, y, kind=5)\n",
    "y_rez1 = p1d(x_rez)"
   ]
  },
  {
   "cell_type": "code",
   "execution_count": 82,
   "metadata": {},
   "outputs": [
    {
     "data": {
      "text/plain": [
       "array([  1.        ,   5.62848637,   8.45382888,   9.85024612,\n",
       "        10.14745188,   9.63307312,   8.5550679 ,   7.12414331,\n",
       "         5.51617343,   3.87461729,   2.31293677,   0.91701455,\n",
       "        -0.25242791,  -1.15741246,  -1.78028633,  -2.12130413,\n",
       "        -2.19621   ,  -2.03381956,  -1.67360206,  -1.16326239,\n",
       "        -0.55632313,   0.09029336,   0.71868289,   1.2723774 ,\n",
       "         1.69876289,   1.95149737,   1.99292878,   1.79651297,\n",
       "         1.34923159,   0.6540101 ,  -0.26786435,  -1.37432494,\n",
       "        -2.60010726,  -3.85433135,  -5.01808377,  -5.94199965,\n",
       "        -6.44384476,  -6.30609754,  -5.2735312 ,  -3.05079573,   0.7       ])"
      ]
     },
     "execution_count": 82,
     "metadata": {},
     "output_type": "execute_result"
    }
   ],
   "source": [
    "odgovor5 = y_rez1#?\n",
    "odgovor5"
   ]
  },
  {
   "cell_type": "code",
   "execution_count": 85,
   "metadata": {},
   "outputs": [
    {
     "data": {
      "image/png": "[encoded data removed]",
      "text/plain": [
       "<matplotlib.figure.Figure at 0x1b915ff5588>"
      ]
     },
     "metadata": {},
     "output_type": "display_data"
    }
   ],
   "source": [
    "plt.plot(x, y, 'o', label='Začetne točke')\n",
    "plt.plot(x_rez, y_rez, label='InterpolatedUnivariateSpline')\n",
    "plt.plot(x_rez, y_rez1, 'r', label='interp1d')\n",
    "plt.legend(loc=(1.01, 0));"
   ]
  },
  {
   "cell_type": "code",
   "execution_count": 83,
   "metadata": {},
   "outputs": [
    {
     "name": "stdout",
     "output_type": "stream",
     "text": [
      "Pravilna rešitev. Uspeh: 100%. Preostali čas: 2dni,13ur, 16min\n"
     ]
    }
   ],
   "source": [
    "poslji(odgovor5, id=316645588403683328, st=4)"
   ]
  },
  {
   "cell_type": "code",
   "execution_count": 84,
   "metadata": {},
   "outputs": [
    {
     "data": {
      "text/plain": [
       "array([False, False, False, False, False, False, False, False, False,\n",
       "       False, False, False, False, False, False, False, False,  True,\n",
       "        True, False, False, False, False, False, False, False, False,\n",
       "       False, False, False, False, False, False, False, False, False,\n",
       "       False, False, False, False,  True], dtype=bool)"
      ]
     },
     "execution_count": 84,
     "metadata": {},
     "output_type": "execute_result"
    }
   ],
   "source": [
    "y_rez == y_rez1"
   ]
  },
  {
   "cell_type": "code",
   "execution_count": null,
   "metadata": {
    "collapsed": true
   },
   "outputs": [],
   "source": []
  }
 ],
 "metadata": {
  "kernelspec": {
   "display_name": "Python 3",
   "language": "python",
   "name": "python3"
  },
  "language_info": {
   "codemirror_mode": {
    "name": "ipython",
    "version": 3
   },
   "file_extension": ".py",
   "mimetype": "text/x-python",
   "name": "python",
   "nbconvert_exporter": "python",
   "pygments_lexer": "ipython3",
   "version": "3.6.2"
  }
 },
 "nbformat": 4,
 "nbformat_minor": 1
}
