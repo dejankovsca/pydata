{
 "cells": [
  {
   "cell_type": "code",
   "execution_count": 1,
   "metadata": {},
   "outputs": [
    {
     "name": "stdout",
     "output_type": "stream",
     "text": [
      "Downloading file: mojladisksi.py\n"
     ]
    }
   ],
   "source": [
    "from sync import sync\n",
    "sync('/moj.ladisk.si/mojladisksi.py')\n",
    "from mojladisksi import poslji\n",
    "import numpy as np\n"
   ]
  },
  {
   "cell_type": "markdown",
   "metadata": {},
   "source": [
    "# APR\n",
    "\n",
    "Kovšca Dejan, 23160187, dejan.kovsca@gmail.com\n",
    "\n",
    "Pričetek reševanja: Tue Nov 28 17:49:11 UTC 2017"
   ]
  },
  {
   "cell_type": "markdown",
   "metadata": {},
   "source": [
    "Opazujete zasuk propelerja $\\varphi(t)$, ki je definiran kot $\\varphi(t)=B\\,\\cos{(2\\,t)} + C\\,(šum-0.5)$, pri čemer je $t$ definiran na intervalu od $t_0$ do $t_1$ ($t\\in[t_0,\\, t_1)$) s korakom $dt$. Ker vam šum popači podatke, se odločite za aproksimacijo zasuka."
   ]
  },
  {
   "cell_type": "markdown",
   "metadata": {},
   "source": [
    "<img width=500 src='dejan.kovsca_APR_Tue Nov 28 17-49-11 UTC 2017.jpg'>"
   ]
  },
  {
   "cell_type": "code",
   "execution_count": 2,
   "metadata": {
    "collapsed": true
   },
   "outputs": [],
   "source": [
    "B = 5 # /\n",
    "C = 2 # /\n",
    "dt = 0.09 # /\n",
    "i = 885 # /\n",
    "n = 4 # /\n",
    "s = 10 # /\n",
    "t_0 = 0.30000000000000004 # /\n",
    "t_1 = 6.5 # /"
   ]
  },
  {
   "cell_type": "markdown",
   "metadata": {},
   "source": [
    "### 1. vprašanje\n",
    "\n",
    " V primeru da se dobljeni $\\textit{normalni sistem enačb}$ izkaže kot nelinearen, je najprimernejše aproksimacija s polinomom (1:Da, 2: Ne).\n",
    "\n",
    "Število poskusov: 1, enote:  /"
   ]
  },
  {
   "cell_type": "code",
   "execution_count": 3,
   "metadata": {
    "collapsed": true
   },
   "outputs": [],
   "source": [
    "odgovor1 = 2#?"
   ]
  },
  {
   "cell_type": "code",
   "execution_count": 4,
   "metadata": {},
   "outputs": [
    {
     "name": "stdout",
     "output_type": "stream",
     "text": [
      "Pravilna rešitev. Uspeh: 16%. Preostali čas: 1dni,13ur, 25min\n"
     ]
    }
   ],
   "source": [
    "poslji(odgovor1, id=825970454508470272, st=0)"
   ]
  },
  {
   "cell_type": "markdown",
   "metadata": {},
   "source": [
    "### 2. vprašanje\n",
    "\n",
    " Določite vektor $\\textbf{t}$.\n",
    "\n",
    "Število poskusov: 3, enote:  s"
   ]
  },
  {
   "cell_type": "code",
   "execution_count": 14,
   "metadata": {},
   "outputs": [],
   "source": [
    "t = np.arange(t_0, t_1, dt)"
   ]
  },
  {
   "cell_type": "code",
   "execution_count": 15,
   "metadata": {},
   "outputs": [
    {
     "data": {
      "text/plain": [
       "array([ 0.3 ,  0.39,  0.48,  0.57,  0.66,  0.75,  0.84,  0.93,  1.02,\n",
       "        1.11,  1.2 ,  1.29,  1.38,  1.47,  1.56,  1.65,  1.74,  1.83,\n",
       "        1.92,  2.01,  2.1 ,  2.19,  2.28,  2.37,  2.46,  2.55,  2.64,\n",
       "        2.73,  2.82,  2.91,  3.  ,  3.09,  3.18,  3.27,  3.36,  3.45,\n",
       "        3.54,  3.63,  3.72,  3.81,  3.9 ,  3.99,  4.08,  4.17,  4.26,\n",
       "        4.35,  4.44,  4.53,  4.62,  4.71,  4.8 ,  4.89,  4.98,  5.07,\n",
       "        5.16,  5.25,  5.34,  5.43,  5.52,  5.61,  5.7 ,  5.79,  5.88,\n",
       "        5.97,  6.06,  6.15,  6.24,  6.33,  6.42])"
      ]
     },
     "execution_count": 15,
     "metadata": {},
     "output_type": "execute_result"
    }
   ],
   "source": [
    "odgovor2 = t#?\n",
    "odgovor2"
   ]
  },
  {
   "cell_type": "code",
   "execution_count": 16,
   "metadata": {},
   "outputs": [
    {
     "name": "stdout",
     "output_type": "stream",
     "text": [
      "Pravilna rešitev. Uspeh: 33%. Preostali čas: 1dni,13ur, 10min\n"
     ]
    }
   ],
   "source": [
    "poslji(odgovor2, id=325970454508470272, st=1)"
   ]
  },
  {
   "cell_type": "markdown",
   "metadata": {},
   "source": [
    "### 3. vprašanje\n",
    "\n",
    " Določite zasuk propelerja $\\varphi(t)$. Za definicijo šuma uporabite funkciji `numpy.random.seed(i)` in `numpy.random.rand(len(t))`.\n",
    "\n",
    "Število poskusov: 3, enote:  rad"
   ]
  },
  {
   "cell_type": "code",
   "execution_count": 25,
   "metadata": {},
   "outputs": [],
   "source": [
    "np.random.seed(i)\n",
    "šum = np.random.rand(len(t))\n",
    "fi_t = B*np.cos(2*t) + C*(šum - 0.5)"
   ]
  },
  {
   "cell_type": "code",
   "execution_count": 21,
   "metadata": {},
   "outputs": [
    {
     "data": {
      "text/plain": [
       "array([ 3.23175977,  4.0983595 ,  2.38189826,  2.96018996,  0.85538202,\n",
       "        1.24268345, -0.64958986, -1.69848155, -2.36424139, -2.85449307,\n",
       "       -3.09810053, -4.81962489, -4.99914814, -4.0629036 , -4.68239803,\n",
       "       -4.49149391, -5.41301466, -3.87884123, -4.54177204, -2.33237527,\n",
       "       -3.10695079, -0.92489687, -0.88217361, -0.2598909 ,  0.23562205,\n",
       "        2.76106821,  2.31214214,  3.01373289,  4.6593956 ,  4.76852202,\n",
       "        3.81410188,  5.6022837 ,  5.49529869,  4.83712455,  4.66293709,\n",
       "        4.09711439,  4.00214916,  3.79108585,  1.04930581,  0.37689262,\n",
       "        0.77975643, -0.54387858, -2.33646921, -1.50420218, -3.00274141,\n",
       "       -4.51301465, -4.89180134, -4.08544205, -4.59325353, -5.02675364,\n",
       "       -4.49198935, -4.88846109, -4.29333992, -4.23848856, -3.92639713,\n",
       "       -1.394571  , -1.46360577,  0.18551912,  1.20203827,  1.23733677,\n",
       "        2.42464368,  1.87372858,  3.82122909,  4.88943453,  5.10523793,\n",
       "        5.52662122,  5.390747  ,  5.08747239,  4.83713892])"
      ]
     },
     "execution_count": 21,
     "metadata": {},
     "output_type": "execute_result"
    }
   ],
   "source": [
    "odgovor3 = fi_t#?\n",
    "odgovor3"
   ]
  },
  {
   "cell_type": "code",
   "execution_count": 22,
   "metadata": {},
   "outputs": [
    {
     "name": "stdout",
     "output_type": "stream",
     "text": [
      "Pravilna rešitev. Uspeh: 50%. Preostali čas: 1dni,13ur, 6min\n"
     ]
    }
   ],
   "source": [
    "poslji(odgovor3, id=725970454508470272, st=2)"
   ]
  },
  {
   "cell_type": "markdown",
   "metadata": {},
   "source": [
    "### 4. vprašanje\n",
    "\n",
    " S pomočjo funkcje `scipy.optimize.curve_fit` aproksimirajte zasuk $\\varphi(t)$. Kot pričakovan rezultat definirajte novo funkcijo $\\varphi_{apr}=B\\,\\cos{(2\\,t)}$. Za začetni pogoj pa izberite absolutno maksimalno amplitudo zasuka $\\varphi(t)$. Določite koeficiente aproksimirane funkcije. Rešitev podajte v vektorski obliki.\n",
    "\n",
    "Število poskusov: 3, enote:  /"
   ]
  },
  {
   "cell_type": "code",
   "execution_count": 32,
   "metadata": {
    "collapsed": true
   },
   "outputs": [],
   "source": [
    "from scipy.optimize import curve_fit"
   ]
  },
  {
   "cell_type": "code",
   "execution_count": 34,
   "metadata": {
    "collapsed": true
   },
   "outputs": [],
   "source": [
    "? curve_fit()"
   ]
  },
  {
   "cell_type": "code",
   "execution_count": 46,
   "metadata": {
    "collapsed": true
   },
   "outputs": [],
   "source": [
    "def fi_apr(t, B):\n",
    "    return B*np.cos(2*t)"
   ]
  },
  {
   "cell_type": "code",
   "execution_count": 48,
   "metadata": {},
   "outputs": [],
   "source": [
    "p_0 = fi_t[np.argmax(np.abs(fi_t))]\n",
    "popt, pcov = curve_fit(fi_apr, t, fi_t, p_0)"
   ]
  },
  {
   "cell_type": "code",
   "execution_count": 50,
   "metadata": {
    "collapsed": true
   },
   "outputs": [],
   "source": [
    "import matplotlib.pyplot as plt\n",
    "%matplotlib inline"
   ]
  },
  {
   "cell_type": "code",
   "execution_count": 69,
   "metadata": {},
   "outputs": [
    {
     "data": {
      "text/plain": [
       "[<matplotlib.lines.Line2D at 0x1672468c160>]"
      ]
     },
     "execution_count": 69,
     "metadata": {},
     "output_type": "execute_result"
    },
    {
     "data": {
      "image/png": "[encoded data removed]",
      "text/plain": [
       "<matplotlib.figure.Figure at 0x16724627208>"
      ]
     },
     "metadata": {},
     "output_type": "display_data"
    }
   ],
   "source": [
    "plt.plot(t, fi_t)\n",
    "plt.plot(t, fi_apr(t, B), 'k')\n",
    "plt.plot(t, fi_apr(t, *popt), 'r')"
   ]
  },
  {
   "cell_type": "code",
   "execution_count": 49,
   "metadata": {},
   "outputs": [
    {
     "data": {
      "text/plain": [
       "array([ 5.07578898])"
      ]
     },
     "execution_count": 49,
     "metadata": {},
     "output_type": "execute_result"
    }
   ],
   "source": [
    "odgovor4 = popt#?\n",
    "odgovor4"
   ]
  },
  {
   "cell_type": "code",
   "execution_count": 54,
   "metadata": {},
   "outputs": [
    {
     "name": "stdout",
     "output_type": "stream",
     "text": [
      "Pravilna rešitev. Uspeh: 66%. Preostali čas: 1dni,12ur, 38min\n"
     ]
    }
   ],
   "source": [
    "poslji(odgovor4, id=725970454508470272, st=3)"
   ]
  },
  {
   "cell_type": "markdown",
   "metadata": {},
   "source": [
    "### 5. vprašanje\n",
    "\n",
    " Določite $\\varphi_{apr}$.\n",
    "\n",
    "Število poskusov: 3, enote:  rad"
   ]
  },
  {
   "cell_type": "code",
   "execution_count": 60,
   "metadata": {},
   "outputs": [
    {
     "data": {
      "text/plain": [
       "array([ 4.18922942,  3.6084471 ,  2.91106643,  2.11962158,  1.25968622,\n",
       "        0.35904711, -0.55319376, -1.44755948, -2.29515078, -3.06857976,\n",
       "       -3.7428549 , -4.29618861, -4.71070124, -4.97299879, -5.07460575,\n",
       "       -5.01223894, -4.78791357, -4.40887821, -3.88738046, -3.24027129,\n",
       "       -2.48846048, -1.656241  , -0.77050405,  0.1401299 ,  1.04623589,\n",
       "        1.91853526,  2.72884174,  3.45097221,  4.06159275,  4.5409726 ,\n",
       "        4.87362176,  5.04879146,  5.06082151,  4.90932318,  4.59919178,\n",
       "        4.14044848,  3.54791645,  2.84074198,  2.0417757 ,  1.17683431,\n",
       "        0.27386633, -0.63795099, -1.52915444, -2.37094692, -3.1361279 ,\n",
       "       -3.7999724 , -4.34102984, -4.74181727, -4.98938418, -5.07573104,\n",
       "       -4.99806777, -4.75890386, -4.36596732, -3.83195496, -3.17412212,\n",
       "       -2.4137251 , -1.57533431, -0.68604035,  0.22542137,  1.12959914,\n",
       "        1.9972766 ,  2.80041684,  3.51306829,  4.11220331,  4.57846229,\n",
       "        4.89677919,  5.05686835,  5.05355688,  4.88695176])"
      ]
     },
     "execution_count": 60,
     "metadata": {},
     "output_type": "execute_result"
    }
   ],
   "source": [
    "odgovor5 = fi_apr(t, *popt)#?\n",
    "odgovor5"
   ]
  },
  {
   "cell_type": "code",
   "execution_count": 61,
   "metadata": {},
   "outputs": [
    {
     "name": "stdout",
     "output_type": "stream",
     "text": [
      "Pravilna rešitev. Uspeh: 83%. Preostali čas: 1dni,12ur, 35min\n"
     ]
    }
   ],
   "source": [
    "poslji(odgovor5, id=225970454508470272, st=4)"
   ]
  },
  {
   "cell_type": "markdown",
   "metadata": {},
   "source": [
    "### 6. vprašanje\n",
    "\n",
    " Za primerjavo naredite še aproksimacijo s polinomom $n$-te stopnje. Uporabite funkcijo `np.polyfit` in določite aproksimiran polinom na intervalu od $t_0$ do $t_1$ ($t\\in[t_0,\\, t_1)$) z korakom $dt$.\n",
    "\n",
    "Število poskusov: 3, enote:  rad"
   ]
  },
  {
   "cell_type": "code",
   "execution_count": 72,
   "metadata": {},
   "outputs": [],
   "source": [
    "koef = np.polyfit(t, fi_t, n)\n",
    "polinom = np.poly1d(koef)\n",
    "fi_polinom = polinom(t)"
   ]
  },
  {
   "cell_type": "code",
   "execution_count": 77,
   "metadata": {},
   "outputs": [
    {
     "data": {
      "image/png": "[encoded data removed]",
      "text/plain": [
       "<matplotlib.figure.Figure at 0x1672481f3c8>"
      ]
     },
     "metadata": {},
     "output_type": "display_data"
    }
   ],
   "source": [
    "plt.plot(t, fi_t)\n",
    "plt.plot(t, fi_apr(t, *popt), 'r', label='curve_fit')\n",
    "plt.plot(t, polinom(t), 'k', label='polyfit')\n",
    "plt.legend();"
   ]
  },
  {
   "cell_type": "code",
   "execution_count": 74,
   "metadata": {},
   "outputs": [
    {
     "data": {
      "text/plain": [
       "array([  5.44728681,   3.68861842,   2.17297777,   0.88262589,\n",
       "        -0.19961074,  -1.09034025,  -1.80560534,  -2.36088328,\n",
       "        -2.77108594,  -3.05055974,  -3.21308572,  -3.27187947,\n",
       "        -3.23959116,  -3.12830555,  -2.94954199,  -2.71425439,\n",
       "        -2.43283125,  -2.11509564,  -1.77030523,  -1.40715225,\n",
       "        -1.03376351,  -0.65770043,  -0.28595897,   0.0750303 ,\n",
       "         0.41940226,   0.74185717,   1.03766075,   1.30264412,\n",
       "         1.53320382,   1.72630181,   1.87946548,   1.99078762,\n",
       "         2.05892647,   2.08310566,   2.06311425,   1.99930674,\n",
       "         1.89260302,   1.74448841,   1.55701366,   1.33279494,\n",
       "         1.07501382,   0.78741731,   0.47431783,   0.14059322,\n",
       "        -0.20831324,  -0.56639288,  -0.9270716 ,  -1.28320987,\n",
       "        -1.62710274,  -1.95047986,  -2.24450543,  -2.49977826,\n",
       "        -2.70633172,  -2.85363377,  -2.93058695,  -2.92552836,\n",
       "        -2.82622971,  -2.61989727,  -2.2931719 ,  -1.83212903,\n",
       "        -1.22227868,  -0.44856544,   0.5046315 ,   1.6534984 ,\n",
       "         3.01478692,   4.60581414,   6.44446257,   8.54918013,  10.93898017])"
      ]
     },
     "execution_count": 74,
     "metadata": {},
     "output_type": "execute_result"
    }
   ],
   "source": [
    "odgovor6 = fi_polinom#?\n",
    "odgovor6"
   ]
  },
  {
   "cell_type": "code",
   "execution_count": 75,
   "metadata": {},
   "outputs": [
    {
     "name": "stdout",
     "output_type": "stream",
     "text": [
      "Pravilna rešitev. Uspeh: 100%. Preostali čas: 1dni,12ur, 7min\n"
     ]
    }
   ],
   "source": [
    "poslji(odgovor6, id=725970454508470272, st=5)"
   ]
  },
  {
   "cell_type": "code",
   "execution_count": null,
   "metadata": {
    "collapsed": true
   },
   "outputs": [],
   "source": []
  }
 ],
 "metadata": {
  "kernelspec": {
   "display_name": "Python 3",
   "language": "python",
   "name": "python3"
  },
  "language_info": {
   "codemirror_mode": {
    "name": "ipython",
    "version": 3
   },
   "file_extension": ".py",
   "mimetype": "text/x-python",
   "name": "python",
   "nbconvert_exporter": "python",
   "pygments_lexer": "ipython3",
   "version": "3.6.2"
  }
 },
 "nbformat": 4,
 "nbformat_minor": 1
}
