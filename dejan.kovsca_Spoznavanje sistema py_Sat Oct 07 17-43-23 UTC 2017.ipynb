{
 "cells": [
  {
   "cell_type": "code",
   "execution_count": 1,
   "metadata": {},
   "outputs": [
    {
     "name": "stdout",
     "output_type": "stream",
     "text": [
      "Downloading file: mojladisksi.py\n"
     ]
    },
    {
     "data": {
      "text/plain": [
       "''"
      ]
     },
     "execution_count": 1,
     "metadata": {},
     "output_type": "execute_result"
    }
   ],
   "source": [
    "from sync import sync\n",
    "sync('/moj.ladisk.si/mojladisksi.py')\n",
    "from mojladisksi import poslji\n",
    "import numpy as np\n",
    ";"
   ]
  },
  {
   "cell_type": "markdown",
   "metadata": {},
   "source": [
    "# Spoznavanje sistema py\n",
    "\n",
    "Kovšca Dejan, 23160187, dejan.kovsca@gmail.com\n",
    "\n",
    "Pričetek reševanja: Sat Oct 07 17:43:23 UTC 2017"
   ]
  },
  {
   "cell_type": "markdown",
   "metadata": {},
   "source": [
    "Namen te naloge je usvojiti delovanje sistema za sproten študij moj.ladisk.si, na osnovi katerega bo potekalo preverjanje sprotnega dela. Za reševanje nalog si najprej namestite programsko okolje Python 3.6 po navodilih  v uvodu prvega predavanja na https://github.com/jankoslavic/pypinm. Sledeče naloge vas bodo vodile pri spoznavanju veljavnih tipov odgovorov na zastavljena vprašanja. Pri odgovorih bodite točni. Čas reševanja in dovoljeno število poskusov sta omejena."
   ]
  },
  {
   "cell_type": "markdown",
   "metadata": {},
   "source": [
    "<img width=500 src='dejan.kovsca_Spoznavanje sistema py_Sat Oct 07 17-43-23 UTC 2017.jpg'>"
   ]
  },
  {
   "cell_type": "code",
   "execution_count": 2,
   "metadata": {
    "collapsed": true
   },
   "outputs": [],
   "source": [
    "a = 4.96 # "
   ]
  },
  {
   "cell_type": "markdown",
   "metadata": {},
   "source": [
    "### 1. vprašanje\n",
    "\n",
    " Odgovore v obliki celih števil (integer) pogosto zahtevamo, kadar imate pri vprašanju na voljo le dve različni možnosti. Če ste navodilo naloge prebrali, odgovorite s celim številom ``1``. (V tem konkretnem primeru imate 10 možnosti, da podate pravi odgovor. Sicer imate pri izbirnih vprašanjih  tipično eno možnost podajanja odgovora, pri numeričnih pa tri.)\n",
    "\n",
    "Število poskusov: 10."
   ]
  },
  {
   "cell_type": "code",
   "execution_count": 3,
   "metadata": {
    "collapsed": true
   },
   "outputs": [],
   "source": [
    "odgovor1 = 1 #?"
   ]
  },
  {
   "cell_type": "code",
   "execution_count": 4,
   "metadata": {},
   "outputs": [
    {
     "name": "stdout",
     "output_type": "stream",
     "text": [
      "Pravilna rešitev. Uspeh: 14%. Preostali čas: 1dni,13ur, 2min\n"
     ]
    }
   ],
   "source": [
    "poslji(odgovor1, id=706319561355821056, st=0)"
   ]
  },
  {
   "cell_type": "markdown",
   "metadata": {},
   "source": [
    "### 2. vprašanje\n",
    "\n",
    " Kadar je rešitev zastavljene naloge skalar, ga pogosto zapišemo kot število s plavajočo vejico (float). V Pythonu lahko celo število $n$ pretvorimo v zapis s plavajočo vejico z ukazom ``float(n)``. Vnesite število $a$, zapisano v parametrih naloge, v obliki števila s plavajočo vejico.\n",
    "\n",
    "Število poskusov: 10."
   ]
  },
  {
   "cell_type": "code",
   "execution_count": 5,
   "metadata": {
    "collapsed": true
   },
   "outputs": [],
   "source": [
    "odgovor2 = float(a) #?"
   ]
  },
  {
   "cell_type": "code",
   "execution_count": 6,
   "metadata": {},
   "outputs": [
    {
     "name": "stdout",
     "output_type": "stream",
     "text": [
      "Pravilna rešitev. Uspeh: 28%. Preostali čas: 1dni,13ur, 1min\n"
     ]
    }
   ],
   "source": [
    "poslji(odgovor2, id=306319561355821056, st=1)"
   ]
  },
  {
   "cell_type": "markdown",
   "metadata": {},
   "source": [
    "### 3. vprašanje\n",
    "\n",
    " Z nizi (string) v Pythonu običajno zapišemo tekstovne podatke. Niz tvorimo tako, da tekst zapišemo znotraj enojnih ali dvojnih narekovajev. Če ste navodilo naloge prebrali, odgovorite z nizom 'Da'.\n",
    "\n",
    "Število poskusov: 10."
   ]
  },
  {
   "cell_type": "code",
   "execution_count": 7,
   "metadata": {
    "collapsed": true
   },
   "outputs": [],
   "source": [
    "odgovor3 = 'Da' #?"
   ]
  },
  {
   "cell_type": "code",
   "execution_count": 8,
   "metadata": {},
   "outputs": [
    {
     "name": "stdout",
     "output_type": "stream",
     "text": [
      "Pravilna rešitev. Uspeh: 42%. Preostali čas: 1dni,13ur, 0min\n"
     ]
    }
   ],
   "source": [
    "poslji(odgovor3, id=406319561355821056, st=2)"
   ]
  },
  {
   "cell_type": "markdown",
   "metadata": {},
   "source": [
    "### 4. vprašanje\n",
    "\n",
    " Kadar sprašujemo po več kot eni vrednosti, pogosto zahtevamo odgovor v obliki seznama (list). Elementi seznamov so v Pythonu lahko različnih tipov (cela števila, števila s plavajočo vejico, seznami itd.). Sezname definiramo tako, da znotraj [oglatih oklepajev] zapišemo z vejico (,) ločene elemente. Če ste navodilo naloge prebrali, vnesite naslednji seznam: ``[1, 'Da']``.\n",
    "\n",
    "Število poskusov: 10."
   ]
  },
  {
   "cell_type": "code",
   "execution_count": 9,
   "metadata": {
    "collapsed": true
   },
   "outputs": [],
   "source": [
    "odgovor4 = [1, 'Da'] #?"
   ]
  },
  {
   "cell_type": "code",
   "execution_count": 10,
   "metadata": {},
   "outputs": [
    {
     "name": "stdout",
     "output_type": "stream",
     "text": [
      "Pravilna rešitev. Uspeh: 57%. Preostali čas: 1dni,13ur, 0min\n"
     ]
    }
   ],
   "source": [
    "poslji(odgovor4, id=706319561355821056, st=3)"
   ]
  },
  {
   "cell_type": "markdown",
   "metadata": {},
   "source": [
    "### 5. vprašanje\n",
    "\n",
    " Terke (tuple) so v marsikaterem pogledu podobne seznamom. Tudi ustvarimo jih na podoben način, le da namesto oglatih uporabimo (zavite) oklepaje. Več o terkah preberite v predlogi k predavanjem. Če ste navodilo naloge prebrali, vnesite naslednjo terko: ``(1, 'Da')``.\n",
    "\n",
    "Število poskusov: 10."
   ]
  },
  {
   "cell_type": "code",
   "execution_count": 11,
   "metadata": {
    "collapsed": true
   },
   "outputs": [],
   "source": [
    "odgovor5 = (1, 'Da') #?"
   ]
  },
  {
   "cell_type": "code",
   "execution_count": 12,
   "metadata": {},
   "outputs": [
    {
     "name": "stdout",
     "output_type": "stream",
     "text": [
      "Pravilna rešitev. Uspeh: 71%. Preostali čas: 1dni,12ur, 59min\n"
     ]
    }
   ],
   "source": [
    "poslji(odgovor5, id=606319561355821056, st=4)"
   ]
  },
  {
   "cell_type": "markdown",
   "metadata": {},
   "source": [
    "### 6. vprašanje\n",
    "\n",
    " Pri zahtevnejših numeričnih izračunih bomo pogosto uporabili knjižnjico ``NumPy``. Večina funkcij knjižnjice NumPy operira nad numeričnimi polji (NumPy Array), ki so na prvi pogled podobna Python-ovim seznamom. Da lahko definiramo numerična polja, najprej uvozimo knjižnjico NumPy z ukazom ``import numpy``. Pythonove sezname lahko nato pretvorimo v numerična polja, z ukazom ``numpy.array([seznam])``. Če ste navodilo naloge prebrali, vnesite naslednje numerično polje: ``np.array([1, 2])``.\n",
    "\n",
    "Število poskusov: 10."
   ]
  },
  {
   "cell_type": "code",
   "execution_count": 13,
   "metadata": {
    "collapsed": true
   },
   "outputs": [],
   "source": [
    "odgovor6 = np.array([1, 2]) #?"
   ]
  },
  {
   "cell_type": "code",
   "execution_count": 14,
   "metadata": {},
   "outputs": [
    {
     "name": "stdout",
     "output_type": "stream",
     "text": [
      "Pravilna rešitev. Uspeh: 85%. Preostali čas: 1dni,12ur, 58min\n"
     ]
    }
   ],
   "source": [
    "poslji(odgovor6, id=506319561355821056, st=5)"
   ]
  },
  {
   "cell_type": "markdown",
   "metadata": {},
   "source": [
    "### 7. vprašanje\n",
    "\n",
    " Pri zapisu simbolov se bomo sklicevali na LaTeX sintakso. Poglejmo si zapis simbolov, ki so podpisane ali nadpisane ali pa zapis grških črk. Npr. simboli $M$, $F_y$, $F_x$, imajo v obliki niza sledečo obliko (abecedni vrstni red): 'F_x,F_y,M'. Če ste navodilo naloge prebrali, vnesite zgornji niz.\n",
    "\n",
    "Število poskusov: 10."
   ]
  },
  {
   "cell_type": "code",
   "execution_count": 15,
   "metadata": {
    "collapsed": true
   },
   "outputs": [],
   "source": [
    "odgovor7 = 'F_x,F_y,M' #?"
   ]
  },
  {
   "cell_type": "code",
   "execution_count": null,
   "metadata": {
    "collapsed": true
   },
   "outputs": [],
   "source": [
    "poslji(odgovor7, id=406319561355821056, st=6)"
   ]
  },
  {
   "cell_type": "code",
   "execution_count": null,
   "metadata": {
    "collapsed": true
   },
   "outputs": [],
   "source": []
  }
 ],
 "metadata": {
  "kernelspec": {
   "display_name": "Python 3",
   "language": "python",
   "name": "python3"
  },
  "language_info": {
   "codemirror_mode": {
    "name": "ipython",
    "version": 3
   },
   "file_extension": ".py",
   "mimetype": "text/x-python",
   "name": "python",
   "nbconvert_exporter": "python",
   "pygments_lexer": "ipython3",
   "version": "3.6.2"
  }
 },
 "nbformat": 4,
 "nbformat_minor": 1
}
