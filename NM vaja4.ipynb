{
 "cells": [
  {
   "cell_type": "code",
   "execution_count": 1,
   "metadata": {},
   "outputs": [
    {
     "name": "stderr",
     "output_type": "stream",
     "text": [
      "/opt/anaconda/lib/python3.6/site-packages/matplotlib/font_manager.py:280: UserWarning: Matplotlib is building the font cache using fc-list. This may take a moment.\n",
      "  'Matplotlib is building the font cache using fc-list. '\n"
     ]
    }
   ],
   "source": [
    "import matplotlib.pyplot as plt\n",
    "import numpy as np\n",
    "np.set_printoptions(precision=4)\n",
    "%matplotlib inline"
   ]
  },
  {
   "cell_type": "markdown",
   "metadata": {},
   "source": [
    "# Osnove objektnega programiranja\n",
    "osnove objekntega programiranja so razredi\n",
    "\n",
    "smisel: čim manjkrat eno stvar zapišemo in čim večkrat uporabimo\n",
    "\n",
    "dober primer: numpy numerično polje"
   ]
  },
  {
   "cell_type": "markdown",
   "metadata": {},
   "source": [
    "razred =! objekt\n",
    "\n",
    "razred je definicija objekta (razred je način, kar naredimo z razredom je objekt)\n",
    "\n",
    "objekti so instance razredov, ustvarimo jih s klicem razreda: objekt = Razred()"
   ]
  },
  {
   "cell_type": "markdown",
   "metadata": {},
   "source": [
    "class Razred:\n",
    "\n",
    "        ---\n",
    "        \n",
    "objekt = Razred(...) - razred kličemo kot funkcijo, to kar je v oklepajih gre v _ _init_ _ (konstruktor razreda), to je metoda, ki se vedno najprej izvede, ko kličemo razred, v bistvu kličemo metodo init našega razreda\n",
    "\n",
    "objekt.atribut\n",
    "\n",
    "objekt.metoda() - funkcija definirana znotraj razreda"
   ]
  },
  {
   "cell_type": "code",
   "execution_count": 22,
   "metadata": {},
   "outputs": [],
   "source": [
    "class Nakljucje:\n",
    "    '''Razred, ki izriše naključne točke..'''\n",
    "    \n",
    "    def __init__(self, N=5, x_obmocje=(0,1), y_obmocje=(0,1), stil='ro'): #to so privzeti podatki\n",
    "        self.N = N #to je atribut\n",
    "        self.stil = stil #self je refereca na objekt ki ga bomo ustvarili - je prost argument, je kot ime objekta\n",
    "        self.xrange = x_obmocje #ni potrabno da se enako imenuje - podatek x_obmocje smo shranili v self.xrange\n",
    "        self.yrange = y_obmocje\n",
    "        #če ustvarimo objekt haha = Nakljucje() postane atribut haha.N (zato je tam self)\n",
    "        \n",
    "    def izris(self):\n",
    "        '''Metoda razreda, ki izriše naključne točke'''\n",
    "        import numpy as np\n",
    "        import matplotlib.pyplot as plt\n",
    "        \n",
    "        self.X = np.linspace(self.xrange[0], self.xrange[1], self.N)\n",
    "        self.Y = np.random.rand(self.N)*(self.yrange[1]-self.yrange[0]) + self.yrange[0] #random samo med 0 in 1 - zato prištejemo območje\n",
    "        \n",
    "        self.slika = plt.figure()\n",
    "        ax = plt.subplot()\n",
    "        ax.plot(self.X, self.Y, self.stil)\n",
    "        \n",
    "        #N #nima veze z objektom\n",
    "        #self.N "
   ]
  },
  {
   "cell_type": "code",
   "execution_count": 7,
   "metadata": {},
   "outputs": [
    {
     "data": {
      "text/plain": [
       "{'N': 19, 'stil': 'k', 'xrange': (0, 1), 'yrange': (0, 1)}"
      ]
     },
     "execution_count": 7,
     "metadata": {},
     "output_type": "execute_result"
    }
   ],
   "source": [
    "objekt_nakljucje = Nakljucje(N=19, stil='k') #ostalo privzeto \n",
    "objekt_nakljucje.__dict__ #nam pove seznam atributov objekta"
   ]
  },
  {
   "cell_type": "code",
   "execution_count": 6,
   "metadata": {},
   "outputs": [
    {
     "data": {
      "text/plain": [
       "5"
      ]
     },
     "execution_count": 6,
     "metadata": {},
     "output_type": "execute_result"
    }
   ],
   "source": [
    "objekt_nakljucje.N #povsod v razredu piše objekt_nakljuce = self"
   ]
  },
  {
   "cell_type": "code",
   "execution_count": 8,
   "metadata": {
    "collapsed": true
   },
   "outputs": [],
   "source": [
    "n2 = Nakljucje() #namesto self piše n2, še vedno obstajata oba objekta"
   ]
  },
  {
   "cell_type": "code",
   "execution_count": 9,
   "metadata": {},
   "outputs": [
    {
     "data": {
      "image/png": "[encoded data removed]",
      "text/plain": [
       "<matplotlib.figure.Figure at 0x7f559c4dc748>"
      ]
     },
     "metadata": {},
     "output_type": "display_data"
    }
   ],
   "source": [
    "objekt_nakljucje.izris()"
   ]
  },
  {
   "cell_type": "code",
   "execution_count": 10,
   "metadata": {},
   "outputs": [
    {
     "data": {
      "text/plain": [
       "{'N': 19,\n",
       " 'X': array([ 0.    ,  0.0556,  0.1111,  0.1667,  0.2222,  0.2778,  0.3333,\n",
       "         0.3889,  0.4444,  0.5   ,  0.5556,  0.6111,  0.6667,  0.7222,\n",
       "         0.7778,  0.8333,  0.8889,  0.9444,  1.    ]),\n",
       " 'Y': array([ 0.5783,  0.8827,  0.8346,  0.703 ,  0.084 ,  0.6635,  0.0499,\n",
       "         0.6994,  0.8093,  0.3133,  0.4445,  0.9439,  0.9143,  0.0388,\n",
       "         0.4553,  0.1089,  0.1987,  0.3746,  0.8421]),\n",
       " 'slika': <matplotlib.figure.Figure at 0x7f559c4dc748>,\n",
       " 'stil': 'k',\n",
       " 'xrange': (0, 1),\n",
       " 'yrange': (0, 1)}"
      ]
     },
     "execution_count": 10,
     "metadata": {},
     "output_type": "execute_result"
    }
   ],
   "source": [
    "objekt_nakljucje.__dict__ #teji x in y so koordinate točk"
   ]
  },
  {
   "cell_type": "code",
   "execution_count": 11,
   "metadata": {},
   "outputs": [
    {
     "data": {
      "text/plain": [
       "{'N': 40,\n",
       " 'X': array([ 0.    ,  0.0556,  0.1111,  0.1667,  0.2222,  0.2778,  0.3333,\n",
       "         0.3889,  0.4444,  0.5   ,  0.5556,  0.6111,  0.6667,  0.7222,\n",
       "         0.7778,  0.8333,  0.8889,  0.9444,  1.    ]),\n",
       " 'Y': array([ 0.5783,  0.8827,  0.8346,  0.703 ,  0.084 ,  0.6635,  0.0499,\n",
       "         0.6994,  0.8093,  0.3133,  0.4445,  0.9439,  0.9143,  0.0388,\n",
       "         0.4553,  0.1089,  0.1987,  0.3746,  0.8421]),\n",
       " 'slika': <matplotlib.figure.Figure at 0x7f559c4dc748>,\n",
       " 'stil': 'k',\n",
       " 'xrange': (0, 1),\n",
       " 'yrange': (0, 1)}"
      ]
     },
     "execution_count": 11,
     "metadata": {},
     "output_type": "execute_result"
    }
   ],
   "source": [
    "objekt_nakljucje.N = 40 #spremenimo N\n",
    "objekt_nakljucje.__dict__ #točke ostanejo iste - moramo klicati izris()"
   ]
  },
  {
   "cell_type": "code",
   "execution_count": 13,
   "metadata": {
    "scrolled": true
   },
   "outputs": [
    {
     "data": {
      "text/plain": [
       "{'N': 40,\n",
       " 'X': array([ 0.    ,  0.0256,  0.0513,  0.0769,  0.1026,  0.1282,  0.1538,\n",
       "         0.1795,  0.2051,  0.2308,  0.2564,  0.2821,  0.3077,  0.3333,\n",
       "         0.359 ,  0.3846,  0.4103,  0.4359,  0.4615,  0.4872,  0.5128,\n",
       "         0.5385,  0.5641,  0.5897,  0.6154,  0.641 ,  0.6667,  0.6923,\n",
       "         0.7179,  0.7436,  0.7692,  0.7949,  0.8205,  0.8462,  0.8718,\n",
       "         0.8974,  0.9231,  0.9487,  0.9744,  1.    ]),\n",
       " 'Y': array([ 0.0287,  0.6709,  0.0502,  0.4531,  0.5121,  0.2999,  0.2323,\n",
       "         0.4916,  0.0582,  0.6948,  0.642 ,  0.1839,  0.0673,  0.6167,\n",
       "         0.6789,  0.2044,  0.9156,  0.6975,  0.9991,  0.3955,  0.5581,\n",
       "         0.2338,  0.7992,  0.6886,  0.7296,  0.9699,  0.6379,  0.1879,\n",
       "         0.2627,  0.0771,  0.6719,  0.1873,  0.0369,  0.9998,  0.7849,\n",
       "         0.9388,  0.014 ,  0.6638,  0.4377,  0.2753]),\n",
       " 'slika': <matplotlib.figure.Figure at 0x7f559c1f2fd0>,\n",
       " 'stil': 'k',\n",
       " 'xrange': (0, 1),\n",
       " 'yrange': (0, 1)}"
      ]
     },
     "execution_count": 13,
     "metadata": {},
     "output_type": "execute_result"
    },
    {
     "data": {
      "image/png": "[encoded data removed]",
      "text/plain": [
       "<matplotlib.figure.Figure at 0x7f559c1f2fd0>"
      ]
     },
     "metadata": {},
     "output_type": "display_data"
    }
   ],
   "source": [
    "objekt_nakljucje.izris()\n",
    "objekt_nakljucje.__dict__"
   ]
  },
  {
   "cell_type": "code",
   "execution_count": 15,
   "metadata": {},
   "outputs": [
    {
     "data": {
      "image/png": "[encoded data removed]",
      "text/plain": [
       "<matplotlib.figure.Figure at 0x7f559c1a8390>"
      ]
     },
     "metadata": {},
     "output_type": "display_data"
    }
   ],
   "source": [
    "objekt_2 = Nakljucje(50, (10,100), (0,5), stil='c*')\n",
    "objekt_2.izris()"
   ]
  },
  {
   "cell_type": "markdown",
   "metadata": {},
   "source": [
    "# Vprašanje"
   ]
  },
  {
   "cell_type": "code",
   "execution_count": 17,
   "metadata": {},
   "outputs": [
    {
     "data": {
      "text/plain": [
       "{'N': 50,\n",
       " 'X': array([  10.    ,   11.8367,   13.6735,   15.5102,   17.3469,   19.1837,\n",
       "          21.0204,   22.8571,   24.6939,   26.5306,   28.3673,   30.2041,\n",
       "          32.0408,   33.8776,   35.7143,   37.551 ,   39.3878,   41.2245,\n",
       "          43.0612,   44.898 ,   46.7347,   48.5714,   50.4082,   52.2449,\n",
       "          54.0816,   55.9184,   57.7551,   59.5918,   61.4286,   63.2653,\n",
       "          65.102 ,   66.9388,   68.7755,   70.6122,   72.449 ,   74.2857,\n",
       "          76.1224,   77.9592,   79.7959,   81.6327,   83.4694,   85.3061,\n",
       "          87.1429,   88.9796,   90.8163,   92.6531,   94.4898,   96.3265,\n",
       "          98.1633,  100.    ]),\n",
       " 'Y': array([ 0.8141,  4.9397,  1.315 ,  2.2942,  3.9577,  3.7951,  1.0638,\n",
       "         4.2207,  0.2268,  0.0943,  0.9695,  4.0245,  4.8451,  0.5193,\n",
       "         2.2347,  3.3222,  4.4946,  2.7057,  3.1007,  2.6884,  1.0503,\n",
       "         3.0406,  4.8534,  1.6566,  0.0937,  4.5399,  0.2862,  4.4381,\n",
       "         2.5397,  3.5849,  1.7781,  0.5619,  3.9512,  3.5056,  4.7983,\n",
       "         3.9084,  1.5547,  3.5855,  4.342 ,  2.4786,  3.598 ,  4.5542,\n",
       "         3.2006,  0.484 ,  3.4219,  4.0803,  3.3856,  1.8144,  1.8496,\n",
       "         0.1127]),\n",
       " 'slika': <matplotlib.figure.Figure at 0x7f559c1a8390>,\n",
       " 'stil': 'c*',\n",
       " 'xrange': (10, 100),\n",
       " 'yrange': (0, 5)}"
      ]
     },
     "execution_count": 17,
     "metadata": {},
     "output_type": "execute_result"
    }
   ],
   "source": [
    "objekt_2.__dict__"
   ]
  },
  {
   "cell_type": "code",
   "execution_count": 18,
   "metadata": {},
   "outputs": [
    {
     "data": {
      "text/plain": [
       "[<matplotlib.lines.Line2D at 0x7f5594eb6160>]"
      ]
     },
     "execution_count": 18,
     "metadata": {},
     "output_type": "execute_result"
    },
    {
     "data": {
      "image/png": "[encoded data removed]",
      "text/plain": [
       "<matplotlib.figure.Figure at 0x7f559c0d6278>"
      ]
     },
     "metadata": {},
     "output_type": "display_data"
    }
   ],
   "source": [
    "plt.plot(objekt_2.X, objekt_2.Y, objekt_2.stil) #če želimo izrisati v matplotlib"
   ]
  },
  {
   "cell_type": "code",
   "execution_count": 19,
   "metadata": {},
   "outputs": [
    {
     "data": {
      "text/plain": [
       "'c*'"
      ]
     },
     "execution_count": 19,
     "metadata": {},
     "output_type": "execute_result"
    }
   ],
   "source": [
    "objekt_2.stil #to so navadne pythonove spremenljivke"
   ]
  },
  {
   "cell_type": "markdown",
   "metadata": {},
   "source": [
    "# Dedovanje"
   ]
  },
  {
   "cell_type": "code",
   "execution_count": 23,
   "metadata": {
    "collapsed": true
   },
   "outputs": [],
   "source": [
    "class Nakljucje2(Nakljucje): #za katerim razredom dedujemo\n",
    "    \n",
    "    def __init__(self, nov_N=15, x_obmocje=(0,1), y_obmocje=(0,1), nov_stil='ro'):\n",
    "        super().__init__(N=nov_N, x_obmocje=x_obmocje, y_obmocje=y_obmocje, stil=nov_stil) #tukaj ni self, definiramo nove spremenljivke v starem\n",
    "        super().izris() #se takoj kliče ta funkcija ki jo deduje iz drugega razreda"
   ]
  },
  {
   "cell_type": "code",
   "execution_count": 24,
   "metadata": {},
   "outputs": [
    {
     "data": {
      "image/png": "[encoded data removed]",
      "text/plain": [
       "<matplotlib.figure.Figure at 0x7f559c2023c8>"
      ]
     },
     "metadata": {},
     "output_type": "display_data"
    }
   ],
   "source": [
    "objekt3 = Nakljucje2()"
   ]
  },
  {
   "cell_type": "markdown",
   "metadata": {},
   "source": [
    "# Vprašanja"
   ]
  },
  {
   "cell_type": "code",
   "execution_count": 31,
   "metadata": {
    "collapsed": true
   },
   "outputs": [],
   "source": [
    "class KompleksnoStevilo:\n",
    "    \n",
    "    def __init__(self, re=1, im=1): #to so samo vrednosti ki so vnešene v objekt\n",
    "        self.re = re #sedaj definiramo spremenljivke v razredu\n",
    "        self.im = im"
   ]
  },
  {
   "cell_type": "code",
   "execution_count": 38,
   "metadata": {
    "collapsed": true
   },
   "outputs": [],
   "source": [
    "ks = KompleksnoStevilo(re=-10, im=5) #ko kličemo razred v bistvu kličemo funkcijo __init__ -> self = ks"
   ]
  },
  {
   "cell_type": "code",
   "execution_count": 28,
   "metadata": {},
   "outputs": [
    {
     "data": {
      "text/plain": [
       "-10"
      ]
     },
     "execution_count": 28,
     "metadata": {},
     "output_type": "execute_result"
    }
   ],
   "source": [
    "ks.re"
   ]
  },
  {
   "cell_type": "code",
   "execution_count": 29,
   "metadata": {},
   "outputs": [
    {
     "data": {
      "text/plain": [
       "5"
      ]
     },
     "execution_count": 29,
     "metadata": {},
     "output_type": "execute_result"
    }
   ],
   "source": [
    "ks.im"
   ]
  },
  {
   "cell_type": "code",
   "execution_count": 36,
   "metadata": {
    "collapsed": true
   },
   "outputs": [],
   "source": [
    "class KompleksnoStevilo:\n",
    "    \n",
    "    def __init__(self, re=1, im=1):\n",
    "        self.re = re\n",
    "        self.im = im\n",
    "        \n",
    "    def izpisi(self): #lahko damo __repr__ namesto izpisi -> damo print(ks) - in izpise = specialna funkcija\n",
    "        print(f'{self.re} + {self.im}i') #v tej funkciji spremenljivke re in im niso definirane!"
   ]
  },
  {
   "cell_type": "code",
   "execution_count": 39,
   "metadata": {},
   "outputs": [
    {
     "name": "stdout",
     "output_type": "stream",
     "text": [
      "-10 + 5i\n"
     ]
    }
   ],
   "source": [
    "ks.izpisi()"
   ]
  },
  {
   "cell_type": "code",
   "execution_count": 43,
   "metadata": {
    "collapsed": true
   },
   "outputs": [],
   "source": [
    "class RealnoStevilo(KompleksnoStevilo): #deduje za razredom KompleksnoStevilo\n",
    "    \n",
    "    def __init__(self, realni_del):\n",
    "        super().__init__(re=realni_del, im=0)\n",
    "    \n",
    "    def izpisi(self):\n",
    "        print(self.re) #lahko tudi spremenimo metode"
   ]
  },
  {
   "cell_type": "code",
   "execution_count": 44,
   "metadata": {},
   "outputs": [
    {
     "name": "stdout",
     "output_type": "stream",
     "text": [
      "5\n"
     ]
    }
   ],
   "source": [
    "r = RealnoStevilo(5)\n",
    "r.izpisi() #ima to metodo ki jo je podedoval"
   ]
  },
  {
   "cell_type": "markdown",
   "metadata": {},
   "source": [
    "# SymPy\n",
    "sympy je počasneši kot numpy\n",
    "\n",
    "numpy - daš vrednost in ti vrne drugo vrednost - neve nič o funkciji - tudi funkcije ki jih matematilno ne znamo rešit - približki\n",
    "\n",
    "sympy - pozna funkcije kot pri matematiki, ve odvode, ničle, integrale\n",
    "\n",
    "NUMERIČNE METODE =! SYMPY"
   ]
  },
  {
   "cell_type": "code",
   "execution_count": 45,
   "metadata": {
    "collapsed": true
   },
   "outputs": [],
   "source": [
    "import sympy as sym\n",
    "sym.init_printing()"
   ]
  },
  {
   "cell_type": "code",
   "execution_count": 58,
   "metadata": {
    "collapsed": true
   },
   "outputs": [],
   "source": [
    "x, a, b, c = sym.symbols('x, alpha, b c', real=True) #definiranje simbolov, vsi simboli so realna števila ->prebere tudi brez vejic"
   ]
  },
  {
   "cell_type": "code",
   "execution_count": 59,
   "metadata": {},
   "outputs": [
    {
     "data": {
      "image/png": "[encoded data removed]",
      "text/latex": [
       "$$\\alpha x^{2} + b x + c$$"
      ],
      "text/plain": [
       "   2          \n",
       "α⋅x  + b⋅x + c"
      ]
     },
     "execution_count": 59,
     "metadata": {},
     "output_type": "execute_result"
    }
   ],
   "source": [
    "polinom = a*x**2 + b*x + c #zapisovanje simbolnih izrazov\n",
    "polinom"
   ]
  },
  {
   "cell_type": "code",
   "execution_count": 61,
   "metadata": {},
   "outputs": [
    {
     "data": {
      "image/png": "[encoded data removed]",
      "text/latex": [
       "$$2 \\alpha$$"
      ],
      "text/plain": [
       "2⋅α"
      ]
     },
     "execution_count": 61,
     "metadata": {},
     "output_type": "execute_result"
    }
   ],
   "source": [
    "odvod = sym.diff(polinom, x, 2) #ali sym.diff(polinom, x, x)\n",
    "odvod"
   ]
  },
  {
   "cell_type": "code",
   "execution_count": 63,
   "metadata": {},
   "outputs": [
    {
     "data": {
      "image/png": "[encoded data removed]",
      "text/latex": [
       "$$2 \\alpha x$$"
      ],
      "text/plain": [
       "2⋅α⋅x"
      ]
     },
     "execution_count": 63,
     "metadata": {},
     "output_type": "execute_result"
    }
   ],
   "source": [
    "integral = sym.integrate(odvod, x) #constanto ne napiše - dodaj ročno če rabiš!!\n",
    "integral"
   ]
  },
  {
   "cell_type": "code",
   "execution_count": 65,
   "metadata": {},
   "outputs": [
    {
     "data": {
      "image/png": "[encoded data removed]",
      "text/latex": [
       "$$\\alpha x^{2} + b x + c = 0$$"
      ],
      "text/plain": [
       "   2              \n",
       "α⋅x  + b⋅x + c = 0"
      ]
     },
     "execution_count": 65,
     "metadata": {},
     "output_type": "execute_result"
    }
   ],
   "source": [
    "enacba = sym.Eq(polinom, 0)\n",
    "enacba"
   ]
  },
  {
   "cell_type": "code",
   "execution_count": 68,
   "metadata": {},
   "outputs": [
    {
     "data": {
      "image/png": "[encoded data removed]",
      "text/latex": [
       "$$\\frac{1}{2 \\alpha} \\left(- b + \\sqrt{- 4 \\alpha c + b^{2}}\\right)$$"
      ],
      "text/plain": [
       "        _____________\n",
       "       ╱           2 \n",
       "-b + ╲╱  -4⋅α⋅c + b  \n",
       "─────────────────────\n",
       "         2⋅α         "
      ]
     },
     "execution_count": 68,
     "metadata": {},
     "output_type": "execute_result"
    }
   ],
   "source": [
    "resitvi = sym.solve(enacba, x)\n",
    "resitvi[0] #dobimo seznam"
   ]
  },
  {
   "cell_type": "code",
   "execution_count": 75,
   "metadata": {},
   "outputs": [
    {
     "data": {
      "image/png": "[encoded data removed]",
      "text/latex": [
       "$$0.152320142583671$$"
      ],
      "text/plain": [
       "0.152320142583671"
      ]
     },
     "execution_count": 75,
     "metadata": {},
     "output_type": "execute_result"
    }
   ],
   "source": [
    "podatki = {a: 1, b: -10, c: 1.5}\n",
    "min([resitev.subs(podatki) for resitev in resitvi])"
   ]
  },
  {
   "cell_type": "code",
   "execution_count": 76,
   "metadata": {},
   "outputs": [
    {
     "data": {
      "image/png": "[encoded data removed]",
      "text/latex": [
       "$$\\frac{\\sqrt{2}}{2}$$"
      ],
      "text/plain": [
       "√2\n",
       "──\n",
       "2 "
      ]
     },
     "execution_count": 76,
     "metadata": {},
     "output_type": "execute_result"
    }
   ],
   "source": [
    "izraz = sym.Rational(1, 2) * sym.sqrt(2)\n",
    "izraz"
   ]
  },
  {
   "cell_type": "code",
   "execution_count": 78,
   "metadata": {},
   "outputs": [
    {
     "data": {
      "image/png": "[encoded data removed]",
      "text/latex": [
       "$$0.70711$$"
      ],
      "text/plain": [
       "0.70711"
      ]
     },
     "execution_count": 78,
     "metadata": {},
     "output_type": "execute_result"
    }
   ],
   "source": [
    "izraz.evalf(n=5) #ali evalf(5)"
   ]
  },
  {
   "cell_type": "markdown",
   "metadata": {},
   "source": [
    "# Vprašanja"
   ]
  },
  {
   "cell_type": "code",
   "execution_count": 87,
   "metadata": {
    "collapsed": true
   },
   "outputs": [],
   "source": [
    "m, x, t, k = sym.symbols('m, x, t, k', positive=True, real=True)\n",
    "x = x(t) #x je funkcija časa"
   ]
  },
  {
   "cell_type": "code",
   "execution_count": 90,
   "metadata": {},
   "outputs": [
    {
     "data": {
      "image/png": "[encoded data removed]",
      "text/latex": [
       "$$\\frac{m}{2} \\left(\\frac{d}{d t} x{\\left (t \\right )}\\right)^{2}$$"
      ],
      "text/plain": [
       "            2\n",
       "  ⎛d       ⎞ \n",
       "m⋅⎜──(x(t))⎟ \n",
       "  ⎝dt      ⎠ \n",
       "─────────────\n",
       "      2      "
      ]
     },
     "execution_count": 90,
     "metadata": {},
     "output_type": "execute_result"
    }
   ],
   "source": [
    "Ek = m * sym.diff(x, t)**2 / 2\n",
    "Ek"
   ]
  },
  {
   "cell_type": "code",
   "execution_count": 91,
   "metadata": {},
   "outputs": [
    {
     "data": {
      "image/png": "[encoded data removed]",
      "text/latex": [
       "$$\\frac{k}{2} x^{2}{\\left (t \\right )}$$"
      ],
      "text/plain": [
       "   2   \n",
       "k⋅x (t)\n",
       "───────\n",
       "   2   "
      ]
     },
     "execution_count": 91,
     "metadata": {},
     "output_type": "execute_result"
    }
   ],
   "source": [
    "Ep = k * x**2 /2\n",
    "Ep"
   ]
  },
  {
   "cell_type": "code",
   "execution_count": 92,
   "metadata": {},
   "outputs": [
    {
     "data": {
      "image/png": "[encoded data removed]",
      "text/latex": [
       "$$- \\frac{k}{2} x^{2}{\\left (t \\right )} + \\frac{m}{2} \\left(\\frac{d}{d t} x{\\left (t \\right )}\\right)^{2}$$"
      ],
      "text/plain": [
       "                        2\n",
       "              ⎛d       ⎞ \n",
       "     2      m⋅⎜──(x(t))⎟ \n",
       "  k⋅x (t)     ⎝dt      ⎠ \n",
       "- ─────── + ─────────────\n",
       "     2            2      "
      ]
     },
     "execution_count": 92,
     "metadata": {},
     "output_type": "execute_result"
    }
   ],
   "source": [
    "L = Ek - Ep\n",
    "L"
   ]
  },
  {
   "cell_type": "code",
   "execution_count": 107,
   "metadata": {},
   "outputs": [
    {
     "data": {
      "image/png": "[encoded data removed]",
      "text/latex": [
       "$$k x{\\left (t \\right )} + m \\frac{d^{2}}{d t^{2}}  x{\\left (t \\right )} = 0$$"
      ],
      "text/plain": [
       "             2          \n",
       "            d           \n",
       "k⋅x(t) + m⋅───(x(t)) = 0\n",
       "             2          \n",
       "           dt           "
      ]
     },
     "execution_count": 107,
     "metadata": {},
     "output_type": "execute_result"
    }
   ],
   "source": [
    "notranji = sym.diff(L, sym.diff(x,t))\n",
    "prvi_clen = sym.diff(notranji, t)\n",
    "drugi_clen = sym.diff(L,x)\n",
    "izraz = prvi_clen - drugi_clen\n",
    "\n",
    "de = sym.Eq(izraz,0) #gibalna enacba sistema mase in vzmeti\n",
    "de"
   ]
  },
  {
   "cell_type": "code",
   "execution_count": 108,
   "metadata": {
    "scrolled": true
   },
   "outputs": [
    {
     "data": {
      "image/png": "[encoded data removed]",
      "text/latex": [
       "$$x{\\left (t \\right )} = C_{1} \\sin{\\left (\\frac{\\sqrt{k} t}{\\sqrt{m}} \\right )} + C_{2} \\cos{\\left (\\frac{\\sqrt{k} t}{\\sqrt{m}} \\right )}$$"
      ],
      "text/plain": [
       "             ⎛√k⋅t⎞         ⎛√k⋅t⎞\n",
       "x(t) = C₁⋅sin⎜────⎟ + C₂⋅cos⎜────⎟\n",
       "             ⎝ √m ⎠         ⎝ √m ⎠"
      ]
     },
     "execution_count": 108,
     "metadata": {},
     "output_type": "execute_result"
    }
   ],
   "source": [
    "resitev = sym.dsolve(de)\n",
    "resitev"
   ]
  },
  {
   "cell_type": "code",
   "execution_count": 109,
   "metadata": {},
   "outputs": [
    {
     "data": {
      "image/png": "[encoded data removed]",
      "text/latex": [
       "$$x{\\left (t \\right )} = C_{1} \\sin{\\left (t w \\right )} + C_{2} \\cos{\\left (t w \\right )}$$"
      ],
      "text/plain": [
       "x(t) = C₁⋅sin(t⋅w) + C₂⋅cos(t⋅w)"
      ]
     },
     "execution_count": 109,
     "metadata": {},
     "output_type": "execute_result"
    }
   ],
   "source": [
    "w = sym.symbols('w')\n",
    "resitev = resitev.subs(sym.sqrt(k/m), w) #w = lastna frekvenca nihala\n",
    "resitev"
   ]
  },
  {
   "cell_type": "code",
   "execution_count": 111,
   "metadata": {},
   "outputs": [
    {
     "data": {
      "image/png": "[encoded data removed]",
      "text/latex": [
       "$$\\left ( x{\\left (t \\right )}, \\quad C_{1} \\sin{\\left (t w \\right )} + C_{2} \\cos{\\left (t w \\right )}\\right )$$"
      ],
      "text/plain": [
       "(x(t), C₁⋅sin(t⋅w) + C₂⋅cos(t⋅w))"
      ]
     },
     "execution_count": 111,
     "metadata": {},
     "output_type": "execute_result"
    }
   ],
   "source": [
    "resitev.args"
   ]
  },
  {
   "cell_type": "code",
   "execution_count": 110,
   "metadata": {},
   "outputs": [
    {
     "data": {
      "image/png": "[encoded data removed]",
      "text/latex": [
       "$$C_{1} \\sin{\\left (t w \\right )} + C_{2} \\cos{\\left (t w \\right )}$$"
      ],
      "text/plain": [
       "C₁⋅sin(t⋅w) + C₂⋅cos(t⋅w)"
      ]
     },
     "execution_count": 110,
     "metadata": {},
     "output_type": "execute_result"
    }
   ],
   "source": [
    "pomik = resitev.args[1] #desna stran enacbe shranimo v spremenljivko pomik\n",
    "pomik"
   ]
  },
  {
   "cell_type": "code",
   "execution_count": 112,
   "metadata": {
    "collapsed": true
   },
   "outputs": [],
   "source": [
    "#C1, C2 - nepoznamo -> začetna pogoja pomik in hitrost\n",
    "v0 = 0 #odvod poti po času\n",
    "x0 = 1"
   ]
  },
  {
   "cell_type": "code",
   "execution_count": 114,
   "metadata": {},
   "outputs": [
    {
     "data": {
      "image/png": "[encoded data removed]",
      "text/latex": [
       "$$C_{2} = 1$$"
      ],
      "text/plain": [
       "C₂ = 1"
      ]
     },
     "execution_count": 114,
     "metadata": {},
     "output_type": "execute_result"
    }
   ],
   "source": [
    "sym.Eq(pomik.subs(t, 0), 1)"
   ]
  },
  {
   "cell_type": "code",
   "execution_count": 116,
   "metadata": {},
   "outputs": [
    {
     "data": {
      "image/png": "[encoded data removed]",
      "text/latex": [
       "$$1$$"
      ],
      "text/plain": [
       "1"
      ]
     },
     "execution_count": 116,
     "metadata": {},
     "output_type": "execute_result"
    }
   ],
   "source": [
    "C2 = sym.solve(sym.Eq(pomik.subs(t, 0), 1), 'C2')[0] #ker C2 nismo nikjer definirali ko simbol zapišemo kot niz\n",
    "C2"
   ]
  },
  {
   "cell_type": "code",
   "execution_count": 121,
   "metadata": {},
   "outputs": [
    {
     "data": {
      "image/png": "[encoded data removed]",
      "text/latex": [
       "$$0$$"
      ],
      "text/plain": [
       "0"
      ]
     },
     "execution_count": 121,
     "metadata": {},
     "output_type": "execute_result"
    }
   ],
   "source": [
    "C1 = sym.solve(sym.Eq(pomik.diff(t).subs(t, 0), v0), 'C1')[0]\n",
    "C1"
   ]
  },
  {
   "cell_type": "code",
   "execution_count": 124,
   "metadata": {},
   "outputs": [
    {
     "data": {
      "image/png": "[encoded data removed]",
      "text/latex": [
       "$$\\cos{\\left (2 \\pi t \\right )}$$"
      ],
      "text/plain": [
       "cos(2⋅π⋅t)"
      ]
     },
     "execution_count": 124,
     "metadata": {},
     "output_type": "execute_result"
    }
   ],
   "source": [
    "x_t = pomik.subs({'C1': C1, 'C2': C2, w: 2*sym.pi}) #C1 in C2 simbolov nismo definirali\n",
    "x_t"
   ]
  },
  {
   "cell_type": "code",
   "execution_count": 127,
   "metadata": {},
   "outputs": [
    {
     "data": {
      "image/png": "[encoded data removed]",
      "text/plain": [
       "<matplotlib.figure.Figure at 0x7f5594e894a8>"
      ]
     },
     "metadata": {},
     "output_type": "display_data"
    },
    {
     "data": {
      "text/plain": [
       "<sympy.plotting.plot.Plot at 0x7f55a4a37f98>"
      ]
     },
     "execution_count": 127,
     "metadata": {},
     "output_type": "execute_result"
    }
   ],
   "source": [
    "sym.plot(x_t, (t, 0, 2)) #ni potrebno linspace območja - za simbolno je dovolj"
   ]
  },
  {
   "cell_type": "code",
   "execution_count": 129,
   "metadata": {},
   "outputs": [
    {
     "data": {
      "image/png": "[encoded data removed]",
      "text/latex": [
       "$$0.25$$"
      ],
      "text/plain": [
       "0.25000"
      ]
     },
     "execution_count": 129,
     "metadata": {},
     "output_type": "execute_result"
    }
   ],
   "source": [
    "min(sym.solve(sym.Eq(x_t, 0))).evalf(5) #2 od neskončno mnogo rešitev, min = najmanšji čas ko doseže x = 0"
   ]
  },
  {
   "cell_type": "code",
   "execution_count": 133,
   "metadata": {},
   "outputs": [
    {
     "data": {
      "image/png": "[encoded data removed]",
      "text/latex": [
       "$$0.8090169944$$"
      ],
      "text/plain": [
       "0.8090169944"
      ]
     },
     "execution_count": 133,
     "metadata": {},
     "output_type": "execute_result"
    }
   ],
   "source": [
    "cas = 0.9\n",
    "x_t.subs(t, cas).evalf(10) #pomik pri času t=0.9"
   ]
  },
  {
   "cell_type": "code",
   "execution_count": 134,
   "metadata": {},
   "outputs": [
    {
     "data": {
      "image/png": "[encoded data removed]",
      "text/latex": [
       "$$\\cos{\\left (2 \\pi t \\right )}$$"
      ],
      "text/plain": [
       "cos(2⋅π⋅t)"
      ]
     },
     "execution_count": 134,
     "metadata": {},
     "output_type": "execute_result"
    }
   ],
   "source": [
    "x_t"
   ]
  },
  {
   "cell_type": "code",
   "execution_count": 135,
   "metadata": {
    "collapsed": true
   },
   "outputs": [],
   "source": [
    "#za miljon vrednosti bolj smiselno numpy kot sympy - hitreje, ni potrebno subs in evalf\n",
    "#lambdify je funkcija ki iz simbolnega izraza naredi numerično funkcijo\n",
    "funkcija_pomika = sym.lambdify(t, x_t, modules='numpy') #prva vrednost sympy simbol, ki nastopa v x_t, uporabi numpyeve vrednosti - npr pi, sin - že privzeto"
   ]
  },
  {
   "cell_type": "code",
   "execution_count": 136,
   "metadata": {
    "collapsed": true
   },
   "outputs": [],
   "source": [
    "?funkcija_pomika()"
   ]
  },
  {
   "cell_type": "code",
   "execution_count": 143,
   "metadata": {},
   "outputs": [
    {
     "data": {
      "text/plain": [
       "[<matplotlib.lines.Line2D at 0x7f558f2a3eb8>]"
      ]
     },
     "execution_count": 143,
     "metadata": {},
     "output_type": "execute_result"
    },
    {
     "data": {
      "image/png": "[encoded data removed]",
      "text/plain": [
       "<matplotlib.figure.Figure at 0x7f558f2c05f8>"
      ]
     },
     "metadata": {},
     "output_type": "display_data"
    }
   ],
   "source": [
    "t = np.linspace(0, 2 ,1000)\n",
    "X = funkcija_pomika(t)\n",
    "\n",
    "plt.plot(t, X)"
   ]
  },
  {
   "cell_type": "code",
   "execution_count": null,
   "metadata": {
    "collapsed": true
   },
   "outputs": [],
   "source": []
  }
 ],
 "metadata": {
  "kernelspec": {
   "display_name": "Python 3",
   "language": "python",
   "name": "python3"
  },
  "language_info": {
   "codemirror_mode": {
    "name": "ipython",
    "version": 3
   },
   "file_extension": ".py",
   "mimetype": "text/x-python",
   "name": "python",
   "nbconvert_exporter": "python",
   "pygments_lexer": "ipython3",
   "version": "3.6.2"
  }
 },
 "nbformat": 4,
 "nbformat_minor": 2
}
