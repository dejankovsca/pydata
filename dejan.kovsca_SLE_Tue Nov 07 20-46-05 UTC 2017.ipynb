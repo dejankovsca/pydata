{
 "cells": [
  {
   "cell_type": "code",
   "execution_count": 1,
   "metadata": {},
   "outputs": [
    {
     "name": "stdout",
     "output_type": "stream",
     "text": [
      "Downloading file: mojladisksi.py\n"
     ]
    }
   ],
   "source": [
    "from sync import sync\n",
    "sync('/moj.ladisk.si/mojladisksi.py')\n",
    "from mojladisksi import poslji\n",
    "import numpy as np"
   ]
  },
  {
   "cell_type": "markdown",
   "metadata": {},
   "source": [
    "# SLE\n",
    "\n",
    "Kovšca Dejan, 23160187, dejan.kovsca@gmail.com\n",
    "\n",
    "Pričetek reševanja: Tue Nov 07 20:46:05 UTC 2017"
   ]
  },
  {
   "cell_type": "markdown",
   "metadata": {},
   "source": [
    "Prikazan je tokokrog z dvema zankama $z_1$ in $z_2$, ter z dvema vozliščema $k_1$ in $k_2$. Enačbe v tokokrogih postavimo s pomočjo Kirchhoffovega tokovnega zakona (vsota tokov v vozliščih je enaka nič) in Kirchhoffovega napetostnega zakona  (padec napetosti v zanki je enak gonilni napetosti). Napetost na uporih izračunamo po Ohmovem zakonu ($u=i\\,R$). "
   ]
  },
  {
   "cell_type": "markdown",
   "metadata": {},
   "source": [
    "<img width=500 src='dejan.kovsca_SLE_Tue Nov 07 20-46-05 UTC 2017.jpg'>"
   ]
  },
  {
   "cell_type": "code",
   "execution_count": null,
   "metadata": {
    "collapsed": true
   },
   "outputs": [],
   "source": [
    "i_1 - i_2 + i_3 = 0 #Kirchhoffov tokovni zakon k1\n",
    "-u_1 + R_1*i_1 + R_3*i_2 -u_2 + R_4*i_1 = 0 #z1\n",
    "-u_2 + R_5*i_3 + R_2*i_3 + R_3*i_2 = 0 #z2"
   ]
  },
  {
   "cell_type": "code",
   "execution_count": 2,
   "metadata": {
    "collapsed": true
   },
   "outputs": [],
   "source": [
    "R_1 = 90 # Ohm\n",
    "R_2 = 220 # Ohm\n",
    "R_3 = 180 # Ohm\n",
    "R_4 = 290 # Ohm\n",
    "R_5 = 100 # Ohm\n",
    "u_1 = 30 # V\n",
    "u_2 = 140 # V"
   ]
  },
  {
   "cell_type": "markdown",
   "metadata": {},
   "source": [
    "### 1. vprašanje\n",
    "\n",
    " Pri LU razcepu dobimo zgorne trikotno in spodnje trikotno matriko. (1: Da, 2: Ne)\n",
    "\n",
    "Število poskusov: 1."
   ]
  },
  {
   "cell_type": "code",
   "execution_count": 2,
   "metadata": {
    "collapsed": true
   },
   "outputs": [],
   "source": [
    "odgovor1 = 1#?"
   ]
  },
  {
   "cell_type": "code",
   "execution_count": 3,
   "metadata": {},
   "outputs": [
    {
     "name": "stdout",
     "output_type": "stream",
     "text": [
      "Pravilna rešitev. Uspeh: 100%. Preostali čas: 2dni,15ur, 55min\n"
     ]
    }
   ],
   "source": [
    "poslji(odgovor1, id=505560641741914112, st=0)"
   ]
  },
  {
   "cell_type": "markdown",
   "metadata": {},
   "source": [
    "### 2. vprašanje\n",
    "\n",
    " Podani so upori $R_1$, $R_2$, $R_3$, $R_4$, $R_5$ in gonilni napetosti $u_1$ in $u_2$. Nastavite sistem linarnih enačb v križišču $k_1$ in zankah $z_1$ in $z_2$. Tukaj najprej vpišite vektor neznank (kot string, ločene z vejico, abecedni vrstni red). \n",
    "\n",
    "Število poskusov: 3, enote:  A, A, A"
   ]
  },
  {
   "cell_type": "code",
   "execution_count": null,
   "metadata": {
    "collapsed": true
   },
   "outputs": [],
   "source": [
    "i_1 - i_2 + i_3 = 0 #Kirchhoffov tokovni zakon k1\n",
    "-u_1 + R_1*i_1 + R_3*i_2 -u_2 + R_4*i_1 = 0 #z1\n",
    "-u_2 + R_5*i_3 + R_2*i_3 + R_3*i_2 = 0 #z2"
   ]
  },
  {
   "cell_type": "code",
   "execution_count": 3,
   "metadata": {
    "collapsed": true
   },
   "outputs": [],
   "source": [
    "vektor_neznank = 'i_1, i_2, i_3'"
   ]
  },
  {
   "cell_type": "code",
   "execution_count": 4,
   "metadata": {},
   "outputs": [
    {
     "data": {
      "text/plain": [
       "'i_1, i_2, i_3'"
      ]
     },
     "execution_count": 4,
     "metadata": {},
     "output_type": "execute_result"
    }
   ],
   "source": [
    "odgovor2 = vektor_neznank#?\n",
    "odgovor2"
   ]
  },
  {
   "cell_type": "code",
   "execution_count": 35,
   "metadata": {},
   "outputs": [
    {
     "name": "stdout",
     "output_type": "stream",
     "text": [
      "Pravilna rešitev. Uspeh: 33%. Preostali čas: 8dni,9ur, 38min\n"
     ]
    }
   ],
   "source": [
    "poslji(odgovor2, id=605560641741914112, st=1)"
   ]
  },
  {
   "cell_type": "markdown",
   "metadata": {},
   "source": [
    "### 3. vprašanje\n",
    "\n",
    " Določite matriko koeficientov! Zaradi enoličnosti rešitve naj bodo na diagonali koeficienti $[1,R_3,R_2+R_5]$\n",
    "\n",
    "Število poskusov: 3, enote:  Po vrsticah: 1, Ohm, Ohm"
   ]
  },
  {
   "cell_type": "code",
   "execution_count": null,
   "metadata": {
    "collapsed": true
   },
   "outputs": [],
   "source": [
    "i_1 - i_2 + i_3 = 0 #Kirchhoffov tokovni zakon k1\n",
    "-u_1 + R_1*i_1 + R_3*i_2 -u_2 + R_4*i_1 = 0 #z1\n",
    "-u_2 + R_5*i_3 + R_2*i_3 + R_3*i_2 = 0 #z2"
   ]
  },
  {
   "cell_type": "code",
   "execution_count": 5,
   "metadata": {
    "collapsed": true
   },
   "outputs": [],
   "source": [
    "A = np.array([[1, -1, 1],\n",
    "             [R_1+R_4, R_3, 0],\n",
    "             [0, R_3, R_2+R_5]])"
   ]
  },
  {
   "cell_type": "code",
   "execution_count": 6,
   "metadata": {},
   "outputs": [
    {
     "data": {
      "text/plain": [
       "array([[  1,  -1,   1],\n",
       "       [380, 180,   0],\n",
       "       [  0, 180, 320]])"
      ]
     },
     "execution_count": 6,
     "metadata": {},
     "output_type": "execute_result"
    }
   ],
   "source": [
    "odgovor3 = A#?\n",
    "odgovor3"
   ]
  },
  {
   "cell_type": "code",
   "execution_count": 7,
   "metadata": {},
   "outputs": [
    {
     "name": "stdout",
     "output_type": "stream",
     "text": [
      "Pravilna rešitev. Uspeh: 50%. Preostali čas: 7dni,14ur, 25min\n"
     ]
    }
   ],
   "source": [
    "poslji(odgovor3, id=105560641741914112, st=2)"
   ]
  },
  {
   "cell_type": "markdown",
   "metadata": {},
   "source": [
    "### 4. vprašanje\n",
    "\n",
    " Določite vektor konstant!\n",
    "\n",
    "Število poskusov: 3, enote:  A,V,V"
   ]
  },
  {
   "cell_type": "code",
   "execution_count": null,
   "metadata": {
    "collapsed": true
   },
   "outputs": [],
   "source": [
    "i_1 - i_2 + i_3 = 0 #Kirchhoffov tokovni zakon k1\n",
    "-u_1 + R_1*i_1 + R_3*i_2 -u_2 + R_4*i_1 = 0 #z1\n",
    "-u_2 + R_5*i_3 + R_2*i_3 + R_3*i_2 = 0 #z2"
   ]
  },
  {
   "cell_type": "code",
   "execution_count": 8,
   "metadata": {
    "collapsed": true
   },
   "outputs": [],
   "source": [
    "b = np.array([0, u_1+u_2, u_2])"
   ]
  },
  {
   "cell_type": "code",
   "execution_count": 9,
   "metadata": {},
   "outputs": [
    {
     "data": {
      "text/plain": [
       "array([  0, 170, 140])"
      ]
     },
     "execution_count": 9,
     "metadata": {},
     "output_type": "execute_result"
    }
   ],
   "source": [
    "odgovor4 = b#?\n",
    "odgovor4"
   ]
  },
  {
   "cell_type": "code",
   "execution_count": 29,
   "metadata": {},
   "outputs": [
    {
     "name": "stdout",
     "output_type": "stream",
     "text": [
      "Pravilna rešitev. Uspeh: 16%. Preostali čas: 8dni,9ur, 41min\n"
     ]
    }
   ],
   "source": [
    "poslji(odgovor4, id=405560641741914112, st=3)"
   ]
  },
  {
   "cell_type": "markdown",
   "metadata": {},
   "source": [
    "### 5. vprašanje\n",
    "\n",
    " Določite rešitev sistema linearnih enačb.\n",
    "\n",
    "Število poskusov: 3, enote:  A, A, A"
   ]
  },
  {
   "cell_type": "code",
   "execution_count": 10,
   "metadata": {
    "collapsed": true
   },
   "outputs": [],
   "source": [
    "x = np.linalg.solve(A, b)"
   ]
  },
  {
   "cell_type": "code",
   "execution_count": 11,
   "metadata": {},
   "outputs": [
    {
     "data": {
      "text/plain": [
       "array([ 0.24151858,  0.43457189,  0.19305331])"
      ]
     },
     "execution_count": 11,
     "metadata": {},
     "output_type": "execute_result"
    }
   ],
   "source": [
    "odgovor5 = x#?\n",
    "odgovor5"
   ]
  },
  {
   "cell_type": "code",
   "execution_count": 12,
   "metadata": {},
   "outputs": [
    {
     "name": "stdout",
     "output_type": "stream",
     "text": [
      "Pravilna rešitev. Uspeh: 66%. Preostali čas: 7dni,14ur, 24min\n"
     ]
    }
   ],
   "source": [
    "poslji(odgovor5, id=805560641741914112, st=4)"
   ]
  },
  {
   "cell_type": "markdown",
   "metadata": {},
   "source": [
    "### 6. vprašanje\n",
    "\n",
    " Določite skalarni produkt prve in tretje vrstice matrike koeficientov!\n",
    "\n",
    "Število poskusov: 3."
   ]
  },
  {
   "cell_type": "code",
   "execution_count": 13,
   "metadata": {
    "collapsed": true
   },
   "outputs": [],
   "source": [
    "skalarni = A[0] @ A[2]"
   ]
  },
  {
   "cell_type": "code",
   "execution_count": 14,
   "metadata": {},
   "outputs": [
    {
     "data": {
      "text/plain": [
       "140"
      ]
     },
     "execution_count": 14,
     "metadata": {},
     "output_type": "execute_result"
    }
   ],
   "source": [
    "odgovor6 = skalarni#?\n",
    "odgovor6"
   ]
  },
  {
   "cell_type": "code",
   "execution_count": 15,
   "metadata": {},
   "outputs": [
    {
     "name": "stdout",
     "output_type": "stream",
     "text": [
      "Pravilna rešitev. Uspeh: 83%. Preostali čas: 7dni,14ur, 23min\n"
     ]
    }
   ],
   "source": [
    "poslji(odgovor6, id=305560641741914112, st=5)"
   ]
  },
  {
   "cell_type": "code",
   "execution_count": null,
   "metadata": {
    "collapsed": true
   },
   "outputs": [],
   "source": []
  }
 ],
 "metadata": {
  "kernelspec": {
   "display_name": "Python 3",
   "language": "python",
   "name": "python3"
  },
  "language_info": {
   "codemirror_mode": {
    "name": "ipython",
    "version": 3
   },
   "file_extension": ".py",
   "mimetype": "text/x-python",
   "name": "python",
   "nbconvert_exporter": "python",
   "pygments_lexer": "ipython3",
   "version": "3.6.2"
  }
 },
 "nbformat": 4,
 "nbformat_minor": 1
}
